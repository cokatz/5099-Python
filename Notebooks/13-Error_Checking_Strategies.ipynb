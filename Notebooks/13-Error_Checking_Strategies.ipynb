{
 "cells": [
  {
   "cell_type": "markdown",
   "metadata": {},
   "source": [
    "# Error-Checking Strategies"
   ]
  },
  {
   "cell_type": "markdown",
   "metadata": {},
   "source": [
    "## Look before you leap (LBYL)"
   ]
  },
  {
   "cell_type": "code",
   "execution_count": 2,
   "metadata": {},
   "outputs": [],
   "source": [
    "def safe_divide_1(x, y):\n",
    "    if (y==0):\n",
    "        print(\"Divide-by-0 attempt detected\")\n",
    "        return None\n",
    "    else:\n",
    "        return x/y"
   ]
  },
  {
   "cell_type": "code",
   "execution_count": null,
   "metadata": {},
   "outputs": [],
   "source": [
    "print(safe_divide_1(6,3))"
   ]
  },
  {
   "cell_type": "code",
   "execution_count": 5,
   "metadata": {},
   "outputs": [
    {
     "name": "stdout",
     "output_type": "stream",
     "text": [
      "Divide-by-0 attempt detected\n",
      "None\n"
     ]
    }
   ],
   "source": [
    "print(safe_divide_1(1,0))"
   ]
  },
  {
   "cell_type": "markdown",
   "metadata": {},
   "source": [
    "##  Easier to ask forgiveness than permission (EAFP)"
   ]
  },
  {
   "cell_type": "code",
   "execution_count": null,
   "metadata": {},
   "outputs": [],
   "source": [
    "def safe_divide_2(x, y):\n",
    "    try:\n",
    "        return x/y\n",
    "    except ZeroDivisionError:  \n",
    "        print \"Divide-by-0 attempt detected\"\n",
    "        return None"
   ]
  },
  {
   "cell_type": "code",
   "execution_count": null,
   "metadata": {},
   "outputs": [],
   "source": [
    "print(safe_divide_2(6,3))"
   ]
  },
  {
   "cell_type": "code",
   "execution_count": null,
   "metadata": {},
   "outputs": [],
   "source": [
    "print(safe_divide_2(1,0))"
   ]
  },
  {
   "cell_type": "markdown",
   "metadata": {
    "colab_type": "text",
    "id": "8maMPjbu5rX-"
   },
   "source": [
    "# Exceptions"
   ]
  },
  {
   "cell_type": "markdown",
   "metadata": {
    "colab_type": "text",
    "id": "gxH2AKyT7Cdv"
   },
   "source": [
    "### Divide by zero\n",
    "\n",
    "- For example, dividing by zero creates an exception:\n",
    "\n",
    "```\n",
    ">>> print(1/0)\n",
    "Traceback (most recent call last):\n",
    "File \"<interactive input>\", line 1, in <module>\n",
    "ZeroDivisionError: integer division or modulo by zero\n",
    "```"
   ]
  },
  {
   "cell_type": "markdown",
   "metadata": {
    "colab_type": "text",
    "id": "zdz0Bg2HqFPV"
   },
   "source": [
    "Try it:"
   ]
  },
  {
   "cell_type": "code",
   "execution_count": 0,
   "metadata": {
    "colab": {},
    "colab_type": "code",
    "id": "TtjAcogPp8Rj"
   },
   "outputs": [],
   "source": [
    "print(1/0)"
   ]
  },
  {
   "cell_type": "markdown",
   "metadata": {
    "colab_type": "text",
    "id": "zJtbo2t76pYB"
   },
   "source": [
    "### Some Common Exceptions\n",
    "\n",
    "Here are some basic exceptions that you might encounter when\n",
    "writing programs:\n",
    "\n",
    "- `NameError` --- raised when the program cannot find a local or\n",
    "    global name\n",
    "\n",
    "- `TypeError` --- raised when a function is passed an object of the\n",
    "    inappropriate type as its argument\n",
    "\n",
    "- `ValueError` --- occurs when a function argument has the right type\n",
    "    but an inappropriate value\n",
    "\n",
    "- `ZeroDivisionError` --- raised when you provide the second argument\n",
    "    for a division or modulo operation as zero\n",
    "\n",
    "- `FileNotFoundError` --- raised when the file or directory that the\n",
    "    program requested does not exist"
   ]
  },
  {
   "cell_type": "markdown",
   "metadata": {
    "colab_type": "text",
    "id": "2mzLdOQU5vtW"
   },
   "source": [
    "## E.1 Catching exceptions"
   ]
  },
  {
   "cell_type": "markdown",
   "metadata": {
    "colab_type": "text",
    "id": "oL_JQkfa6z2X"
   },
   "source": [
    "### Runtime errors\n",
    "\n",
    "- Whenever a runtime error occurs, it creates an **exception** object\n",
    "\n",
    "- The program stops running at this point and Python prints out the\n",
    "    traceback, which ends with a message describing the exception that\n",
    "    occurred\n",
    "\n",
    "- The error message on the last line has two parts: \n",
    "\n",
    "  - the type of error before the colon, and \n",
    "  - specifics about the error after the colon\n",
    "\n",
    "```\n",
    "   >>> tup = (\"a\", \"b\", \"d\", \"d\")\n",
    "   >>> tup[2] = \"c\"\n",
    "   Traceback (most recent call last):\n",
    "     File \"<interactive input>\", line 1, in <module>\n",
    "   TypeError: 'tuple' object does not support item assignment\n",
    "```"
   ]
  },
  {
   "cell_type": "markdown",
   "metadata": {
    "colab_type": "text",
    "id": "AoJDfqp37c68"
   },
   "source": [
    "### Catching exceptions\n",
    "\n",
    "- Sometimes we want to execute an operation that might cause an\n",
    "    exception, but we don't want the program to stop\n",
    "\n",
    "- We can handle the exception using the `try` statement to \"wrap\" a\n",
    "    region of code\n",
    "\n",
    "- The `except` statement *catches* the exception\n",
    "\n",
    "```\n",
    "  filename = input(\"Enter a file name: \")\n",
    "  try:\n",
    "      f = open(filename, \"r\")\n",
    "  except FileNotFoundError:\n",
    "      print(\"There is no file named\", filename)\n",
    "```\n",
    "\n",
    "- An `else` block is executed after the `try` one, if no exception\n",
    "    occurred\n",
    "\n",
    "- A `finally` block is executed in any case\n",
    "\n"
   ]
  },
  {
   "cell_type": "markdown",
   "metadata": {
    "colab_type": "text",
    "id": "NKsYN39PxAau"
   },
   "source": [
    "### Use of the optional `else` clause\n",
    "\n",
    "> The use of the `else` clause is better than adding additional code to the `try` clause because it avoids accidentally catching an exception that wasn’t raised by the code being protected by the `try ... except` statement."
   ]
  },
  {
   "cell_type": "markdown",
   "metadata": {
    "colab_type": "text",
    "id": "GmnVDfk6r6vu"
   },
   "source": [
    "Try this:"
   ]
  },
  {
   "cell_type": "code",
   "execution_count": 0,
   "metadata": {
    "colab": {},
    "colab_type": "code",
    "id": "Ww7MIgDTr8mj"
   },
   "outputs": [],
   "source": [
    "user_input = input(\"Type a number: \")\n",
    "\n",
    "try:\n",
    "    # Try do do something that could fail.\n",
    "    user_input_as_number = float(user_input)\n",
    "except ValueError:\n",
    "    # This will be executed if a \"ValueError\" is raised\n",
    "    print(\"You did not enter a number.\")\n",
    "else:\n",
    "    # This will be executed if not exception got raised in the \"try\"\n",
    "    print(\"The square of your number is \", user_input_as_number**2)\n",
    "finally:\n",
    "    # This will be executed whether or not an exception is raised\n",
    "    print(\"Thank you.\")"
   ]
  },
  {
   "cell_type": "markdown",
   "metadata": {
    "colab_type": "text",
    "id": "YOjTB1oD77Jg"
   },
   "source": [
    "### Catching exceptions\n",
    "\n",
    "![image](images/13/realpython.png)\n"
   ]
  },
  {
   "cell_type": "markdown",
   "metadata": {
    "colab_type": "text",
    "id": "9JrY4KXX9cKd"
   },
   "source": [
    "### A Complete Example"
   ]
  },
  {
   "cell_type": "code",
   "execution_count": 0,
   "metadata": {
    "colab": {},
    "colab_type": "code",
    "id": "_Sy7--6L9hJ-"
   },
   "outputs": [],
   "source": [
    "import math\n",
    " \n",
    "number_list = [10, -5, 1.2, 'apple']\n",
    " \n",
    "for number in number_list:\n",
    "    try:\n",
    "        number_factorial = math.factorial(number)\n",
    "    except TypeError:\n",
    "        print(\"Factorial is not supported for given input type.\")\n",
    "    except ValueError:\n",
    "        print(\"Factorial only accepts positive integer values.\", number, \" is not a positive integer.\")\n",
    "    else:\n",
    "        print(\"The factorial of\", number, \"is\", number_factorial)\n",
    "    finally:\n",
    "        print(\"Release any resources in use.\")"
   ]
  },
  {
   "cell_type": "markdown",
   "metadata": {
    "colab_type": "text",
    "id": "3Pu5kVhr5zMl"
   },
   "source": [
    "## E.2 Raising exceptions"
   ]
  },
  {
   "cell_type": "markdown",
   "metadata": {
    "colab_type": "text",
    "id": "jJ670867-Oqj"
   },
   "source": [
    "### Raising our own exceptions\n",
    "\n",
    "- Can our program deliberately cause its own exceptions?\n",
    "\n",
    "- If our program detects an error condition, we can raise an exception\n",
    "\n",
    "- If there's a chain of calls, \"*unwinding the call stack*\" takes\n",
    "    place until a `try ... except` is found\n",
    "\n",
    "```\n",
    "  def get_age():\n",
    "      age = int(input(\"Please enter your age: \"))\n",
    "      if age < 0:\n",
    "          # Create a new instance of an exception\n",
    "          my_error = ValueError(\"{0} is not a valid age\".format(age))\n",
    "          raise my_error\n",
    "      return age\n",
    "```\n"
   ]
  },
  {
   "cell_type": "markdown",
   "metadata": {
    "colab_type": "text",
    "id": "Jv0pWmDysyC7"
   },
   "source": [
    "Test for a valid age."
   ]
  },
  {
   "cell_type": "code",
   "execution_count": 0,
   "metadata": {
    "colab": {},
    "colab_type": "code",
    "id": "V__D7Ng_tD5p"
   },
   "outputs": [],
   "source": [
    "def get_age(age):\n",
    "    if age < 0 or age > 120:\n",
    "        # Create a new instance of an exception\n",
    "        my_error = ValueError(\"{0} is not a valid age\".format(age))\n",
    "        raise my_error\n",
    "    return age\n",
    "\n",
    "age = int(input(\"Please enter your age: \"))\n",
    "print(get_age(age))"
   ]
  },
  {
   "cell_type": "markdown",
   "metadata": {
    "colab_type": "text",
    "id": "Pasl9ZGIyH0B"
   },
   "source": [
    "### Further to `raise`\n",
    "\n",
    "- Programs may name their own exceptions by creating a new exception class (see [Classes](https://docs.python.org/3/tutorial/classes.html#tut-classes) for more about Python classes). \n",
    "\n",
    "- Exceptions should typically be derived from the `Exception` class, either directly or indirectly.\n"
   ]
  },
  {
   "cell_type": "markdown",
   "metadata": {
    "colab_type": "text",
    "id": "780WFi1k56bG"
   },
   "source": [
    "## E.3 The `finally` clause of the `try` statement"
   ]
  },
  {
   "cell_type": "markdown",
   "metadata": {
    "colab_type": "text",
    "id": "UfF9uvny_GdJ"
   },
   "source": [
    "### `finally`\n",
    "\n",
    "- A common programming pattern is to grab a resource of some kind\n",
    "\n",
    "- Then we perform some computation which may raise an exception, or\n",
    "    may work without any problems\n",
    "\n",
    "- Whatever happens, we want to \"clean up\" the resources we grabbed\n"
   ]
  },
  {
   "cell_type": "markdown",
   "metadata": {
    "colab_type": "text",
    "id": "ADPN5Qef59xX"
   },
   "source": [
    "## The `assert` statement"
   ]
  },
  {
   "cell_type": "markdown",
   "metadata": {
    "colab_type": "text",
    "id": "HEyehW0c_PSc"
   },
   "source": [
    "### Assertions\n",
    "\n",
    "- Assertions are statements that assert or state a fact\n",
    "\n",
    "- Assertions are simply boolean expressions that checks if the\n",
    "    conditions return true or not: if it's false, the program stops and\n",
    "    throws an error\n",
    "\n",
    "- `assert` statement takes an expression and optional message\n",
    "\n",
    "- Assertions are used to check types, values of argument and the\n",
    "    output of the function\n",
    "\n",
    "- Assertions are used as debugging tool as it halts the program at the\n",
    "    point where an error occurs\n"
   ]
  },
  {
   "cell_type": "markdown",
   "metadata": {
    "colab_type": "text",
    "id": "taoBE-HOI43o"
   },
   "source": [
    "Use assert:"
   ]
  },
  {
   "cell_type": "code",
   "execution_count": 0,
   "metadata": {
    "colab": {},
    "colab_type": "code",
    "id": "AMlTfRgNI-Wt"
   },
   "outputs": [],
   "source": [
    "def avg(marks):\n",
    "    # Cannot divide by zero\n",
    "    assert len(marks) != 0, \"List is empty.\"\n",
    "    return sum(marks)/len(marks)"
   ]
  },
  {
   "cell_type": "code",
   "execution_count": 0,
   "metadata": {
    "colab": {},
    "colab_type": "code",
    "id": "5CyYK5YGJJyZ"
   },
   "outputs": [],
   "source": [
    "mark2 = [55, 88, 78, 90, 79]\n",
    "print(\"Average of mark2:\", avg(mark2))"
   ]
  },
  {
   "cell_type": "code",
   "execution_count": 0,
   "metadata": {
    "colab": {},
    "colab_type": "code",
    "id": "kI0hVQAhJOYS"
   },
   "outputs": [],
   "source": [
    "mark1 = []\n",
    "print(\"Average of mark1:\", avg(mark1))"
   ]
  },
  {
   "cell_type": "markdown",
   "metadata": {
    "colab_type": "text",
    "id": "9UikHuJm6D10"
   },
   "source": [
    "## Examples & Summary"
   ]
  },
  {
   "cell_type": "markdown",
   "metadata": {
    "colab_type": "text",
    "id": "yoBPaWeQ_qwU"
   },
   "source": [
    "### The Most Diabolical Python Antipattern\n",
    "\n",
    "- There are plenty of ways to write bad code. But in Python, one in\n",
    "    particular reigns as king\n",
    "\n",
    "```\n",
    "  try:\n",
    "      do_something()\n",
    "  except:\n",
    "      pass\n",
    "```"
   ]
  },
  {
   "cell_type": "markdown",
   "metadata": {
    "colab_type": "text",
    "id": "OrlgCsDq_3nl"
   },
   "source": [
    "### Validate user input\n",
    "\n",
    "```\n",
    "  def inputNumber(message):\n",
    "      while True:\n",
    "          try:\n",
    "              userInput = int(input(message))       \n",
    "          except ValueError:\n",
    "              print(\"Not an integer! Try again.\")\n",
    "              continue\n",
    "          else:\n",
    "              return userInput \n",
    "\n",
    "  age = inputNumber(\"How old are you?\")\n",
    "```"
   ]
  },
  {
   "cell_type": "markdown",
   "metadata": {
    "colab_type": "text",
    "id": "yxv_I7GoAOsR"
   },
   "source": [
    "### Summing Up\n",
    "\n",
    "- After seeing the difference between syntax errors and exceptions,\n",
    "    you learned about various ways to raise, catch, and handle\n",
    "    exceptions in Python:\n",
    "\n",
    "    - `raise` allows you to throw an exception at any time\n",
    "\n",
    "    - `assert` enables you to verify if a certain condition is met and\n",
    "        throw an exception if it isn't\n",
    "\n",
    "    - In the `try` clause, all statements are executed until an\n",
    "        exception is encountered\n",
    "\n",
    "    - `except` is used to catch and handle the exception(s) that are\n",
    "        encountered in the `try` clause\n",
    "\n",
    "    - `else` lets you code sections that should run only when no\n",
    "        exceptions are encountered in the try clause\n",
    "\n",
    "    - `finally` enables you to execute sections of code that should\n",
    "        always run, with or without any previously encountered\n",
    "        exceptions"
   ]
  }
 ],
 "metadata": {
  "colab": {
   "collapsed_sections": [],
   "name": "24-exceptions.ipynb",
   "private_outputs": true,
   "provenance": [],
   "toc_visible": true
  },
  "kernelspec": {
   "display_name": "Python 3",
   "language": "python",
   "name": "python3"
  },
  "language_info": {
   "codemirror_mode": {
    "name": "ipython",
    "version": 3
   },
   "file_extension": ".py",
   "mimetype": "text/x-python",
   "name": "python",
   "nbconvert_exporter": "python",
   "pygments_lexer": "ipython3",
   "version": "3.7.4"
  }
 },
 "nbformat": 4,
 "nbformat_minor": 1
}
