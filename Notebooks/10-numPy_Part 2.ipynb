{
 "cells": [
  {
   "cell_type": "markdown",
   "metadata": {},
   "source": [
    "## NumPy\n",
    "\n",
    "### np.where(), np.any(), np.all()"
   ]
  },
  {
   "cell_type": "markdown",
   "metadata": {},
   "source": [
    "### Extract elements that satisfy the conditions\n",
    "\n",
    "If you want to extract elements that meet the condition, you can use `ndarray[conditional expression]`.\n",
    "\n",
    "Even if the original ndarray is a multidimensional array, a flattened one-dimensional array is returned."
   ]
  },
  {
   "cell_type": "code",
   "execution_count": null,
   "metadata": {},
   "outputs": [],
   "source": [
    "import numpy as np"
   ]
  },
  {
   "cell_type": "code",
   "execution_count": null,
   "metadata": {},
   "outputs": [],
   "source": [
    "a = np.arange(12).reshape((3, 4))\n",
    "print(a)"
   ]
  },
  {
   "cell_type": "code",
   "execution_count": null,
   "metadata": {},
   "outputs": [],
   "source": [
    "print(a < 5)\n",
    "\n",
    "print(a[a < 5])\n",
    "\n",
    "print(a < 10)\n",
    "\n",
    "print(a[a < 10])"
   ]
  },
  {
   "cell_type": "markdown",
   "metadata": {},
   "source": [
    "A new `ndarray` is returned and the original `ndarray` is unchanged. "
   ]
  },
  {
   "cell_type": "code",
   "execution_count": null,
   "metadata": {},
   "outputs": [],
   "source": [
    "b = a[a < 10]\n",
    "print(b)\n",
    "\n",
    "\n",
    "print(a)\n"
   ]
  },
  {
   "cell_type": "markdown",
   "metadata": {},
   "source": [
    "## Extract rows and columns that satisfy the conditions\n",
    "\n",
    "In the example of extracting elements, a one-dimensional array is returned, but if you use `np.all()` and `np.any()`, you can extract rows and columns while keeping the original ndarray dimension."
   ]
  },
  {
   "cell_type": "markdown",
   "metadata": {},
   "source": [
    "### All elements satisfy the condition: numpy.all()\n",
    "\n",
    "`np.all()` is a function that returns `True` when all elements of `ndarray` passed to the first parameter are `True`, and returns `False` otherwise.\n",
    "\n",
    "If you specify the parameter `axis`, it returns `True` if all elements are `True` for each `axis`. In the case of a two-dimensional array, the result is for columns when `axis=0` and for rows when `axis=1`."
   ]
  },
  {
   "cell_type": "code",
   "execution_count": null,
   "metadata": {},
   "outputs": [],
   "source": [
    "print(a)\n",
    "\n",
    "print(a < 5)\n",
    "\n",
    "\n",
    "print(np.all(a < 5))\n",
    "\n",
    "\n",
    "print(np.all(a < 5, axis=0))\n",
    "\n",
    "\n",
    "print(np.all(a < 5, axis=1))\n",
    "\n",
    "\n",
    "print(a < 10)\n",
    "\n",
    "\n",
    "print(np.all(a < 10, axis=0))\n",
    "\n",
    "\n",
    "print(np.all(a < 10, axis=1))\n"
   ]
  },
  {
   "cell_type": "markdown",
   "metadata": {},
   "source": [
    "Rows and columns are extracted by giving each result to `[rows, :]` or `[:, columns]`. For `[rows, :]`, the trailing , : can be omitted."
   ]
  },
  {
   "cell_type": "code",
   "execution_count": null,
   "metadata": {},
   "outputs": [],
   "source": [
    "print(a[:, np.all(a < 10, axis=0)])\n",
    "\n",
    "print(a[np.all(a < 10, axis=1), :])\n",
    "\n",
    "print(a[np.all(a < 10, axis=1)])"
   ]
  },
  {
   "cell_type": "markdown",
   "metadata": {},
   "source": [
    "If the condition is not met, an empty `ndarray` is returned."
   ]
  },
  {
   "cell_type": "code",
   "execution_count": null,
   "metadata": {},
   "outputs": [],
   "source": [
    "print(a[:, np.all(a < 5, axis=0)])"
   ]
  },
  {
   "cell_type": "markdown",
   "metadata": {},
   "source": [
    "### At least one element satisfies the condition: numpy.any()\n",
    "\n",
    "`np.any()` is a function that returns `True` when `ndarray` passed to the first parameter and contains at least one `True` element, and returns `False` otherwise.\n",
    "\n",
    "If you specify the parameter `axis`, it returns `True` if at least one element is `True` for each axis. In the case of a two-dimensional array, the result is for columns when `axis=0` and for rows when `axis=1`."
   ]
  },
  {
   "cell_type": "code",
   "execution_count": null,
   "metadata": {},
   "outputs": [],
   "source": [
    "print(a < 5)\n",
    "\n",
    "print(np.any(a < 5))\n",
    "\n",
    "print(np.any(a < 5, axis=0))\n",
    "\n",
    "print(np.any(a < 5, axis=1))"
   ]
  },
  {
   "cell_type": "markdown",
   "metadata": {},
   "source": [
    "You can extract rows and columns that match the conditions in the same way as `np.all()`."
   ]
  },
  {
   "cell_type": "code",
   "execution_count": null,
   "metadata": {},
   "outputs": [],
   "source": [
    "print(a[:, np.any(a < 5, axis=0)])\n",
    "\n",
    "print(a[np.any(a < 5, axis=1)])"
   ]
  },
  {
   "cell_type": "markdown",
   "metadata": {},
   "source": [
    "### np.where() \n",
    "\n",
    "returns the index of the element that satisfies the condition.\n",
    "\n",
    "In the case of a multidimensional array, a tuple of a list of indices (row number, column number) that satisfy the condition for each dimension (row, column) is returned."
   ]
  },
  {
   "cell_type": "code",
   "execution_count": null,
   "metadata": {},
   "outputs": [],
   "source": [
    "print(a)\n",
    "\n",
    "print(a < 2)\n",
    "\n",
    "print(np.where(a < 2))\n",
    "\n",
    "print(np.where(a < 2)[0])\n",
    "\n",
    "print(np.where(a < 2)[1])\n"
   ]
  },
  {
   "cell_type": "markdown",
   "metadata": {},
   "source": [
    "### Find index of a value in 2D Numpy array\n",
    "\n",
    "Let’s create a 2D numpy array"
   ]
  },
  {
   "cell_type": "code",
   "execution_count": null,
   "metadata": {},
   "outputs": [],
   "source": [
    "arr = np.array([[11, 12, 13],\n",
    "                [14, 15, 16],\n",
    "                [17, 15, 11],\n",
    "                [12, 14, 15]])"
   ]
  },
  {
   "cell_type": "markdown",
   "metadata": {},
   "source": [
    "Let’s find the indices of element with value 15 in this 2D numpy array"
   ]
  },
  {
   "cell_type": "code",
   "execution_count": null,
   "metadata": {},
   "outputs": [],
   "source": [
    "result = np.where(arr == 15)\n",
    " \n",
    "print('Tuple of arrays returned : ', result)"
   ]
  },
  {
   "cell_type": "markdown",
   "metadata": {},
   "source": [
    "It returns a tuple of arrays one for each dimension. Like in our case it’s a two dimension array, so `numpy.where()` will returns a tuple of two arrays.\n",
    "\n",
    "The first array represents the row indices where this value is found `array([1, 2, 3]`\n",
    "\n",
    "The second array represents the Column indices where this value is found 1 `array([1, 1, 2]`\n",
    "\n",
    "Length of both the arrays will be same. So to get the list of exact coordinates we can zip these arrays"
   ]
  },
  {
   "cell_type": "code",
   "execution_count": null,
   "metadata": {},
   "outputs": [],
   "source": [
    "listOfCoordinates= list(zip(result[0], result[1]))\n",
    "\n",
    "for cord in listOfCoordinates:\n",
    "    print(cord)"
   ]
  }
 ],
 "metadata": {
  "kernelspec": {
   "display_name": "Python 3",
   "language": "python",
   "name": "python3"
  },
  "language_info": {
   "codemirror_mode": {
    "name": "ipython",
    "version": 3
   },
   "file_extension": ".py",
   "mimetype": "text/x-python",
   "name": "python",
   "nbconvert_exporter": "python",
   "pygments_lexer": "ipython3",
   "version": "3.7.4"
  }
 },
 "nbformat": 4,
 "nbformat_minor": 2
}
