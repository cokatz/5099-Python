{
 "cells": [
  {
   "cell_type": "markdown",
   "metadata": {},
   "source": [
    "# Predicting Diabetes with Logistic Regression"
   ]
  },
  {
   "cell_type": "markdown",
   "metadata": {},
   "source": [
    "### We’ll be using Machine Learning to predict whether a person has diabetes or not, based on information about the patient such as blood pressure, body mass index (BMI), age, etc. \n",
    "\n",
    "- We will import pandas to read our data from a CSV file and manipulate it for further use. \n",
    "- We will use numpy to convert out data into a format suitable to feed our classification model. \n",
    "- We’ll use seaborn and matplotlib for visualizations.\n",
    "- We will then import Logistic Regression algorithm from sklearn. This algorithm will help us build our classification model."
   ]
  },
  {
   "cell_type": "code",
   "execution_count": 11,
   "metadata": {},
   "outputs": [],
   "source": [
    "import warnings\n",
    "warnings.filterwarnings('ignore')\n",
    "\n",
    "import pandas as pd\n",
    "import numpy as np\n",
    "import seaborn as sns\n",
    "import matplotlib.pyplot as plt\n",
    "%matplotlib inline\n",
    "\n",
    "from sklearn.linear_model import LogisticRegression\n",
    "from sklearn.svm import SVC\n"
   ]
  },
  {
   "cell_type": "code",
   "execution_count": 23,
   "metadata": {},
   "outputs": [
    {
     "name": "stdout",
     "output_type": "stream",
     "text": [
      "[[1 2]\n",
      " [3 4]]\n"
     ]
    },
    {
     "data": {
      "text/plain": [
       "array([1.5, 3.5])"
      ]
     },
     "execution_count": 23,
     "metadata": {},
     "output_type": "execute_result"
    }
   ],
   "source": [
    "a = np.array([[1, 2], [3, 4]])\n",
    "print(a)\n",
    "#np.mean(a, axis=0)\n",
    "np.mean(a, axis=1)\n"
   ]
  },
  {
   "cell_type": "markdown",
   "metadata": {},
   "source": [
    "## Dataset information:\n",
    "\n",
    "- This dataset is originally from the National Institute of Diabetes and Digestive and Kidney Diseases.\n",
    "Several constraints were placed on the selection of these instances from a larger database. \n",
    "In particular, all patients here are females at least 21 years old of Pima Indian heritage.\n",
    "\n",
    "\n",
    "- Pregnancies: Number of times pregnant\n",
    "\n",
    "- Glucose: Plasma glucose concentration a 2 hours in an oral glucose tolerance test\n",
    "\n",
    "- BloodPressure: Diastolic blood pressure (mm Hg)\n",
    "\n",
    "- SkinThickness: Triceps skin fold thickness (mm)\n",
    "\n",
    "- Insulin: 2-Hour serum insulin (mu U/ml)\n",
    "\n",
    "- BMI: Body mass index (weight in kg/(height in m)^2)\n",
    "\n",
    "- DiabetesPedigreeFunction: Diabetes pedigree function (a function which scores likelihood of diabetes based on family history)\n",
    "\n",
    "- Age: Age (years)\n",
    "\n",
    "- Outcome: Class variable (0 or 1)\n",
    "\n"
   ]
  },
  {
   "cell_type": "markdown",
   "metadata": {},
   "source": [
    "### Is our data is clean (has no null values, etc)?"
   ]
  },
  {
   "cell_type": "code",
   "execution_count": 12,
   "metadata": {},
   "outputs": [
    {
     "data": {
      "text/html": [
       "<div>\n",
       "<style scoped>\n",
       "    .dataframe tbody tr th:only-of-type {\n",
       "        vertical-align: middle;\n",
       "    }\n",
       "\n",
       "    .dataframe tbody tr th {\n",
       "        vertical-align: top;\n",
       "    }\n",
       "\n",
       "    .dataframe thead th {\n",
       "        text-align: right;\n",
       "    }\n",
       "</style>\n",
       "<table border=\"1\" class=\"dataframe\">\n",
       "  <thead>\n",
       "    <tr style=\"text-align: right;\">\n",
       "      <th></th>\n",
       "      <th>Pregnancies</th>\n",
       "      <th>Glucose</th>\n",
       "      <th>BloodPressure</th>\n",
       "      <th>SkinThickness</th>\n",
       "      <th>Insulin</th>\n",
       "      <th>BMI</th>\n",
       "      <th>DiabetesPedigreeFunction</th>\n",
       "      <th>Age</th>\n",
       "      <th>Outcome</th>\n",
       "    </tr>\n",
       "  </thead>\n",
       "  <tbody>\n",
       "    <tr>\n",
       "      <td>0</td>\n",
       "      <td>6</td>\n",
       "      <td>148</td>\n",
       "      <td>72</td>\n",
       "      <td>35</td>\n",
       "      <td>0</td>\n",
       "      <td>33.6</td>\n",
       "      <td>0.627</td>\n",
       "      <td>50</td>\n",
       "      <td>1</td>\n",
       "    </tr>\n",
       "    <tr>\n",
       "      <td>1</td>\n",
       "      <td>1</td>\n",
       "      <td>85</td>\n",
       "      <td>66</td>\n",
       "      <td>29</td>\n",
       "      <td>0</td>\n",
       "      <td>26.6</td>\n",
       "      <td>0.351</td>\n",
       "      <td>31</td>\n",
       "      <td>0</td>\n",
       "    </tr>\n",
       "    <tr>\n",
       "      <td>2</td>\n",
       "      <td>8</td>\n",
       "      <td>183</td>\n",
       "      <td>64</td>\n",
       "      <td>0</td>\n",
       "      <td>0</td>\n",
       "      <td>23.3</td>\n",
       "      <td>0.672</td>\n",
       "      <td>32</td>\n",
       "      <td>1</td>\n",
       "    </tr>\n",
       "    <tr>\n",
       "      <td>3</td>\n",
       "      <td>1</td>\n",
       "      <td>89</td>\n",
       "      <td>66</td>\n",
       "      <td>23</td>\n",
       "      <td>94</td>\n",
       "      <td>28.1</td>\n",
       "      <td>0.167</td>\n",
       "      <td>21</td>\n",
       "      <td>0</td>\n",
       "    </tr>\n",
       "    <tr>\n",
       "      <td>4</td>\n",
       "      <td>0</td>\n",
       "      <td>137</td>\n",
       "      <td>40</td>\n",
       "      <td>35</td>\n",
       "      <td>168</td>\n",
       "      <td>43.1</td>\n",
       "      <td>2.288</td>\n",
       "      <td>33</td>\n",
       "      <td>1</td>\n",
       "    </tr>\n",
       "  </tbody>\n",
       "</table>\n",
       "</div>"
      ],
      "text/plain": [
       "   Pregnancies  Glucose  BloodPressure  SkinThickness  Insulin   BMI  \\\n",
       "0            6      148             72             35        0  33.6   \n",
       "1            1       85             66             29        0  26.6   \n",
       "2            8      183             64              0        0  23.3   \n",
       "3            1       89             66             23       94  28.1   \n",
       "4            0      137             40             35      168  43.1   \n",
       "\n",
       "   DiabetesPedigreeFunction  Age  Outcome  \n",
       "0                     0.627   50        1  \n",
       "1                     0.351   31        0  \n",
       "2                     0.672   32        1  \n",
       "3                     0.167   21        0  \n",
       "4                     2.288   33        1  "
      ]
     },
     "execution_count": 12,
     "metadata": {},
     "output_type": "execute_result"
    }
   ],
   "source": [
    "diabetesDF = pd.read_csv('assets/diabetes.csv')\n",
    "diabetesDF.head()"
   ]
  },
  {
   "cell_type": "code",
   "execution_count": 5,
   "metadata": {},
   "outputs": [
    {
     "name": "stdout",
     "output_type": "stream",
     "text": [
      "<class 'pandas.core.frame.DataFrame'>\n",
      "RangeIndex: 768 entries, 0 to 767\n",
      "Data columns (total 9 columns):\n",
      "Pregnancies                 768 non-null int64\n",
      "Glucose                     768 non-null int64\n",
      "BloodPressure               768 non-null int64\n",
      "SkinThickness               768 non-null int64\n",
      "Insulin                     768 non-null int64\n",
      "BMI                         768 non-null float64\n",
      "DiabetesPedigreeFunction    768 non-null float64\n",
      "Age                         768 non-null int64\n",
      "Outcome                     768 non-null int64\n",
      "dtypes: float64(2), int64(7)\n",
      "memory usage: 54.1 KB\n"
     ]
    }
   ],
   "source": [
    "diabetesDF.info()"
   ]
  },
  {
   "cell_type": "markdown",
   "metadata": {},
   "source": [
    "### The data does have some missing values (see Insulin = 0) in the samples in the previous figure. Ideally we could replace these 0 values with the mean value (impute) for that feature, but we’ll skip that for now."
   ]
  },
  {
   "cell_type": "markdown",
   "metadata": {},
   "source": [
    "## Data Exploration\n",
    "\n",
    "Let us now explore our data set to get a feel of what it looks like and get some insights about it.\n",
    "Let’s start by finding correlation of every pair of features (and the outcome variable), and visualize the correlations using a heatmap.  In the heatmap, brighter colors indicate more correlation."
   ]
  },
  {
   "cell_type": "code",
   "execution_count": 6,
   "metadata": {},
   "outputs": [
    {
     "data": {
      "text/html": [
       "<div>\n",
       "<style scoped>\n",
       "    .dataframe tbody tr th:only-of-type {\n",
       "        vertical-align: middle;\n",
       "    }\n",
       "\n",
       "    .dataframe tbody tr th {\n",
       "        vertical-align: top;\n",
       "    }\n",
       "\n",
       "    .dataframe thead th {\n",
       "        text-align: right;\n",
       "    }\n",
       "</style>\n",
       "<table border=\"1\" class=\"dataframe\">\n",
       "  <thead>\n",
       "    <tr style=\"text-align: right;\">\n",
       "      <th></th>\n",
       "      <th>Pregnancies</th>\n",
       "      <th>Glucose</th>\n",
       "      <th>BloodPressure</th>\n",
       "      <th>SkinThickness</th>\n",
       "      <th>Insulin</th>\n",
       "      <th>BMI</th>\n",
       "      <th>DiabetesPedigreeFunction</th>\n",
       "      <th>Age</th>\n",
       "      <th>Outcome</th>\n",
       "    </tr>\n",
       "  </thead>\n",
       "  <tbody>\n",
       "    <tr>\n",
       "      <td>Pregnancies</td>\n",
       "      <td>1.000000</td>\n",
       "      <td>0.129459</td>\n",
       "      <td>0.141282</td>\n",
       "      <td>-0.081672</td>\n",
       "      <td>-0.073535</td>\n",
       "      <td>0.017683</td>\n",
       "      <td>-0.033523</td>\n",
       "      <td>0.544341</td>\n",
       "      <td>0.221898</td>\n",
       "    </tr>\n",
       "    <tr>\n",
       "      <td>Glucose</td>\n",
       "      <td>0.129459</td>\n",
       "      <td>1.000000</td>\n",
       "      <td>0.152590</td>\n",
       "      <td>0.057328</td>\n",
       "      <td>0.331357</td>\n",
       "      <td>0.221071</td>\n",
       "      <td>0.137337</td>\n",
       "      <td>0.263514</td>\n",
       "      <td>0.466581</td>\n",
       "    </tr>\n",
       "    <tr>\n",
       "      <td>BloodPressure</td>\n",
       "      <td>0.141282</td>\n",
       "      <td>0.152590</td>\n",
       "      <td>1.000000</td>\n",
       "      <td>0.207371</td>\n",
       "      <td>0.088933</td>\n",
       "      <td>0.281805</td>\n",
       "      <td>0.041265</td>\n",
       "      <td>0.239528</td>\n",
       "      <td>0.065068</td>\n",
       "    </tr>\n",
       "    <tr>\n",
       "      <td>SkinThickness</td>\n",
       "      <td>-0.081672</td>\n",
       "      <td>0.057328</td>\n",
       "      <td>0.207371</td>\n",
       "      <td>1.000000</td>\n",
       "      <td>0.436783</td>\n",
       "      <td>0.392573</td>\n",
       "      <td>0.183928</td>\n",
       "      <td>-0.113970</td>\n",
       "      <td>0.074752</td>\n",
       "    </tr>\n",
       "    <tr>\n",
       "      <td>Insulin</td>\n",
       "      <td>-0.073535</td>\n",
       "      <td>0.331357</td>\n",
       "      <td>0.088933</td>\n",
       "      <td>0.436783</td>\n",
       "      <td>1.000000</td>\n",
       "      <td>0.197859</td>\n",
       "      <td>0.185071</td>\n",
       "      <td>-0.042163</td>\n",
       "      <td>0.130548</td>\n",
       "    </tr>\n",
       "    <tr>\n",
       "      <td>BMI</td>\n",
       "      <td>0.017683</td>\n",
       "      <td>0.221071</td>\n",
       "      <td>0.281805</td>\n",
       "      <td>0.392573</td>\n",
       "      <td>0.197859</td>\n",
       "      <td>1.000000</td>\n",
       "      <td>0.140647</td>\n",
       "      <td>0.036242</td>\n",
       "      <td>0.292695</td>\n",
       "    </tr>\n",
       "    <tr>\n",
       "      <td>DiabetesPedigreeFunction</td>\n",
       "      <td>-0.033523</td>\n",
       "      <td>0.137337</td>\n",
       "      <td>0.041265</td>\n",
       "      <td>0.183928</td>\n",
       "      <td>0.185071</td>\n",
       "      <td>0.140647</td>\n",
       "      <td>1.000000</td>\n",
       "      <td>0.033561</td>\n",
       "      <td>0.173844</td>\n",
       "    </tr>\n",
       "    <tr>\n",
       "      <td>Age</td>\n",
       "      <td>0.544341</td>\n",
       "      <td>0.263514</td>\n",
       "      <td>0.239528</td>\n",
       "      <td>-0.113970</td>\n",
       "      <td>-0.042163</td>\n",
       "      <td>0.036242</td>\n",
       "      <td>0.033561</td>\n",
       "      <td>1.000000</td>\n",
       "      <td>0.238356</td>\n",
       "    </tr>\n",
       "    <tr>\n",
       "      <td>Outcome</td>\n",
       "      <td>0.221898</td>\n",
       "      <td>0.466581</td>\n",
       "      <td>0.065068</td>\n",
       "      <td>0.074752</td>\n",
       "      <td>0.130548</td>\n",
       "      <td>0.292695</td>\n",
       "      <td>0.173844</td>\n",
       "      <td>0.238356</td>\n",
       "      <td>1.000000</td>\n",
       "    </tr>\n",
       "  </tbody>\n",
       "</table>\n",
       "</div>"
      ],
      "text/plain": [
       "                          Pregnancies   Glucose  BloodPressure  SkinThickness  \\\n",
       "Pregnancies                  1.000000  0.129459       0.141282      -0.081672   \n",
       "Glucose                      0.129459  1.000000       0.152590       0.057328   \n",
       "BloodPressure                0.141282  0.152590       1.000000       0.207371   \n",
       "SkinThickness               -0.081672  0.057328       0.207371       1.000000   \n",
       "Insulin                     -0.073535  0.331357       0.088933       0.436783   \n",
       "BMI                          0.017683  0.221071       0.281805       0.392573   \n",
       "DiabetesPedigreeFunction    -0.033523  0.137337       0.041265       0.183928   \n",
       "Age                          0.544341  0.263514       0.239528      -0.113970   \n",
       "Outcome                      0.221898  0.466581       0.065068       0.074752   \n",
       "\n",
       "                           Insulin       BMI  DiabetesPedigreeFunction  \\\n",
       "Pregnancies              -0.073535  0.017683                 -0.033523   \n",
       "Glucose                   0.331357  0.221071                  0.137337   \n",
       "BloodPressure             0.088933  0.281805                  0.041265   \n",
       "SkinThickness             0.436783  0.392573                  0.183928   \n",
       "Insulin                   1.000000  0.197859                  0.185071   \n",
       "BMI                       0.197859  1.000000                  0.140647   \n",
       "DiabetesPedigreeFunction  0.185071  0.140647                  1.000000   \n",
       "Age                      -0.042163  0.036242                  0.033561   \n",
       "Outcome                   0.130548  0.292695                  0.173844   \n",
       "\n",
       "                               Age   Outcome  \n",
       "Pregnancies               0.544341  0.221898  \n",
       "Glucose                   0.263514  0.466581  \n",
       "BloodPressure             0.239528  0.065068  \n",
       "SkinThickness            -0.113970  0.074752  \n",
       "Insulin                  -0.042163  0.130548  \n",
       "BMI                       0.036242  0.292695  \n",
       "DiabetesPedigreeFunction  0.033561  0.173844  \n",
       "Age                       1.000000  0.238356  \n",
       "Outcome                   0.238356  1.000000  "
      ]
     },
     "execution_count": 6,
     "metadata": {},
     "output_type": "execute_result"
    }
   ],
   "source": [
    "corr = diabetesDF.corr()\n",
    "corr"
   ]
  },
  {
   "cell_type": "markdown",
   "metadata": {},
   "source": [
    "### Glucose levels, age, BMI and number of pregnancies all have significant correlation with the outcome variable"
   ]
  },
  {
   "cell_type": "code",
   "execution_count": 7,
   "metadata": {},
   "outputs": [
    {
     "data": {
      "text/plain": [
       "<matplotlib.axes._subplots.AxesSubplot at 0x185a0912408>"
      ]
     },
     "execution_count": 7,
     "metadata": {},
     "output_type": "execute_result"
    },
    {
     "data": {
      "image/png": "[encoded data removed]",
      "text/plain": [
       "<Figure size 432x288 with 2 Axes>"
      ]
     },
     "metadata": {
      "needs_background": "light"
     },
     "output_type": "display_data"
    }
   ],
   "source": [
    "sns.heatmap(corr, \n",
    "        xticklabels=corr.columns,\n",
    "        yticklabels=corr.columns)"
   ]
  },
  {
   "cell_type": "markdown",
   "metadata": {},
   "source": [
    "Let’s also look at how many people in the dataset are diabetic and how many are not."
   ]
  },
  {
   "cell_type": "code",
   "execution_count": 8,
   "metadata": {},
   "outputs": [
    {
     "data": {
      "text/plain": [
       "<matplotlib.axes._subplots.AxesSubplot at 0x185a0caf748>"
      ]
     },
     "execution_count": 8,
     "metadata": {},
     "output_type": "execute_result"
    },
    {
     "data": {
      "image/png": "[encoded data removed]",
      "text/plain": [
       "<Figure size 432x288 with 1 Axes>"
      ]
     },
     "metadata": {
      "needs_background": "light"
     },
     "output_type": "display_data"
    }
   ],
   "source": [
    "sns.countplot(x = 'Outcome', data = diabetesDF, palette = 'magma')"
   ]
  },
  {
   "cell_type": "markdown",
   "metadata": {},
   "source": [
    "It is also helpful to visualize relations between a single variable and the outcome. Below, we’ll see the relation between age and outcome."
   ]
  },
  {
   "cell_type": "code",
   "execution_count": 9,
   "metadata": {},
   "outputs": [
    {
     "data": {
      "text/plain": [
       "<matplotlib.axes._subplots.AxesSubplot at 0x185a0d42088>"
      ]
     },
     "execution_count": 9,
     "metadata": {},
     "output_type": "execute_result"
    },
    {
     "data": {
      "image/png": "[encoded data removed]",
      "text/plain": [
       "<Figure size 432x288 with 1 Axes>"
      ]
     },
     "metadata": {
      "needs_background": "light"
     },
     "output_type": "display_data"
    }
   ],
   "source": [
    "sns.barplot(x = 'Outcome', y = 'Age',  data = diabetesDF,\n",
    "            palette = 'hls',\n",
    "            order = [0, 1],  \n",
    "            capsize = 0.05,             \n",
    "            saturation = 8,             \n",
    "            errcolor = 'gray', errwidth = 2,  \n",
    "            ci = 'sd'   \n",
    "            )"
   ]
  },
  {
   "cell_type": "markdown",
   "metadata": {},
   "source": [
    "## Dataset Preparation (splitting and normalization)"
   ]
  },
  {
   "cell_type": "markdown",
   "metadata": {},
   "source": [
    "When using machine learning algorithms we should always split our data into a training set and test set. We will also separate out some data for manual cross checking.\n",
    "\n",
    "The data set consists of record of 768 patients in total. To train our model we will be using 650 records. We will be using 100 records for testing, and the last 18 records to cross check our model."
   ]
  },
  {
   "cell_type": "code",
   "execution_count": 13,
   "metadata": {},
   "outputs": [],
   "source": [
    "#Total 768 patients record\n",
    "#Using 650 data for training\n",
    "# Using 100 data for testing\n",
    "#Using 18 data for checking\n",
    "insulin_nonzero_mean = diabetesDF['Insulin'].replace(0,np.nan).mean(skipna=True)\n",
    "diabetesDF['Insulin'] = diabetesDF['Insulin'].replace(0, insulin_nonzero_mean)\n",
    "\n",
    "dfTrain = diabetesDF[:650]\n",
    "dfTest = diabetesDF[650:750]\n",
    "dfCheck = diabetesDF[750:]"
   ]
  },
  {
   "cell_type": "markdown",
   "metadata": {},
   "source": [
    "Next, we separate the label and features (for both training and test dataset). In addition to that, we will also convert them into NumPy arrays as our machine learning algorithm process data in NumPy array format."
   ]
  },
  {
   "cell_type": "code",
   "execution_count": 14,
   "metadata": {},
   "outputs": [],
   "source": [
    "#Separating label and features and converting to numpy array to feed into our model\n",
    "trainLabel = np.asarray(dfTrain['Outcome'])\n",
    "trainData = np.asarray(dfTrain.drop('Outcome',1))\n",
    "testLabel = np.asarray(dfTest['Outcome'])\n",
    "testData = np.asarray(dfTest.drop('Outcome',1))\n"
   ]
  },
  {
   "cell_type": "markdown",
   "metadata": {},
   "source": [
    "### Data Normalization\n",
    "\n",
    "As the final step before using machine learning, we will normalize our inputs. Machine Learning models often benefit substantially from input normalization. It also makes it easier for us to understand the importance of each feature later, when we’ll be looking at the model weights. We’ll normalize the data such that each variable has 0 mean and standard deviation of 1."
   ]
  },
  {
   "cell_type": "code",
   "execution_count": 20,
   "metadata": {},
   "outputs": [
    {
     "name": "stdout",
     "output_type": "stream",
     "text": [
      "[ 0.59238985 -0.33929766  0.13699142 -0.61136459  0.72080845 -0.32843836\n",
      " -0.49015953 -0.49957202  1.0706863  -0.17919659 -0.08718555  0.42243051\n",
      "  0.75529892  1.3524595   0.39975255 -0.59232963  0.49343568 -0.19495772\n",
      " -0.30946112 -0.07303976  0.53216475  0.22040879  0.59295955  0.21070506\n",
      "  0.79108823  0.21868736  0.2578357  -0.52552596  0.46725057  0.0611457\n",
      "  0.46853154  0.4972744  -0.74862733 -0.38586255  0.45657585  0.09475585\n",
      "  0.24787244  0.52750324  0.02916719  0.94457124 -0.03138084  0.36487208\n",
      "  0.12276937  1.33677928  0.01858052  0.81737129 -0.28819185 -0.33401041\n",
      "  0.17319495 -1.20110332 -0.58736071 -0.68990152 -0.48265191  1.12016874\n",
      "  0.88965895 -0.8389532   0.83275183  0.54440466  0.62122479 -0.16318486\n",
      " -1.50108505  0.07413112 -0.4862755  -0.10331877 -0.04868489 -0.10649484\n",
      "  0.21888599  0.41379405 -0.77828639 -0.03284917 -0.15167566  0.03037308\n",
      "  0.66240422  0.17067426 -0.29143424 -1.05765263 -0.13802822  0.05833176\n",
      " -0.66686824 -0.36919384 -0.66320378 -1.6034476   0.05664948 -0.49919687\n",
      "  0.4226962  -0.02163312  0.66819227 -0.25992969  0.58477122 -0.46501762\n",
      " -0.91656176  0.08050705  0.27938961  0.01229168 -0.18495923  0.37983681\n",
      " -0.38545263 -0.91512844 -0.39980669  0.57990444  0.31262724 -0.51743806\n",
      " -0.46281181 -0.67042616 -0.15871455 -0.15784814 -0.32928263  0.00590872\n",
      " -0.45509173 -0.36337025  0.08275267  0.98469382 -0.46422306 -0.44711435\n",
      "  0.38434716  0.41104676 -0.07133784 -0.39930982 -0.30364892 -0.57937332\n",
      "  0.62414317  0.02510961 -0.19384634  0.20348022 -0.43797348 -0.0868637\n",
      "  0.1593493  -0.30982391  0.11141827  0.08526268  0.11308594  0.21977033\n",
      "  0.33101602  0.29494089 -0.55857409 -0.26134156 -0.41960504 -0.50392879\n",
      " -0.16299949  0.23180196 -0.1096837   0.25675762 -0.47524234  0.03868546\n",
      "  0.18635507 -0.74858621  0.11420074  0.240963    0.32715681 -0.53461037\n",
      "  0.25778254 -0.32940458  0.90116745  0.86580689  0.55708791  0.82108659\n",
      " -0.56983503 -0.33322673 -0.56989731  1.20060762  0.33305411  0.27807976\n",
      "  0.22063278 -0.35557815 -0.05096245  0.18229358 -0.09043477 -0.09491501\n",
      " -0.25113063 -0.19664917 -0.15508601  0.16649056 -0.63473933 -0.15195997\n",
      " -0.4608465   0.67395268 -0.10119242  0.74801218  0.28775855  0.34434635\n",
      " -0.42477739 -0.25244689 -0.98859416 -0.57241564 -0.11420306  0.7105878\n",
      "  1.31655901  0.44815318  0.22321792  0.17996294 -0.66472994  0.36752788\n",
      "  0.06887117  0.16649519 -0.21539225  0.57775364 -0.74437485 -0.51070271\n",
      "  0.16862735  0.17052484 -0.12548824 -0.1196796  -0.16288336 -0.67017302\n",
      "  0.45200477 -0.12446949  1.14043602  0.45043248 -0.44995854  0.66312472\n",
      " -0.47997743  0.37116302  0.81106173 -0.02243157  0.35766578  1.06530242\n",
      "  0.07423178  0.0769501   0.17643028 -0.06114844  0.69412283  0.52815672\n",
      " -0.64280478  0.62807205 -0.52060516 -0.51154785 -0.44355678  0.21817908\n",
      "  2.05229239 -0.17293171  0.18134244  0.92997618 -0.5066008  -0.17113224\n",
      " -0.52073581  0.17950344  0.80913862  0.43978867  0.57056496 -0.55443713\n",
      " -0.49257805 -0.2116467  -0.45337263  0.23685538  0.25498194  0.91763216\n",
      "  0.07062745  1.22840247  0.67040609 -0.29638022 -0.07488037 -0.28962281\n",
      " -0.60436844 -0.29632997  0.41551713 -0.12217566 -0.02900659 -0.35844894\n",
      "  0.21852599  1.04182168  0.09228355 -0.53440515 -0.03143631  0.31485374\n",
      " -0.25073806  0.16650763 -0.515798    0.36729207 -0.85896595 -0.77327336\n",
      "  0.91409883 -0.57124534 -0.26873665 -0.28905506  0.29632123  0.0951057\n",
      " -0.1553545  -0.44903481  0.14235978 -0.13168056 -0.20139176  0.3806555\n",
      "  0.22332345  0.24185131 -0.15329615  0.3931236   1.2007781   0.54021344\n",
      " -0.64718471  0.06955584 -0.34401897 -0.18348489  0.62862448  0.13537306\n",
      " -0.15773102  0.275451    0.32205045  0.03534776  0.63160929  0.25908088\n",
      " -0.44822121 -0.08229413 -0.07276461  0.23579718 -0.25450826  0.0228164\n",
      "  0.36627157 -0.50369107  0.14036928  0.20778174 -0.0776385  -0.0178287\n",
      " -0.17349126 -0.42679857  0.6442761  -0.276849   -0.54650037 -0.02767324\n",
      " -0.01669227  0.28699312 -0.04027322 -0.14324744 -0.24018123  0.63945423\n",
      " -0.15430636 -0.24224897  0.06501304  0.30138384  0.02629022 -0.107078\n",
      "  0.52881094 -0.63308611 -0.27332169  0.02675876 -0.73954803  0.5011491\n",
      " -0.43327234 -0.0281576   0.69769921  0.44246843 -0.40154511 -0.27088221\n",
      " -0.60489495 -0.0192218   0.2614272   0.5874201  -0.39328359 -0.98865491\n",
      " -0.58921706 -0.11489194 -0.1540643  -0.11299995 -0.01839201 -0.62311933\n",
      " -0.17101874  0.41650844  0.11536699  0.29548273  0.40234155  0.67283888\n",
      "  0.6132534   0.23120909  0.75767883  0.49498193  0.36487053 -0.16452292\n",
      " -0.19045511 -0.65409775 -0.48322274  0.25102642  1.55640009 -0.42642176\n",
      " -0.46762107 -0.25790376  0.15647297  1.29555091 -0.57559951 -0.29405213\n",
      "  0.19083421  0.38493331 -0.15005917 -0.58499935 -0.31760486 -0.32201898\n",
      " -0.41317448 -0.76004837  0.22784948  0.64458168  0.71672275 -0.08165043\n",
      "  0.01536259  0.21580019 -0.05456514 -0.26788131  0.1706415   0.35676398\n",
      " -0.03161281 -0.14394181 -0.61569794  0.22079082 -0.41306406 -0.06548845\n",
      "  0.27001088  0.08200119  0.01833503  0.02197876 -0.09384206 -0.71187604\n",
      "  0.56250429  1.12888332  0.37546744 -0.03441456  0.59835743 -0.40466924\n",
      " -0.05912999  0.69732606 -0.15566536  0.45421171 -0.63710461 -0.25028838\n",
      "  0.34824387 -0.49547271 -0.13447925 -0.26843164  0.72890546  0.61934769\n",
      " -1.51172145  0.24803801  0.25721588  0.02418338 -1.14137365 -0.19337569\n",
      " -0.56489805 -0.36815828 -0.16143404 -0.63269134  0.67494754 -0.06954296\n",
      " -0.69284087  0.14572321  0.49705238 -0.46372826 -0.19870733  0.11467656\n",
      " -0.21333648  1.34700499 -0.44001408 -0.11961806 -0.31282205 -0.42667479\n",
      " -0.72479215 -0.2931606  -0.0802014  -0.31306574 -0.24487136  0.61020269\n",
      "  0.00812549 -0.31729328  1.25001879  0.65715057  0.1640067  -0.75197799\n",
      "  0.1904061  -0.04833787  0.32708999 -0.63450926 -0.9383628  -0.17933237\n",
      " -0.52432671  0.60947974  0.37258412 -0.13793921 -0.19749028  0.21154758\n",
      " -0.47680879  0.19082862  0.26529117 -0.10204743  0.0896638   0.4878871\n",
      "  0.4826104   0.03173095 -0.51771261 -0.25207937 -0.41059888  0.24774113\n",
      "  0.59349556  1.12576458 -0.29818987  0.65683306 -0.26460122  0.08016666\n",
      " -0.04617636  0.29662759 -1.51647176  0.34201219 -0.35003134 -0.44086251\n",
      "  0.51528248  0.55105531 -0.36970376 -0.10169439  0.06782225  0.12007378\n",
      "  0.15740199 -0.0187207   0.21166214 -0.17949529 -0.38997695  0.25605392\n",
      "  0.3107534  -0.4400714  -0.03665971 -0.55281798 -0.63001767 -0.0806248\n",
      "  0.83335009  0.31112848 -0.04981151  0.53015817 -0.59885602  0.00377467\n",
      " -1.22485829  0.3127712  -0.45773745 -0.5306988  -0.75050014 -0.44666372\n",
      " -0.16760768 -0.4274757  -0.26620437 -0.10956731  0.13385562 -0.67200878\n",
      " -0.2076989  -0.69792274 -0.22150465 -0.3004456   0.25193963  0.62071932\n",
      "  0.64908205  0.08051993  0.73458394 -0.19998438 -0.29710863  0.82910735\n",
      "  1.08433439 -0.0838021   0.34787692  0.68662247 -0.3504841  -0.21171876\n",
      "  0.2283742  -0.56147704 -0.2861664   0.15496287 -0.05835891  0.12137185\n",
      "  0.54800744 -0.06320502  0.11448031  0.51251044 -0.27560111 -0.29358673\n",
      " -0.34987234 -0.51363352 -0.33287416 -0.02227405  0.16878014 -0.12666195\n",
      " -0.34385113 -0.36518052 -0.38288242 -0.45993084  0.44259048 -0.29071805\n",
      " -0.14020927 -0.03472252 -0.01195277  1.24833873  0.31110134 -0.23594038\n",
      "  0.48918457  0.06687687  1.12412212 -0.65046966  0.07575752 -0.40616079\n",
      "  0.8270559  -1.22617918  1.0171245   0.08413757  0.06112457 -0.05411107\n",
      "  0.54956935  0.16011858 -0.20953769 -0.87110597 -0.03511035 -0.65147276\n",
      " -0.23743004 -0.89630632 -0.16682345  0.67803821 -0.46597055 -0.10442665\n",
      "  0.86008072 -0.66411138  0.39566937 -0.55682166 -0.34781852  0.27199419\n",
      "  1.12868377  0.24000894  0.67940648 -0.48114696 -0.11394552 -0.94618155\n",
      "  0.6982305  -0.9537231   0.15471777  0.14436815  0.96190674 -0.23111572\n",
      " -0.56472114  0.08465215 -0.62716021 -0.34513188  0.03900162 -0.46617482\n",
      " -0.05833025 -0.2344904  -0.56206907 -0.2943447  -0.30855449  0.18242343\n",
      " -0.14865859 -0.31614765  0.35363483 -0.74172244 -0.22384165 -0.23344678\n",
      "  0.13487253 -0.73879661 -0.04161618  0.59961045 -0.07601338  0.06420924\n",
      "  0.4665761  -0.53041814]\n",
      "[0.44656512 0.48528632 1.02296563 0.40450474 1.96535504 0.54117864\n",
      " 0.58177024 1.44395546 1.70818887 1.76800977 0.74312504 0.90314912\n",
      " 1.31265567 2.74568114 0.70788082 1.24715276 0.91838052 0.61449652\n",
      " 1.0544995  0.45636195 0.60907539 0.88352255 0.99422924 0.69676952\n",
      " 0.8363372  0.7516749  0.78381355 0.39617943 1.28899301 0.67047929\n",
      " 0.74120968 0.61729858 0.28318377 0.88473043 0.68706701 0.73133606\n",
      " 0.88546105 0.64065168 0.70078033 0.98037643 0.82052039 0.69846511\n",
      " 0.86116151 0.59126157 0.7900017  1.5920207  0.60845285 0.62485444\n",
      " 0.56452344 1.60765778 0.61172354 0.42814269 0.58335576 0.70077763\n",
      " 0.63737939 0.40342751 0.82715444 1.24542075 1.49006683 0.88489927\n",
      " 1.37249425 0.70640322 0.89755659 0.65432703 0.6706678  0.43497318\n",
      " 0.68781389 1.02453954 0.44442172 0.61640968 0.56891725 0.4947789\n",
      " 1.10156634 0.69647943 0.61957634 1.08304728 0.89401911 0.53598793\n",
      " 1.34890427 0.33499415 0.4611826  1.3282051  0.74099063 0.51850402\n",
      " 1.11542536 0.44209785 1.16335265 0.55401608 1.20171725 0.36281297\n",
      " 0.4646901  0.24743296 1.09581895 1.03542145 0.76137013 0.44874726\n",
      " 0.48252333 0.4301727  0.63845751 1.05279813 1.05797121 0.65976449\n",
      " 0.86922613 0.46903621 0.86216154 0.6486993  1.21344316 0.44962289\n",
      " 0.68234549 0.79683963 0.74969817 1.23404426 0.71584115 0.57346184\n",
      " 0.58984024 1.00797851 0.57437279 0.71484372 0.37454215 0.53361936\n",
      " 1.31858036 0.61629964 0.47928758 1.25289803 0.57990625 1.44948279\n",
      " 0.5399686  0.5990369  0.52108251 1.15669179 0.60687737 0.97483163\n",
      " 0.67844087 0.67001356 0.56210422 0.41890735 0.61959561 0.47978572\n",
      " 0.67724069 0.84072714 0.97845141 0.51028536 0.46421495 0.87709522\n",
      " 0.78299047 1.35686321 1.07824968 1.03065862 1.11668299 0.43231225\n",
      " 0.82342872 0.56471781 0.63502306 1.3749523  1.18587871 0.80894247\n",
      " 0.44290395 0.60575044 0.46336746 1.19298853 0.59926577 0.7670457\n",
      " 0.99263563 0.35285752 0.75764453 0.44068475 0.52068696 0.512851\n",
      " 0.412524   0.54681624 0.66157932 0.32914307 1.21334306 1.05998556\n",
      " 0.51940935 0.68672399 0.71284181 1.75650882 0.92041159 0.73437434\n",
      " 0.75516862 0.59153259 1.15770233 0.56074803 0.62583466 0.67658857\n",
      " 1.29345361 1.14541159 0.66380319 0.49882427 0.46948039 0.75032016\n",
      " 0.71843605 1.79209239 0.81874882 0.5746865  0.37404986 0.54320345\n",
      " 0.76274728 0.83313263 0.71194316 0.77298956 0.54514904 0.46565769\n",
      " 0.71831616 0.45703015 0.71606566 1.07225562 0.48605034 0.6469788\n",
      " 0.38361086 1.04028433 0.9691731  0.74080888 0.61978832 0.66591623\n",
      " 0.59428536 0.35282873 0.87439944 0.63825048 1.5555468  1.18105759\n",
      " 1.27213262 0.82758689 0.51402247 0.7367665  0.62438712 0.76005621\n",
      " 2.50804433 1.00211773 0.87608058 0.89847489 0.72508383 0.46679877\n",
      " 0.60096136 0.89947203 0.58719883 0.99733981 0.64769211 0.71646343\n",
      " 0.44304745 0.56226496 0.55929656 0.96445802 0.5670969  0.93442012\n",
      " 0.85865834 2.1708535  1.01625269 0.5741773  0.83476303 0.58779901\n",
      " 0.50173542 0.65844643 1.1467906  0.57890522 0.51022181 0.39363124\n",
      " 1.33924582 0.90207322 0.81201522 1.27908653 0.48748808 0.9651776\n",
      " 0.47809326 0.76740464 1.41150429 0.8813438  0.39185713 1.17312546\n",
      " 0.86347193 0.57177826 0.65040564 1.04694273 1.21581516 0.99135822\n",
      " 0.50279284 0.38897825 0.95599267 0.85672782 0.72352815 0.68171083\n",
      " 0.53470092 0.91962965 0.83977892 0.64528187 1.32575822 0.80822934\n",
      " 0.45554918 0.69184692 0.90690535 0.71160357 0.83619311 0.8866211\n",
      " 1.35746765 0.53065823 0.97122793 0.64678587 1.03186721 1.0930731\n",
      " 1.45158732 0.53072948 0.92918435 1.2028193  0.77438523 0.66819432\n",
      " 0.88814083 0.56195048 1.06166859 0.49807385 0.66389786 0.75313955\n",
      " 0.56014889 0.41423667 0.62721128 0.339952   0.59217617 0.84447394\n",
      " 0.63797726 1.32144131 0.45715327 0.44233823 0.45504183 1.16444596\n",
      " 0.61870892 0.69832238 0.48642415 1.03602525 0.95834429 0.64639853\n",
      " 1.14454302 0.39599938 1.59426392 1.17844914 0.3000375  1.099434\n",
      " 1.43225519 0.60861116 0.50739132 0.90058435 0.43395179 0.57506715\n",
      " 1.2942766  0.61064436 0.99422572 0.6904341  0.62699197 1.04516258\n",
      " 0.35928918 1.42927449 0.78288687 0.60543448 0.86092672 0.44131721\n",
      " 0.8354754  0.9819967  0.81446629 1.6406745  1.14863563 0.91638024\n",
      " 0.89937686 1.11842631 1.0959964  1.10431591 0.57772043 0.49563613\n",
      " 0.53868553 0.46268131 0.61563335 0.79833491 1.76371675 1.98512514\n",
      " 0.6391977  0.65846477 0.73474806 0.77535677 0.52854681 0.7554902\n",
      " 0.97224908 1.14046053 0.65425515 0.55217582 0.7534108  1.04414892\n",
      " 0.45281119 0.35826356 0.22874512 0.84217761 0.7106704  0.63847395\n",
      " 0.52802931 0.94026365 1.24215283 0.50040373 0.7031037  1.28917384\n",
      " 0.78481205 0.74618325 0.55322008 0.88781892 0.47866122 0.99104022\n",
      " 0.63107646 0.82242239 0.82910831 0.71001723 0.6201947  0.44127004\n",
      " 1.20482983 1.69584627 0.60647322 0.47631934 1.00250004 0.627793\n",
      " 0.69232766 1.38748169 0.83396563 0.31251952 0.69301594 0.4235827\n",
      " 0.84566384 0.43373493 0.94857164 0.33847    0.42753447 0.81485019\n",
      " 1.35945332 0.76725859 0.94724034 0.64767356 0.97538875 0.46733464\n",
      " 0.53390739 0.59774536 0.9128085  1.36736735 0.82771354 0.58845413\n",
      " 0.55927917 0.70700121 0.98496676 0.53734625 0.3963834  0.80892983\n",
      " 0.18063667 2.39076459 0.49417051 0.86152351 0.70319875 0.47009175\n",
      " 0.3919023  0.53917334 0.75910509 1.8727312  0.55872216 1.1437565\n",
      " 1.12116907 0.54432616 0.43001099 1.52209796 0.98123072 0.52958329\n",
      " 0.95158654 0.56157796 1.11912743 0.46403484 0.32553329 0.70381876\n",
      " 1.33458415 0.71766451 0.6976551  0.74037191 0.6389937  0.89504701\n",
      " 0.46371699 0.99197824 0.66137984 0.54606153 0.82035004 0.89010166\n",
      " 0.74106088 0.73694763 0.44070537 0.78909117 1.46254442 0.90560095\n",
      " 1.44289292 1.01889182 0.33598805 1.33913443 0.66797771 0.6768116\n",
      " 0.57284331 0.75230836 1.37528684 1.21953932 0.47291257 0.46614784\n",
      " 1.11379381 0.41771879 0.64746629 0.59535869 1.48852253 0.65633461\n",
      " 0.64811878 1.00488606 0.92446592 0.54931628 0.81133112 1.15880696\n",
      " 1.03236563 0.69598955 1.17407251 0.45304256 0.28434558 0.57933708\n",
      " 0.59943764 0.84758072 1.24708487 1.22277459 0.66925526 0.47122751\n",
      " 1.57246326 0.77025102 0.48147839 0.47040183 0.47622757 0.40112703\n",
      " 0.56997343 0.58266593 0.46261518 0.93727543 1.11502766 1.20529508\n",
      " 1.12058941 1.18108393 0.86092932 1.45377116 0.76235267 0.71840222\n",
      " 0.57256101 0.28854343 0.88609355 0.84995082 0.56659498 0.62981233\n",
      " 0.66425218 0.38322563 0.95996888 0.88835557 0.50040109 0.5270584\n",
      " 1.19239035 0.47509717 0.52342856 0.66104991 0.70727085 1.04087933\n",
      " 1.06150365 0.98817563 0.90279867 1.06584823 0.69632597 0.51624001\n",
      " 0.65999723 0.51835358 0.79005362 0.75218266 0.44619055 0.53761572\n",
      " 0.62147462 0.84517205 0.5424095  0.38391705 0.94921393 0.90519576\n",
      " 0.71246991 0.84363323 0.87382551 1.73746849 1.00417601 0.51685572\n",
      " 1.1927146  0.84903173 1.64295409 0.37195473 0.81709099 0.56186856\n",
      " 0.80383086 0.9851284  0.78684646 0.89013572 0.6288544  1.42287878\n",
      " 0.47829189 0.96697261 1.13335688 0.74081589 0.93254958 0.45806579\n",
      " 0.54642625 1.14156284 0.62245946 0.5621452  1.44891343 0.57926226\n",
      " 1.13076159 0.59016209 0.92546867 0.42717701 0.30809054 0.60663166\n",
      " 0.40366993 0.56116078 0.69805501 0.43950601 0.79358752 0.50766807\n",
      " 0.93703665 1.08921711 0.72037507 1.372507   1.1642754  0.81552446\n",
      " 0.43804114 0.91834331 0.53761743 0.65689655 0.73190596 0.47452724\n",
      " 0.65946506 0.76546547 0.36562165 0.61523049 0.90772797 1.08092406\n",
      " 0.75963245 0.54296963 0.73499545 0.52406545 0.6262251  0.52725364\n",
      " 0.86030439 1.16261306 0.47814487 1.25694628 0.70969106 0.99391331\n",
      " 0.85513972 0.46500139]\n"
     ]
    },
    {
     "ename": "ValueError",
     "evalue": "operands could not be broadcast together with shapes (650,8) (650,) ",
     "output_type": "error",
     "traceback": [
      "\u001b[1;31m---------------------------------------------------------------------------\u001b[0m",
      "\u001b[1;31mValueError\u001b[0m                                Traceback (most recent call last)",
      "\u001b[1;32m<ipython-input-20-beddcc751bbe>\u001b[0m in \u001b[0;36m<module>\u001b[1;34m\u001b[0m\n\u001b[0;32m      6\u001b[0m \u001b[1;33m\u001b[0m\u001b[0m\n\u001b[0;32m      7\u001b[0m \u001b[1;33m\u001b[0m\u001b[0m\n\u001b[1;32m----> 8\u001b[1;33m \u001b[0mtrainData\u001b[0m \u001b[1;33m=\u001b[0m \u001b[1;33m(\u001b[0m\u001b[0mtrainData\u001b[0m \u001b[1;33m-\u001b[0m \u001b[0mmeans\u001b[0m\u001b[1;33m)\u001b[0m\u001b[1;33m/\u001b[0m\u001b[0mstds\u001b[0m\u001b[1;33m\u001b[0m\u001b[1;33m\u001b[0m\u001b[0m\n\u001b[0m\u001b[0;32m      9\u001b[0m \u001b[0mtestData\u001b[0m \u001b[1;33m=\u001b[0m \u001b[1;33m(\u001b[0m\u001b[0mtestData\u001b[0m \u001b[1;33m-\u001b[0m \u001b[0mmeans\u001b[0m\u001b[1;33m)\u001b[0m\u001b[1;33m/\u001b[0m\u001b[0mstds\u001b[0m\u001b[1;33m\u001b[0m\u001b[1;33m\u001b[0m\u001b[0m\n\u001b[0;32m     10\u001b[0m \u001b[1;33m\u001b[0m\u001b[0m\n",
      "\u001b[1;31mValueError\u001b[0m: operands could not be broadcast together with shapes (650,8) (650,) "
     ]
    }
   ],
   "source": [
    "# Normalize the data \n",
    "means = np.mean(trainData, axis=1)\n",
    "stds = np.std(trainData, axis=1)\n",
    "print(means)\n",
    "print(stds)\n",
    "\n",
    "\n",
    "trainData = (trainData - means)/stds\n",
    "testData = (testData - means)/stds\n",
    "\n",
    "#means = np.mean(trainData, axis=0)\n",
    "#stds = np.std(trainData, axis=0)\n",
    "#print(means)\n",
    "#print(stds)\n",
    "# stds = np.std(trainData, axis=0)"
   ]
  },
  {
   "cell_type": "markdown",
   "metadata": {},
   "source": [
    "## We will use the our training data (trainData) to create a Logistic Regression."
   ]
  },
  {
   "cell_type": "code",
   "execution_count": 17,
   "metadata": {},
   "outputs": [
    {
     "name": "stdout",
     "output_type": "stream",
     "text": [
      "accuracy =  77.0 %\n"
     ]
    }
   ],
   "source": [
    "diabetesCheck = LogisticRegression()\n",
    "diabetesCheck.fit(trainData,trainLabel)\n",
    "accuracy = diabetesCheck.score(testData,testLabel)\n",
    "print(\"accuracy = \",accuracy * 100,\"%\")"
   ]
  },
  {
   "cell_type": "markdown",
   "metadata": {
    "collapsed": true
   },
   "source": [
    "## Interpreting the Model\n",
    "\n",
    "To get a better sense of what is going on inside the logistic regression model, we can visualize how our model uses the different features and which features have greater effect."
   ]
  },
  {
   "cell_type": "code",
   "execution_count": 18,
   "metadata": {},
   "outputs": [
    {
     "data": {
      "text/plain": [
       "[0.44640396468223753,\n",
       " 1.0298428090197882,\n",
       " -0.24065321128250663,\n",
       " -0.04949252578078118,\n",
       " -0.03919012142580762,\n",
       " 0.768722955663566,\n",
       " 0.34198470746835946,\n",
       " 0.12832392573345955]"
      ]
     },
     "execution_count": 18,
     "metadata": {},
     "output_type": "execute_result"
    }
   ],
   "source": [
    "coeff = list(diabetesCheck.coef_[0])\n",
    "coeff"
   ]
  },
  {
   "cell_type": "code",
   "execution_count": 9,
   "metadata": {},
   "outputs": [
    {
     "data": {
      "text/plain": [
       "['Pregnancies',\n",
       " 'Glucose',\n",
       " 'BloodPressure',\n",
       " 'SkinThickness',\n",
       " 'Insulin',\n",
       " 'BMI',\n",
       " 'DiabetesPedigreeFunction',\n",
       " 'Age']"
      ]
     },
     "execution_count": 9,
     "metadata": {},
     "output_type": "execute_result"
    }
   ],
   "source": [
    "labels = list(dfTrain.drop('Outcome',1).columns)\n",
    "labels"
   ]
  },
  {
   "cell_type": "code",
   "execution_count": 19,
   "metadata": {},
   "outputs": [
    {
     "data": {
      "text/plain": [
       "Text(0.5, 0, 'Importance')"
      ]
     },
     "execution_count": 19,
     "metadata": {},
     "output_type": "execute_result"
    },
    {
     "data": {
      "image/png": "[encoded data removed]",
      "text/plain": [
       "<Figure size 792x432 with 1 Axes>"
      ]
     },
     "metadata": {
      "needs_background": "light"
     },
     "output_type": "display_data"
    }
   ],
   "source": [
    "features = pd.DataFrame()\n",
    "features['Features'] = labels\n",
    "features['importance'] = coeff\n",
    "features.sort_values(by=['importance'], ascending=True, inplace=True)\n",
    "features['positive'] = features['importance'] > 0\n",
    "features.set_index('Features', inplace=True)\n",
    "features.importance.plot(kind='barh', figsize=(11, 6),color = features.positive.map({True: 'blue', False: 'red'}))\n",
    "plt.xlabel('Importance')"
   ]
  },
  {
   "cell_type": "markdown",
   "metadata": {},
   "source": [
    "### From the above figure, we can draw the following conclusions."
   ]
  },
  {
   "cell_type": "markdown",
   "metadata": {},
   "source": [
    "- Glucose level, BMI, pregnancies and diabetes pedigree function have significant influence on the model, specially glucose level and BMI. It is good to see our machine learning model match what we have been hearing from doctors our entire lives!\n",
    "\n",
    "- Blood pressure has a negative influence on the prediction, i.e. higher blood pressure is correlated with a person not being diabetic. (also, note that blood pressure is more important as a feature than age, because the magnitude is higher for blood pressure).\n",
    "\n",
    "- Although age was more correlated than BMI to the output variables (as we saw during data exploration), the model relies more on BMI. This can happen for several reasons, including the fact that the correlation captured by age is also captured by some other variable, whereas the information captured by BMI is not captured by other variables.\n",
    "\n",
    "Note that this above interpretations require that our input data is normalized. Without that, we can’t claim that importance is proportional to weights."
   ]
  },
  {
   "cell_type": "code",
   "execution_count": 18,
   "metadata": {},
   "outputs": [
    {
     "data": {
      "text/html": [
       "<div>\n",
       "<style scoped>\n",
       "    .dataframe tbody tr th:only-of-type {\n",
       "        vertical-align: middle;\n",
       "    }\n",
       "\n",
       "    .dataframe tbody tr th {\n",
       "        vertical-align: top;\n",
       "    }\n",
       "\n",
       "    .dataframe thead th {\n",
       "        text-align: right;\n",
       "    }\n",
       "</style>\n",
       "<table border=\"1\" class=\"dataframe\">\n",
       "  <thead>\n",
       "    <tr style=\"text-align: right;\">\n",
       "      <th></th>\n",
       "      <th>Pregnancies</th>\n",
       "      <th>Glucose</th>\n",
       "      <th>BloodPressure</th>\n",
       "      <th>SkinThickness</th>\n",
       "      <th>Insulin</th>\n",
       "      <th>BMI</th>\n",
       "      <th>DiabetesPedigreeFunction</th>\n",
       "      <th>Age</th>\n",
       "      <th>Outcome</th>\n",
       "    </tr>\n",
       "  </thead>\n",
       "  <tbody>\n",
       "    <tr>\n",
       "      <td>750</td>\n",
       "      <td>4</td>\n",
       "      <td>136</td>\n",
       "      <td>70</td>\n",
       "      <td>0</td>\n",
       "      <td>0</td>\n",
       "      <td>31.2</td>\n",
       "      <td>1.182</td>\n",
       "      <td>22</td>\n",
       "      <td>1</td>\n",
       "    </tr>\n",
       "    <tr>\n",
       "      <td>751</td>\n",
       "      <td>1</td>\n",
       "      <td>121</td>\n",
       "      <td>78</td>\n",
       "      <td>39</td>\n",
       "      <td>74</td>\n",
       "      <td>39.0</td>\n",
       "      <td>0.261</td>\n",
       "      <td>28</td>\n",
       "      <td>0</td>\n",
       "    </tr>\n",
       "    <tr>\n",
       "      <td>752</td>\n",
       "      <td>3</td>\n",
       "      <td>108</td>\n",
       "      <td>62</td>\n",
       "      <td>24</td>\n",
       "      <td>0</td>\n",
       "      <td>26.0</td>\n",
       "      <td>0.223</td>\n",
       "      <td>25</td>\n",
       "      <td>0</td>\n",
       "    </tr>\n",
       "    <tr>\n",
       "      <td>753</td>\n",
       "      <td>0</td>\n",
       "      <td>181</td>\n",
       "      <td>88</td>\n",
       "      <td>44</td>\n",
       "      <td>510</td>\n",
       "      <td>43.3</td>\n",
       "      <td>0.222</td>\n",
       "      <td>26</td>\n",
       "      <td>1</td>\n",
       "    </tr>\n",
       "    <tr>\n",
       "      <td>754</td>\n",
       "      <td>8</td>\n",
       "      <td>154</td>\n",
       "      <td>78</td>\n",
       "      <td>32</td>\n",
       "      <td>0</td>\n",
       "      <td>32.4</td>\n",
       "      <td>0.443</td>\n",
       "      <td>45</td>\n",
       "      <td>1</td>\n",
       "    </tr>\n",
       "  </tbody>\n",
       "</table>\n",
       "</div>"
      ],
      "text/plain": [
       "     Pregnancies  Glucose  BloodPressure  SkinThickness  Insulin   BMI  \\\n",
       "750            4      136             70              0        0  31.2   \n",
       "751            1      121             78             39       74  39.0   \n",
       "752            3      108             62             24        0  26.0   \n",
       "753            0      181             88             44      510  43.3   \n",
       "754            8      154             78             32        0  32.4   \n",
       "\n",
       "     DiabetesPedigreeFunction  Age  Outcome  \n",
       "750                     1.182   22        1  \n",
       "751                     0.261   28        0  \n",
       "752                     0.223   25        0  \n",
       "753                     0.222   26        1  \n",
       "754                     0.443   45        1  "
      ]
     },
     "execution_count": 18,
     "metadata": {},
     "output_type": "execute_result"
    }
   ],
   "source": [
    "dfCheck.head()"
   ]
  },
  {
   "cell_type": "code",
   "execution_count": null,
   "metadata": {},
   "outputs": [],
   "source": [
    "sampleData = dfCheck[:5]\n",
    "sampleDataFeatures = np.asarray(sampleData.drop('Outcome',1))\n",
    "sampleDataFeatures"
   ]
  },
  {
   "cell_type": "code",
   "execution_count": 20,
   "metadata": {},
   "outputs": [
    {
     "name": "stdout",
     "output_type": "stream",
     "text": [
      "prediction: [0 0 0 0 0 1 0 0 1 0 1 1 1 1 0 0 1 0 0 1 1 0 0 1 0 1 1 0 0 0 0 1 0 0 0 0 0\n",
      " 0 0 1 0 1 0 1 0 0 1 0 0 1 0 0 1 1 0 0 0 0 1 0 0 0 1 0 0 1 1 0 0 0 0 0 0 0\n",
      " 0 0 0 0 0 0 0 0 1 0 0 0 0 0 0 0 1 0 0 1 1 0 1 0 1 1]\n"
     ]
    }
   ],
   "source": [
    "# predict Using the testData set\n",
    "\n",
    "prediction = diabetesCheck.predict(testData)\n",
    "\n",
    "print('prediction:', prediction)"
   ]
  },
  {
   "cell_type": "markdown",
   "metadata": {},
   "source": [
    "## Measuring Model Performance"
   ]
  },
  {
   "cell_type": "code",
   "execution_count": 19,
   "metadata": {},
   "outputs": [
    {
     "name": "stdout",
     "output_type": "stream",
     "text": [
      "0.78\n"
     ]
    }
   ],
   "source": [
    "# Use score method to get accuracy of model\n",
    "score = diabetesCheck.score(testData, testLabel)\n",
    "print(score)"
   ]
  },
  {
   "cell_type": "markdown",
   "metadata": {},
   "source": [
    "## Next steps"
   ]
  },
  {
   "cell_type": "markdown",
   "metadata": {
    "collapsed": true
   },
   "source": [
    "There are lots of ways to improve the above model. Here are some ideas.\n",
    "\n",
    "- Input feature bucketing should help, i.e. create new variables for blood pressure in a particular range, glucose levels in a particular range, and so on.\n",
    "- You could also improve the data cleaning, by replacing 0 values with the mean value.\n",
    "- Read a bit about what metrics do doctors rely on the most to diagnose a diabetic patient, and create new features accordingly."
   ]
  }
 ],
 "metadata": {
  "anaconda-cloud": {},
  "kernelspec": {
   "display_name": "Python 3",
   "language": "python",
   "name": "python3"
  },
  "language_info": {
   "codemirror_mode": {
    "name": "ipython",
    "version": 3
   },
   "file_extension": ".py",
   "mimetype": "text/x-python",
   "name": "python",
   "nbconvert_exporter": "python",
   "pygments_lexer": "ipython3",
   "version": "3.7.4"
  }
 },
 "nbformat": 4,
 "nbformat_minor": 1
}
