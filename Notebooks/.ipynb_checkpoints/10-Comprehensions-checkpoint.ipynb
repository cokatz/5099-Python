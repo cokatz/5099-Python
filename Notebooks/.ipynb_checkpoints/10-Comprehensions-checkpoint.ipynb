{
 "cells": [
  {
   "cell_type": "markdown",
   "metadata": {
    "colab_type": "text",
    "id": "8z5cONg8rUrX"
   },
   "source": [
    "# Comprehensions\n",
    "\n"
   ]
  },
  {
   "cell_type": "markdown",
   "metadata": {
    "colab_type": "text",
    "id": "MZzE7pYorju5"
   },
   "source": [
    "## Goals\n",
    "\n",
    "By the end of this class, the student should be able to:\n",
    "\n",
    "- Simplify common list processing patterns using Comprehensions\n",
    "- Describe the use of iterators\n",
    "- Describe the use of List, Set and Dictionary comprehensions \n",
    "- Describe the use of Generator comprehensions"
   ]
  },
  {
   "cell_type": "markdown",
   "metadata": {
    "colab_type": "text",
    "id": "9f7zjyc9aKGb"
   },
   "source": [
    "# Comprehensions"
   ]
  },
  {
   "cell_type": "markdown",
   "metadata": {
    "colab_type": "text",
    "id": "QC2TW-k4o0XI"
   },
   "source": [
    "## Introduction\n",
    "\n",
    "-  \"List Comprehensions\" are  Guido van Rossums preferred way to do it, because he doesn't like Lambda, map, filter and reduce either.\n",
    "\n",
    "- In his article from May 2005 [All Things Pythonic: The fate of reduce() in Python 3000](http://www.artima.com/weblogs/viewpost.jsp?thread=98196), he gives his reasons for dropping lambda, map(), filter() and reduce().\n",
    "\n",
    "  - List comprehension is more evident and easier to understand\n",
    "\n",
    "  - Having both list comprehension and \"Filter, map, reduce and lambda\" is transgressing the Python motto \"There should be one obvious way to solve a problem\"\n"
   ]
  },
  {
   "cell_type": "markdown",
   "metadata": {
    "colab_type": "text",
    "id": "TFiYWKACIIg7"
   },
   "source": [
    "### Comprehensions\n",
    "\n",
    "- Essentially, it is Python's way of implementing a well-known notation for sets as used by mathematicians.\n",
    "  - In mathematics the square numbers of the natural numbers are, for example, created by \n",
    "  $\\{ x^2 | x ∈ ℕ \\}$ \n",
    "  - or the set of complex integers \n",
    "  $\\{ (x,y) | x ∈ ℤ ∧ y ∈ ℤ \\}$\n",
    "\n",
    "> Using comprehensions is often a way both to make code more compact and to **shift our focus from the “how” to the “what”**\n"
   ]
  },
  {
   "cell_type": "markdown",
   "metadata": {
    "colab_type": "text",
    "id": "z2a0Y34wZVE2"
   },
   "source": [
    "## Lazy evaluation\n",
    "\n",
    "> A powerful feature of Python is its iterator protocol (which we will\n",
    "get to shortly). \n",
    "> This capability is only loosely connected to functional programming per se, since Python does not quite offer lazy data structures in the sense of a language like Haskell. \n",
    "> However, use of the iterator protocol — and Python’s many built-in or standard\n",
    "library iteratables — accomplish much the same effect as an actual\n",
    "lazy data structure.\n",
    "\n",
    "David Mertz, *Functional Programming in Python*, O'Reilly Media, 2015"
   ]
  },
  {
   "cell_type": "markdown",
   "metadata": {
    "colab_type": "text",
    "id": "8R78-nbog7RV"
   },
   "source": [
    "## List Comprehensions"
   ]
  },
  {
   "cell_type": "markdown",
   "metadata": {
    "colab_type": "text",
    "id": "jzXp5u1ig_cy"
   },
   "source": [
    "### List Displays\n",
    "\n",
    "- For constructing a list, a set or a dictionary, Python provides\n",
    "    special syntax called \"displays\"<sup>1</sup>\n",
    "\n",
    "- The most common list *display* is the simple literal value:\n",
    "\n",
    "```\n",
    "    [ expression < , ... > ]\n",
    "```\n",
    "\n",
    "- For example:\n",
    "\n",
    "```\n",
    "    fruit = [\"Apples\", \"Peaches\", \"Pears\", \"Bananas\"]\n",
    "```\n",
    "\n",
    "- But Python has a second kind of list *display*, based on a list\n",
    "    comprehension\n",
    "\t\n",
    "<sup>1</sup>[The Python Language Reference](https://docs.python.org/3/reference/expressions.html#displays-for-lists-sets-and-dictionaries)"
   ]
  },
  {
   "cell_type": "markdown",
   "metadata": {
    "colab_type": "text",
    "id": "sCcfJtr2hML2"
   },
   "source": [
    "### List Comprehensions\n",
    "\n",
    "- A list comprehension is an expression that combines a function, a\n",
    "    `for` statement, and an optional `if` statement\n",
    "\n",
    "- This allows a simple, clear expression of the processing that will\n",
    "    build up an iterable sequence\n",
    "\n",
    "- The most important thing about a list comprehension is that it is an\n",
    "    iterable that applies a calculation to another iterable\n",
    "\n",
    "- A list display can use a list comprehension iterable to create a new\n",
    "    list\n",
    "\n",
    "![comprehension](images/08/comprehension.png)\n",
    "\n",
    "```\n",
    "   even = [2*x for x in range(18)]\n",
    "```"
   ]
  },
  {
   "cell_type": "code",
   "execution_count": null,
   "metadata": {
    "colab": {},
    "colab_type": "code",
    "id": "Dsq5TPTMtYX4"
   },
   "outputs": [],
   "source": [
    "even = [2*x for x in range(18)]\n",
    "print(type(even))\n",
    "print(even)"
   ]
  },
  {
   "cell_type": "markdown",
   "metadata": {
    "colab_type": "text",
    "id": "PAUzCThO2k9c"
   },
   "source": [
    "Convert Celsius values into Fahrenheit"
   ]
  },
  {
   "cell_type": "code",
   "execution_count": null,
   "metadata": {
    "colab": {},
    "colab_type": "code",
    "id": "rhUBOMAb2YVu"
   },
   "outputs": [],
   "source": [
    "Celsius = [39.2, 36.5, 37.3, 37.5]\n",
    "Fahrenheit = [ ((float(9)/5)*x + 32) for x in Celsius ]\n",
    "print(Fahrenheit)"
   ]
  },
  {
   "cell_type": "markdown",
   "metadata": {
    "colab_type": "text",
    "id": "HZIxtKIv2pTS"
   },
   "source": [
    "A *Pythagorean triple* consists of three positive integers a, b, and c, such that:\n",
    "\n",
    "$a^2 + b^2 = c^2$"
   ]
  },
  {
   "cell_type": "code",
   "execution_count": null,
   "metadata": {
    "colab": {},
    "colab_type": "code",
    "id": "Xxq0s3kE2siW"
   },
   "outputs": [],
   "source": [
    "[(x,y,z) for x in range(1,30) for y in range(x,30) for z in range(y,30) if x**2 + y**2 == z**2]"
   ]
  },
  {
   "cell_type": "markdown",
   "metadata": {
    "colab_type": "text",
    "id": "U7f3oZVIhQ7m"
   },
   "source": [
    "### List Comprehension Semantics\n",
    "\n",
    "- When we write a list comprehension, we will provide an iterable, a\n",
    "    variable and an expression\n",
    "\n",
    "- Python will process the iterator as if it was a for-loop, iterating\n",
    "    through a sequence of values\n",
    "\n",
    "- It evaluates the expression, once for each iteration of the for-loop\n",
    "\n",
    "- The resulting values can be collected into a fresh, new list, or\n",
    "    used anywhere an iterator is used\n"
   ]
  },
  {
   "cell_type": "code",
   "execution_count": null,
   "metadata": {
    "colab": {},
    "colab_type": "code",
    "id": "OAJEFb4muAJI"
   },
   "outputs": [],
   "source": [
    "string = \"Hello 12345 World\"\n",
    "for n in [int(x) for x in string if x.isdigit()]:\n",
    "    print(n*n)"
   ]
  },
  {
   "cell_type": "markdown",
   "metadata": {
    "colab_type": "text",
    "id": "_kwe3zGUhUDX"
   },
   "source": [
    "### List Comprehension Syntax\n",
    "\n",
    "- A list comprehension is --- technically --- a complex expression\n",
    "\n",
    "- It's often used in list displays, but can be used in a variety of\n",
    "    places where an iterator is expected\n",
    "\n",
    "```\n",
    "   expr <for-clause>\n",
    "```\n",
    "\n",
    "- The `expr` is any expression\n",
    "\n",
    "- It can be a simple constant, or any other expression (including a\n",
    "    nested list comprehension)\n",
    "\n",
    "- The `for-clause` mirrors the `for` statement\n",
    "\n",
    "```\n",
    "   for variable in sequence\n",
    "```"
   ]
  },
  {
   "cell_type": "markdown",
   "metadata": {
    "colab_type": "text",
    "id": "-nNFkbbqhXx-"
   },
   "source": [
    "### Comprehension in a List Display\n",
    "\n",
    "- For example:\n",
    "\n",
    "```\n",
    "   # a list of values [0, 2, 4, ..., 14]\n",
    "   even = [2*x for x in range(18)]\n",
    "\n",
    "   # list of 2-tuples, each built from the values in the given sequence\n",
    "   hardways = [(x,x) for x in (2,3,4,5)]\n",
    "\n",
    "   # a list of 10 random numbers\n",
    "   samples = [random.random() for x in range(10)]\n",
    "```"
   ]
  },
  {
   "cell_type": "markdown",
   "metadata": {
    "colab_type": "text",
    "id": "snJQjLpnvAXD"
   },
   "source": [
    "- A list display that uses a list comprehension behaves like the\n",
    "    following loop:\n",
    "\n",
    "```\n",
    "   r = []\n",
    "   for variable in sequence:\n",
    "      r.append(expr)\n",
    "```\n",
    "\n"
   ]
  },
  {
   "cell_type": "markdown",
   "metadata": {
    "colab_type": "text",
    "id": "7z85Qp2kwGAW"
   },
   "source": [
    "An expression that does not depend on for-clause:"
   ]
  },
  {
   "cell_type": "code",
   "execution_count": null,
   "metadata": {
    "colab": {},
    "colab_type": "code",
    "id": "RZSw2qrGwCaK"
   },
   "outputs": [],
   "source": [
    "zeros = [0 for i in range(10)]\n",
    "print(zeros)"
   ]
  },
  {
   "cell_type": "markdown",
   "metadata": {
    "colab_type": "text",
    "id": "AquPO3D1wPCD"
   },
   "source": [
    "An expression that depends on the for-clause"
   ]
  },
  {
   "cell_type": "code",
   "execution_count": null,
   "metadata": {
    "colab": {},
    "colab_type": "code",
    "id": "odE4reaDwTuB"
   },
   "outputs": [],
   "source": [
    "odd = [v*2+1 for v in range(10)]\n",
    "print(odd)"
   ]
  },
  {
   "cell_type": "markdown",
   "metadata": {
    "colab_type": "text",
    "id": "cQkoQDnAhgeZ"
   },
   "source": [
    "### The if Clause\n",
    "\n",
    "- A list comprehension can also have an **if-clause**\n",
    "\n",
    "```\n",
    "   expr <for-clause> <if-clause>\n",
    "```\n",
    "\n",
    "- Here is an example of a complex list comprehension in a list display\n",
    "\n",
    "```\n",
    "   hardways = [(x,x) for x in range(1,7) if x+x not in (2, 12)]\n",
    "```\n",
    "\n",
    "- This more complex list comprehension behaves like the following\n",
    "    loop:\n",
    "\n",
    "```\n",
    "   r = []\n",
    "   for variable in sequence :\n",
    "      if filter:\n",
    "         r.append(expr)\n",
    "```"
   ]
  },
  {
   "cell_type": "code",
   "execution_count": null,
   "metadata": {
    "colab": {},
    "colab_type": "code",
    "id": "uh8xPhjTyKT8"
   },
   "outputs": [],
   "source": [
    "hardways = [(x,x) for x in range(1,7) if x+x not in (2, 12)]\n",
    "print(hardways)"
   ]
  },
  {
   "cell_type": "markdown",
   "metadata": {
    "colab_type": "text",
    "id": "_Lz8eeu_hkMo"
   },
   "source": [
    "### Another example\n",
    "\n",
    "```\n",
    "   >>> [(x, 2*x+1) for x in range(10) if x % 3 == 0]\n",
    "```\n",
    "\n",
    "- This works as follows:\n",
    "\n",
    "    1.  The for-clause iterates through the 10 values given by\n",
    "        `range(10)`, assigning each value to the local variable `x`\n",
    "\n",
    "    2.  The if-clause evaluates the filter function, `x % 3 == 0`. If it\n",
    "        is `False`, the value is skipped; if it is `True`, the\n",
    "        expression, at `(x, 2*x+1)`, is evaluated and retained\n",
    "\n",
    "    3.  The sequence of 2-tuples are assembled into a list\n"
   ]
  },
  {
   "cell_type": "code",
   "execution_count": null,
   "metadata": {
    "colab": {},
    "colab_type": "code",
    "id": "J1DZS2SKy3Ki"
   },
   "outputs": [],
   "source": [
    "[(x, 2*x+1) for x in range(10) if x % 3 == 0]"
   ]
  },
  {
   "cell_type": "markdown",
   "metadata": {
    "colab_type": "text",
    "id": "WcYryX6M4qeq"
   },
   "source": [
    "### Nested List Comprehensions\n",
    "\n",
    "- A list comprehension can have any number of *for-clauses* and\n",
    "    *if-clauses*, freely-intermixed\n",
    "\n",
    "- A *for-clause* must be first\n",
    "\n",
    "- The clauses are evaluated from left to right\n",
    "\n",
    "- $\\Rightarrow$\n",
    "[The Python Language Reference](https://docs.python.org/3/tutorial/datastructures.html#list-comprehensions)"
   ]
  },
  {
   "cell_type": "markdown",
   "metadata": {
    "colab_type": "text",
    "id": "5S-BRWAs49GT"
   },
   "source": [
    "Let A and B be two sets, the cross product (or **Cartesian product**) of A and B, written A×B, is the set of all pairs wherein the first element is a member of the set A and the second element is a member of the set B."
   ]
  },
  {
   "cell_type": "code",
   "execution_count": null,
   "metadata": {
    "colab": {},
    "colab_type": "code",
    "id": "7fH2HCpS5F8F"
   },
   "outputs": [],
   "source": [
    "colours = [ \"red\", \"green\", \"yellow\", \"blue\" ]\n",
    "things = [ \"house\", \"car\", \"tree\" ]\n",
    "coloured_things = [ (x,y) for x in colours for y in things ]\n",
    "print(coloured_things)"
   ]
  },
  {
   "cell_type": "markdown",
   "metadata": {
    "colab_type": "text",
    "id": "O2R62aiYziT5"
   },
   "source": [
    "### Example of Matrix transposition\n",
    "\n",
    "A 3x4 matrix implemented as a list of 3 lists of length 4"
   ]
  },
  {
   "cell_type": "code",
   "execution_count": null,
   "metadata": {
    "colab": {},
    "colab_type": "code",
    "id": "S84qjLZJzfqr"
   },
   "outputs": [],
   "source": [
    "matrix = [\n",
    "    [1, 2, 3, 4],\n",
    "    [5, 6, 7, 8],\n",
    "    [9, 10, 11, 12]]\n",
    "\n",
    "print(matrix)"
   ]
  },
  {
   "cell_type": "markdown",
   "metadata": {
    "colab_type": "text",
    "id": "fOfHZS11znXy"
   },
   "source": [
    "List comprehension will transpose rows and columns"
   ]
  },
  {
   "cell_type": "code",
   "execution_count": null,
   "metadata": {
    "colab": {},
    "colab_type": "code",
    "id": "DxTHamApzsbo"
   },
   "outputs": [],
   "source": [
    "transposed = [[row[i] for row in matrix] for i in range(4)]\n",
    "print(transposed)"
   ]
  },
  {
   "cell_type": "markdown",
   "metadata": {
    "colab_type": "text",
    "id": "XN4kaKwn0hla"
   },
   "source": [
    "Unroll the nested list comp"
   ]
  },
  {
   "cell_type": "code",
   "execution_count": null,
   "metadata": {
    "colab": {},
    "colab_type": "code",
    "id": "Z9H7zLn-0k4O"
   },
   "outputs": [],
   "source": [
    "mtransposed = []\n",
    "for i in range(4):\n",
    "    # the following 3 lines implement the nested listcomp\n",
    "    transposed_row = []\n",
    "    for row in matrix:\n",
    "        transposed_row.append(row[i])\n",
    "    mtransposed.append(transposed_row)\n",
    "\n",
    "print(mtransposed)"
   ]
  }
 ],
 "metadata": {
  "colab": {
   "collapsed_sections": [],
   "name": "16-comprehensions.ipynb",
   "private_outputs": true,
   "provenance": [],
   "toc_visible": true
  },
  "kernelspec": {
   "display_name": "Python 3",
   "language": "python",
   "name": "python3"
  },
  "language_info": {
   "codemirror_mode": {
    "name": "ipython",
    "version": 3
   },
   "file_extension": ".py",
   "mimetype": "text/x-python",
   "name": "python",
   "nbconvert_exporter": "python",
   "pygments_lexer": "ipython3",
   "version": "3.8.5"
  }
 },
 "nbformat": 4,
 "nbformat_minor": 1
}
