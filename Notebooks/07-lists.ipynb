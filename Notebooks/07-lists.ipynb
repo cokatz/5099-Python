{
 "cells": [
  {
   "cell_type": "markdown",
   "metadata": {
    "colab_type": "text",
    "id": "8z5cONg8rUrX"
   },
   "source": [
    "# Lists"
   ]
  },
  {
   "cell_type": "markdown",
   "metadata": {
    "colab_type": "text",
    "id": "MZzE7pYorju5"
   },
   "source": [
    "## Goals\n",
    "\n",
    "By the end of this class, the student should be able to:\n",
    "\n",
    "- Describe the use of listas, which are sequences of elements of\n",
    "    different types\n",
    "\n",
    "- Enumerate the main methods available to work with lists"
   ]
  },
  {
   "cell_type": "markdown",
   "metadata": {
    "colab_type": "text",
    "id": "rc7T5CsYRHFI"
   },
   "source": [
    "# Data types: Lists"
   ]
  },
  {
   "cell_type": "markdown",
   "metadata": {
    "colab_type": "text",
    "id": "LRXkCaElRLHq"
   },
   "source": [
    "### A compound data type (recap)\n",
    "\n",
    "- So far we have seen built-in types like `int`, `float`, `bool`,\n",
    "    `str` and we've seen lists and pairs\n",
    "\n",
    "- Strings, **lists**, and tuples are qualitatively different from the\n",
    "    others because they are made up of smaller pieces\n",
    "\n",
    "- **Lists (and tuples) group any number of items, of different types,\n",
    "    into a single compound value**\n",
    "\n",
    "- Types that comprise smaller pieces are called **collection** or\n",
    "    **compound data types**\n",
    "\n",
    "- Depending on what we are doing, we may want to treat a compound data\n",
    "    type as a single thing"
   ]
  },
  {
   "cell_type": "markdown",
   "metadata": {
    "colab_type": "text",
    "id": "f8Wk_NqPR0nW"
   },
   "source": [
    "## 5.3.1 List values"
   ]
  },
  {
   "cell_type": "markdown",
   "metadata": {
    "colab_type": "text",
    "id": "4RMWAXZYStBQ"
   },
   "source": [
    "### Lists\n",
    "\n",
    "- A **list** is an ordered collection of values\n",
    "\n",
    "- The values that make up a list are called its **elements**, or its\n",
    "    **items**\n",
    "\n",
    "- Lists are similar to strings (which are ordered collections of characters) except that the elements of a list can have any type and for any one list, the items can be of **different types**.\n",
    "\n",
    "- Lists and strings --- and other collections that maintain the order\n",
    "    of their items --- are called **sequences**"
   ]
  },
  {
   "cell_type": "markdown",
   "metadata": {
    "colab_type": "text",
    "id": "l_O2Pi9gSxNe"
   },
   "source": [
    "### List values\n",
    "\n",
    "- There are several ways to create a new list\n",
    "\n",
    "```\n",
    "  numbers = [10, 20, 30, 40]\n",
    "\n",
    "  words = [\"spam\", \"bungee\", \"swallow\"]\n",
    "\n",
    "  stuffs = [\"hello\", 2.0, 5, [10, 20]]\n",
    "```\n",
    "\n",
    "- A list within another list is said to be **nested**\n",
    "\n",
    "- A list with no elements is called an **empty list**, and is denoted\n",
    "    `[]`"
   ]
  },
  {
   "cell_type": "code",
   "execution_count": null,
   "metadata": {
    "colab": {},
    "colab_type": "code",
    "id": "5zKCHQcp-tAS"
   },
   "outputs": [],
   "source": [
    "  stuffs = [\"hello\", 2.0, 5, [10, 20]]\n",
    "  print(stuffs)\n",
    "  type(stuffs)"
   ]
  },
  {
   "cell_type": "code",
   "execution_count": null,
   "metadata": {
    "colab": {},
    "colab_type": "code",
    "id": "KCh9yTzy-8G7"
   },
   "outputs": [],
   "source": [
    "vocabulary = [\"iteration\", \"selection\", \"control\"]\n",
    "numbers = [17, 123]\n",
    "empty = []\n",
    "mixed_list = [\"hello\", 2.0, 5*2, [10, 20]]\n",
    "\n",
    "print(numbers)\n",
    "print(mixed_list)\n",
    "newlist = [ numbers, vocabulary ]\n",
    "print(newlist)"
   ]
  },
  {
   "cell_type": "markdown",
   "metadata": {
    "colab_type": "text",
    "id": "5QMxKSY0R3hS"
   },
   "source": [
    "## 5.3.2 Accessing elements"
   ]
  },
  {
   "cell_type": "markdown",
   "metadata": {
    "colab_type": "text",
    "id": "arv8GzZoS5BX"
   },
   "source": [
    "### Accessing elements\n",
    "\n",
    "- The syntax for accessing the elements of a list is the index\n",
    "    operator: `[]`\n",
    "\n",
    "    - the syntax is the same as the syntax for accessing the\n",
    "        characters of a string\n",
    "\n",
    "- The expression inside the brackets specifies the index\n",
    "\n",
    "- Remember that the indices start at 0\n",
    "\n",
    "- Negative numbers represent reverse indexing\n",
    "\n",
    "```\n",
    "  >>> numbers = [10, 20, 30, 40]\n",
    "    \n",
    "  >>> numbers[1]\n",
    "  >>> numbers[-3]\n",
    "```"
   ]
  },
  {
   "cell_type": "code",
   "execution_count": null,
   "metadata": {
    "colab": {},
    "colab_type": "code",
    "id": "h5RlS9e1EfQS"
   },
   "outputs": [],
   "source": [
    "numbers = [17, 123, 87, 34, 66, 8398, 44]\n",
    "print(numbers[2])\n",
    "print(numbers[9 - 8])\n",
    "print(numbers[-2])"
   ]
  },
  {
   "cell_type": "markdown",
   "metadata": {
    "colab_type": "text",
    "id": "M9s2nWLM_Nxa"
   },
   "source": [
    "### List traversal\n",
    "\n",
    "It is common to use a loop variable as a list index\n"
   ]
  },
  {
   "cell_type": "code",
   "execution_count": null,
   "metadata": {
    "colab": {},
    "colab_type": "code",
    "id": "q_znilvP_Ue7"
   },
   "outputs": [],
   "source": [
    "horsemen = [\"war\", \"famine\", \"pestilence\", \"death\"]\n",
    "for i in [0, 1, 2, 3]:\n",
    "  print(horsemen[i])"
   ]
  },
  {
   "cell_type": "code",
   "execution_count": null,
   "metadata": {
    "colab": {},
    "colab_type": "code",
    "id": "OJ03Mz3Q_jXC"
   },
   "outputs": [],
   "source": [
    "horsemen = [\"war\", \"famine\", \"pestilence\", \"death\"]\n",
    "\n",
    "for h in horsemen:\n",
    "  print(h)"
   ]
  },
  {
   "cell_type": "markdown",
   "metadata": {
    "colab_type": "text",
    "id": "-bVhAmiRR6Wg"
   },
   "source": [
    "## 5.3.3 List length"
   ]
  },
  {
   "cell_type": "markdown",
   "metadata": {
    "colab_type": "text",
    "id": "fMCaltwJS_UV"
   },
   "source": [
    "### List length\n",
    "\n",
    "- The function `len` returns the length of a list, which is equal to\n",
    "    the number of its elements\n",
    "\n",
    "- It is a good idea to use this value as the upper bound of a loop, as\n",
    "    it accommodates changes in the list\n",
    "\n",
    "```\n",
    "   horsemen = [\"war\", \"famine\", \"pestilence\", \"death\"]\n",
    "\n",
    "   for i in range(len(horsemen)):\n",
    "       print(horsemen[i])\n",
    "\n",
    "   len([\"car makers\", 1, [\"Ford\", \"Toyota\", \"BMW\"], [1, 2, 3]])\n",
    "```"
   ]
  },
  {
   "cell_type": "code",
   "execution_count": null,
   "metadata": {
    "colab": {},
    "colab_type": "code",
    "id": "kDmbSaLP_s8G"
   },
   "outputs": [],
   "source": [
    "horsemen = [\"war\", \"famine\", \"pestilence\", \"death\"]\n",
    "\n",
    "for i in range(len(horsemen)):\n",
    "  print(horsemen[i])"
   ]
  },
  {
   "cell_type": "markdown",
   "metadata": {
    "colab_type": "text",
    "id": "q-KJEYHt_2Zw"
   },
   "source": [
    "See the result of:"
   ]
  },
  {
   "cell_type": "code",
   "execution_count": null,
   "metadata": {
    "colab": {},
    "colab_type": "code",
    "id": "VR5Msk0p_xE5"
   },
   "outputs": [],
   "source": [
    "len([\"car makers\", 1, [\"Ford\", \"Toyota\", \"BMW\"], [1, 2, 3]])"
   ]
  },
  {
   "cell_type": "code",
   "execution_count": null,
   "metadata": {
    "colab": {},
    "colab_type": "code",
    "id": "m0B9nY_CEOw2"
   },
   "outputs": [],
   "source": [
    "a_list =  [\"hello\", 2.0, 5, [10, 20]]\n",
    "print(len(a_list))\n",
    "print(len(['spam!', 1, ['Brie', 'Roquefort', 'Pol le Veq'], [1, 2, 3]]))"
   ]
  },
  {
   "cell_type": "markdown",
   "metadata": {
    "colab_type": "text",
    "id": "3CYKzxKVR_LB"
   },
   "source": [
    "## 5.3.4 List membership"
   ]
  },
  {
   "cell_type": "markdown",
   "metadata": {
    "colab_type": "text",
    "id": "ermJ2531TDb3"
   },
   "source": [
    "### List membership\n",
    "\n",
    "- `in` and `not in` are Boolean operators that test membership in a\n",
    "    sequence\n",
    "\n",
    "```\n",
    "  >>> horsemen = [\"war\", \"famine\", \"pestilence\", \"death\"]\n",
    "  >>> \"pestilence\" in horsemen\n",
    "  True\n",
    "  >>> \"debauchery\" in horsemen\n",
    "  False\n",
    "  >>> \"debauchery\" not in horsemen\n",
    "  True\n",
    "```"
   ]
  },
  {
   "cell_type": "code",
   "execution_count": null,
   "metadata": {
    "colab": {},
    "colab_type": "code",
    "id": "YXsTW9jBEscR"
   },
   "outputs": [],
   "source": [
    "a_list = [3, 67, \"cat\", [56, 57, \"dog\"], [ ], 3.14, False]\n",
    "print(3.14 in a_list)\n",
    "print(\"dog\" in a_list)"
   ]
  },
  {
   "cell_type": "markdown",
   "metadata": {
    "colab_type": "text",
    "id": "AOxgzxP-AnYB"
   },
   "source": [
    "### Nested loop revisited"
   ]
  },
  {
   "cell_type": "markdown",
   "metadata": {
    "colab_type": "text",
    "id": "u09W84uVATr_"
   },
   "source": [
    "Count how many students are taking \"CompSci\""
   ]
  },
  {
   "cell_type": "code",
   "execution_count": null,
   "metadata": {
    "colab": {},
    "colab_type": "code",
    "id": "bFKD12tvALyw"
   },
   "outputs": [],
   "source": [
    "students = [\n",
    "    (\"John\", [\"CompSci\", \"Physics\"]),\n",
    "    (\"Vusi\", [\"Maths\", \"CompSci\", \"Stats\"]),\n",
    "    (\"Jess\", [\"CompSci\", \"Accounting\", \"Economics\", \"Management\"]),\n",
    "    (\"Sarah\", [\"InfSys\", \"Accounting\", \"Economics\", \"CommLaw\"]),\n",
    "    (\"Zuki\", [\"Sociology\", \"Economics\", \"Law\", \"Stats\", \"Music\"])]\n",
    "\n",
    "counter = 0\n",
    "for name, subjects in students:\n",
    "    if \"CompSci\" in subjects:\n",
    "        counter += 1\n",
    "\n",
    "print(\"The number of students taking CompSci is\", counter)"
   ]
  },
  {
   "cell_type": "markdown",
   "metadata": {
    "colab_type": "text",
    "id": "hK6VXsuLSCnL"
   },
   "source": [
    "## 5.3.5 List operations"
   ]
  },
  {
   "cell_type": "markdown",
   "metadata": {
    "colab_type": "text",
    "id": "qM1SumtITJ8K"
   },
   "source": [
    "### List operations\n",
    "\n",
    "- The `+` operator concatenates lists:\n",
    "\n",
    "```\n",
    "   >>> a = [1, 2, 3]\n",
    "   >>> b = [4, 5, 6]\n",
    "   >>> c = a + b\n",
    "   >>> c\n",
    "   [1, 2, 3, 4, 5, 6\n",
    "```"
   ]
  },
  {
   "cell_type": "code",
   "execution_count": null,
   "metadata": {
    "colab": {},
    "colab_type": "code",
    "id": "WP5eGCdBBJWb"
   },
   "outputs": [],
   "source": [
    "first_list = [1, 2, 3]\n",
    "second_list = [4, 5, 6]\n",
    "both_lists = first_list + second_list\n",
    "both_lists"
   ]
  },
  {
   "cell_type": "markdown",
   "metadata": {
    "colab_type": "text",
    "id": "oocpeePbTNdh"
   },
   "source": [
    "- Similarly, the `*` operator repeats a list a given number of times:\n",
    "\n",
    "```\n",
    "   >>> [0] * 4\n",
    "   [0, 0, 0, 0]\n",
    "   >>> [1, 2, 3] * 3\n",
    "   [1, 2, 3, 1, 2, 3, 1, 2, 3]\n",
    "```"
   ]
  },
  {
   "cell_type": "code",
   "execution_count": null,
   "metadata": {
    "colab": {},
    "colab_type": "code",
    "id": "l8wBm0zXBQeA"
   },
   "outputs": [],
   "source": [
    "print([0] * 4)\n",
    "print([1, 2, 3] * 3)"
   ]
  },
  {
   "cell_type": "markdown",
   "metadata": {
    "colab_type": "text",
    "id": "TWy4ShB5SF5B"
   },
   "source": [
    "## 5.3.6 List slices"
   ]
  },
  {
   "cell_type": "markdown",
   "metadata": {
    "colab_type": "text",
    "id": "siKDkeKeTR-H"
   },
   "source": [
    "### List slices\n",
    "\n",
    "- The slice operations we saw previously with strings let us work with\n",
    "    sublists:\n",
    "\n",
    "```\n",
    "   >>> a_list = [\"a\", \"b\", \"c\", \"d\", \"e\", \"f\"]\n",
    "   >>> a_list[1:3]\n",
    "   ['b', 'c']\n",
    "```"
   ]
  },
  {
   "cell_type": "code",
   "execution_count": null,
   "metadata": {
    "colab": {},
    "colab_type": "code",
    "id": "4JXyeeFTxWeU"
   },
   "outputs": [],
   "source": [
    "a_list = [\"a\", \"b\", \"c\", \"d\", \"e\", \"f\"]\n",
    "a_list[:4]"
   ]
  },
  {
   "cell_type": "code",
   "execution_count": null,
   "metadata": {
    "colab": {},
    "colab_type": "code",
    "id": "VKhkbTMExrzV"
   },
   "outputs": [],
   "source": [
    "a_list[3:]"
   ]
  },
  {
   "cell_type": "code",
   "execution_count": null,
   "metadata": {
    "colab": {},
    "colab_type": "code",
    "id": "g_R8jLZpxqKh"
   },
   "outputs": [],
   "source": [
    "a_list[:]"
   ]
  },
  {
   "cell_type": "markdown",
   "metadata": {
    "colab_type": "text",
    "id": "GPsR5VYPSImR"
   },
   "source": [
    "## 5.3.7 Lists are mutable"
   ]
  },
  {
   "cell_type": "markdown",
   "metadata": {
    "colab_type": "text",
    "id": "6XZ-iIXqTWoN"
   },
   "source": [
    "### Lists are mutable\n",
    "\n",
    "- Unlike strings, lists are **mutable**, which means we can change their\n",
    "    elements\n",
    "\n",
    "- An assignment to an element of a list is called **item assignment**\n",
    "\n",
    "```\n",
    "   >>> fruit = [\"banana\", \"apple\", \"quince\"]\n",
    "   >>> fruit[0] = \"pear\"\n",
    "   >>> fruit[2] = \"orange\"\n",
    "   >>> fruit\n",
    "   ['pear', 'apple', 'orange']\n",
    "```"
   ]
  },
  {
   "cell_type": "code",
   "execution_count": null,
   "metadata": {
    "colab": {},
    "colab_type": "code",
    "id": "L2CJnl79yv_4"
   },
   "outputs": [],
   "source": [
    "a_list = [\"a\", \"b\", \"c\", \"d\", \"e\", \"f\"]\n",
    "a_list[1:3] = []\n",
    "a_list"
   ]
  },
  {
   "cell_type": "code",
   "execution_count": null,
   "metadata": {
    "colab": {},
    "colab_type": "code",
    "id": "tdtBDNFazDI3"
   },
   "outputs": [],
   "source": [
    "a_list = [\"a\", \"d\", \"f\"]\n",
    "a_list[1:1] = [\"b\", \"c\"]\n",
    "a_list"
   ]
  },
  {
   "cell_type": "code",
   "execution_count": null,
   "metadata": {
    "colab": {},
    "colab_type": "code",
    "id": "O2I1HopPzJrL"
   },
   "outputs": [],
   "source": [
    "a_list[4:4] = [\"e\"]\n",
    "a_list"
   ]
  },
  {
   "cell_type": "markdown",
   "metadata": {
    "colab_type": "text",
    "id": "RjHWfcg1SLnN"
   },
   "source": [
    "## 5.3.8 List deletion"
   ]
  },
  {
   "cell_type": "markdown",
   "metadata": {
    "colab_type": "text",
    "id": "4HEq24kPTdRz"
   },
   "source": [
    "### List deletion\n",
    "\n",
    "- Using slices to delete list elements can be error-prone\n",
    "\n",
    "- The `del` statement removes an element from a list\n",
    "\n",
    "```\n",
    "   >>> a = [\"one\", \"two\", \"three\"]\n",
    "   >>> del a[1]\n",
    "   >>> a\n",
    "   [\"one\", \"three\"]\n",
    "```"
   ]
  },
  {
   "cell_type": "code",
   "execution_count": null,
   "metadata": {
    "colab": {},
    "colab_type": "code",
    "id": "83Yid19Szfh3"
   },
   "outputs": [],
   "source": [
    "a_list = [\"a\", \"b\", \"c\", \"d\", \"e\", \"f\"]\n",
    "del a_list[1:5]\n",
    "a_list"
   ]
  },
  {
   "cell_type": "markdown",
   "metadata": {
    "colab_type": "text",
    "id": "dpPRsprnSPDZ"
   },
   "source": [
    "## 5.3.9 Objects and references"
   ]
  },
  {
   "cell_type": "markdown",
   "metadata": {
    "colab_type": "text",
    "id": "TCWAo1zKTma2"
   },
   "source": [
    "### Objects and references\n",
    "\n",
    "\n",
    "- Since strings are *immutable*, Python optimizes resources by making\n",
    "    two names that **refer** to the same string value refer to the same\n",
    "    object\n",
    "\n",
    "```\n",
    "   >>> a = \"banana\"\n",
    "   >>> b = \"banana\"\n",
    "   >>> a is b\n",
    "   True\n",
    "```\n",
    "![banana](images/09/banana.png)\n"
   ]
  },
  {
   "cell_type": "markdown",
   "metadata": {
    "colab_type": "text",
    "id": "ToYnko-L03A8"
   },
   "source": [
    "-  that's not the case with lists\n",
    "\n",
    "```\n",
    "   >>> a = [1, 2, 3]\n",
    "   >>> b = [1, 2, 3]\n",
    "   >>> a == b\n",
    "   True\n",
    "   \n",
    "   >>> a is b\n",
    "   False\n",
    "```\n",
    "\n",
    "![lists](images/09/lists.png)\n"
   ]
  },
  {
   "cell_type": "markdown",
   "metadata": {
    "colab_type": "text",
    "id": "BQuGGbIl1hSl"
   },
   "source": [
    "-  a and b have the same value but do not refer to the same objec"
   ]
  },
  {
   "cell_type": "code",
   "execution_count": null,
   "metadata": {
    "colab": {},
    "colab_type": "code",
    "id": "pXax2TYp1Kiy"
   },
   "outputs": [],
   "source": [
    "a = [81, 82, 83]\n",
    "b = [81, 82, 83]"
   ]
  },
  {
   "cell_type": "markdown",
   "metadata": {
    "colab_type": "text",
    "id": "_HmHC5aXGKvo"
   },
   "source": [
    "![references](images/09/refs.png)"
   ]
  },
  {
   "cell_type": "code",
   "execution_count": null,
   "metadata": {
    "colab": {},
    "colab_type": "code",
    "id": "KVe9UbgfGJuZ"
   },
   "outputs": [],
   "source": [
    "a == b"
   ]
  },
  {
   "cell_type": "code",
   "execution_count": null,
   "metadata": {
    "colab": {},
    "colab_type": "code",
    "id": "IUv51SXM1Yay"
   },
   "outputs": [],
   "source": [
    "a is b"
   ]
  },
  {
   "cell_type": "markdown",
   "metadata": {
    "colab_type": "text",
    "id": "SUcA8Ecc5xFU"
   },
   "source": [
    "### Repetition and References\n",
    "\n",
    "\n",
    "With a list, the repetition operator creates copies of the references."
   ]
  },
  {
   "cell_type": "code",
   "execution_count": null,
   "metadata": {
    "colab": {},
    "colab_type": "code",
    "id": "yIcJj0Pu5s6n"
   },
   "outputs": [],
   "source": [
    "origlist = [45, 76, 34, 55]\n",
    "print(origlist * 3)\n",
    "\n",
    "newlist = [origlist] * 3\n",
    "\n",
    "print(newlist)"
   ]
  },
  {
   "cell_type": "markdown",
   "metadata": {
    "colab_type": "text",
    "id": "uNCSSMZ96Oiq"
   },
   "source": [
    "![repetition](images/09/repetition.png)"
   ]
  },
  {
   "cell_type": "code",
   "execution_count": null,
   "metadata": {
    "colab": {},
    "colab_type": "code",
    "id": "y6cwa5tE7FxU"
   },
   "outputs": [],
   "source": [
    "origlist[1] = 99"
   ]
  },
  {
   "cell_type": "markdown",
   "metadata": {
    "colab_type": "text",
    "id": "zq0Lbbc77Wl5"
   },
   "source": [
    "![alises2](images/09/alias2.png)"
   ]
  },
  {
   "cell_type": "markdown",
   "metadata": {
    "colab_type": "text",
    "id": "RfQEDjDBSR2E"
   },
   "source": [
    "## 5.3.10 Aliasing"
   ]
  },
  {
   "cell_type": "markdown",
   "metadata": {
    "colab_type": "text",
    "id": "Hc6u-ou-TsRT"
   },
   "source": [
    "### Aliasing\n",
    "\n",
    "- Since variables refer to objects, if we assign one variable to\n",
    "    another, both variables refer to the same object\n",
    "\n",
    "- Although this behavior can be useful, it is sometimes unexpected or\n",
    "    undesirable\n",
    "\n",
    "```\n",
    "   >>> a = [1, 2, 3]\n",
    "   >>> b = a\n",
    "\n",
    "   >>> a is b\n",
    "   True\n",
    "\n",
    "   >>> b[0] = 5\n",
    "   >>> a\n",
    "   [5, 2, 3]\n",
    "```\n",
    "![aliases](images/09/lists2.png)"
   ]
  },
  {
   "cell_type": "markdown",
   "metadata": {
    "colab_type": "text",
    "id": "oNkR6p9a2Ik1"
   },
   "source": [
    "- Because the same list has two different names, `a` and `b`, we say that it is **aliased**. \n",
    "- Changes made with one alias affect the other:"
   ]
  },
  {
   "cell_type": "code",
   "execution_count": null,
   "metadata": {
    "colab": {},
    "colab_type": "code",
    "id": "lNMLH9nK2ULT"
   },
   "outputs": [],
   "source": [
    "a = [81, 82, 83]\n",
    "b = a\n",
    "print(b is a)\n",
    "b[0] = 85\n",
    "a"
   ]
  },
  {
   "cell_type": "markdown",
   "metadata": {
    "colab_type": "text",
    "id": "9JMjWESdGpDE"
   },
   "source": [
    "![alias](images/09/alias.png)"
   ]
  },
  {
   "cell_type": "markdown",
   "metadata": {
    "colab_type": "text",
    "id": "WSUtXtyXoxi1"
   },
   "source": [
    "### The use of aliases\n",
    "\n",
    "Why would you want to refer to one and the same variable by two different names? \n",
    "\n",
    "- Ordinarily, you don't. \n",
    "\n",
    "- However, some Python programming constructs automatically make use of aliases. \n",
    "\n",
    "- Actually, function argument identifiers are actually an alias to the variable they represent outside the function, with some consequences.\n"
   ]
  },
  {
   "cell_type": "markdown",
   "metadata": {
    "colab_type": "text",
    "id": "bO-JlJUXSVQn"
   },
   "source": [
    "## 5.3.11 Cloning lists"
   ]
  },
  {
   "cell_type": "markdown",
   "metadata": {
    "colab_type": "text",
    "id": "xFlvXvekTwC5"
   },
   "source": [
    "### Cloning lists\n",
    "\n",
    "- If we want to modify a list and also keep a copy of the original\n",
    "\n",
    "- The easiest way to **clone** a list is to use the slice operator\n",
    "\n",
    "```\n",
    "   >>> a = [1, 2, 3]\n",
    "   >>> b = a[:]     # considered bad practice\n",
    "   >>> c = a.copy() # better in Python3\n",
    "   \n",
    "   >>> b\n",
    "   [1, 2, 3]\n",
    "\n",
    "   >>> b[0] = 5\n",
    "\n",
    "   >>> a\n",
    "   [1, 2, 3]\n",
    "```"
   ]
  },
  {
   "cell_type": "markdown",
   "metadata": {
    "colab_type": "text",
    "id": "7HuEiSwP2nj1"
   },
   "source": [
    "Let's try it:"
   ]
  },
  {
   "cell_type": "code",
   "execution_count": null,
   "metadata": {
    "colab": {},
    "colab_type": "code",
    "id": "Z4F8ZZl32qEh"
   },
   "outputs": [],
   "source": [
    "a = [1, 2, 3]\n",
    "b = a.copy()\n",
    "print(b is a)\n",
    "b"
   ]
  },
  {
   "cell_type": "markdown",
   "metadata": {
    "colab_type": "text",
    "id": "aBqqPS7A25Ns"
   },
   "source": [
    "Now we are free to make changes to b without worrying that we’ll inadvertently be changing a:"
   ]
  },
  {
   "cell_type": "code",
   "execution_count": null,
   "metadata": {
    "colab": {},
    "colab_type": "code",
    "id": "5CG3sd1s27TE"
   },
   "outputs": [],
   "source": [
    "b[0] = 5\n",
    "a"
   ]
  },
  {
   "cell_type": "markdown",
   "metadata": {
    "colab_type": "text",
    "id": "wJHg8Bf1SlGl"
   },
   "source": [
    "## Using `zip()`"
   ]
  },
  {
   "cell_type": "markdown",
   "metadata": {
    "colab_type": "text",
    "id": "JIv668tJhXdI"
   },
   "source": [
    "### `zip()`\n",
    "\n",
    "- `zip()` is available in the built-in namespace\n",
    "\n",
    "- According to [the official documentation](https://docs.python.org/3/library/functions.html#zip), Python’s `zip()` function behaves as follows:\n",
    "\n",
    "> Returns an iterator of tuples, where the i-th tuple contains the i-th element \n",
    "> from each of the argument sequences or iterables. \n",
    "> \n",
    "> The iterator stops when the shortest input iterable is exhausted. \n",
    "> \n",
    "> With a single iterable argument, it returns an iterator of 1-tuples. \n",
    "> With no arguments, it returns an empty iterator. \n",
    "\n",
    "\n",
    "[Understanding the Python zip() Function](https://realpython.com/python-zip-function/#understanding-the-python-zip-function)"
   ]
  },
  {
   "cell_type": "markdown",
   "metadata": {
    "colab_type": "text",
    "id": "sPbUPw7ZT12U"
   },
   "source": [
    "### Using `zip()`\n",
    "\n",
    "\n",
    "```\n",
    "    coordinate = ['x', 'y', 'z']\n",
    "    value = [1, 2, 3, 4, 5]\n",
    "\n",
    "    result = zip(coordinate, value)\n",
    "    result_list = list(result)\n",
    "    print(result_list)\n",
    "\n",
    "    c, v =  zip(*result_list)\n",
    "    print(\"c =\", c)\n",
    "    print(\"v =\", v)\n",
    "```"
   ]
  },
  {
   "cell_type": "markdown",
   "metadata": {
    "colab_type": "text",
    "id": "r93ZkAVTkV6H"
   },
   "source": [
    "Try these:"
   ]
  },
  {
   "cell_type": "code",
   "execution_count": null,
   "metadata": {
    "colab": {},
    "colab_type": "code",
    "id": "ai37hyE03RPL"
   },
   "outputs": [],
   "source": [
    "l1 = ['a', 'b', 'c']\n",
    "l2 = [1, 2, 3, 4]\n",
    "\n",
    "z1 = zip(l1, l2)\n",
    "print(z1)\n",
    "print(type(z1))\n",
    "\n",
    "l3 = list(z1)\n",
    "print(l3)\n",
    "print(type(l3))"
   ]
  },
  {
   "cell_type": "code",
   "execution_count": null,
   "metadata": {
    "colab": {},
    "colab_type": "code",
    "id": "BBG6jDzN4eOY"
   },
   "outputs": [],
   "source": [
    "c, n =  zip(*l3)\n",
    "print(\"c =\", c)\n",
    "print(\"n =\", n)"
   ]
  },
  {
   "cell_type": "markdown",
   "metadata": {
    "colab_type": "text",
    "id": "TcLnGXLRkRP_"
   },
   "source": [
    "One more example:"
   ]
  },
  {
   "cell_type": "code",
   "execution_count": null,
   "metadata": {
    "colab": {},
    "colab_type": "code",
    "id": "EfEQOdHTkGpR"
   },
   "outputs": [],
   "source": [
    "letters = ['a', 'b', 'c']\n",
    "numbers = [0, 1, 2]\n",
    "for l, n in zip(letters, numbers):\n",
    "    print(f'Letter: {l}')\n",
    "    print(f'Number: {n}')"
   ]
  },
  {
   "cell_type": "markdown",
   "metadata": {
    "colab_type": "text",
    "id": "-88zpLeGUG3t"
   },
   "source": [
    "## List Operations"
   ]
  },
  {
   "cell_type": "markdown",
   "metadata": {
    "colab_type": "text",
    "id": "WHb8omgGUDg1"
   },
   "source": [
    "### List Operations\n",
    "\n",
    "- See the Python Standard Library for:\n",
    "\n",
    "  - a comprehensive list of \"Common Sequence Operations\":\n",
    "    [[PSL](https://docs.python.org/3.7/library/stdtypes.html#common-sequence-operations)]\n",
    "\n",
    "  - a comprehensive list of operations on \"Mutable Sequence Types\":\n",
    "    [[PSL](https://docs.python.org/3.7/library/stdtypes.html#mutable-sequence-types)]"
   ]
  },
  {
   "cell_type": "markdown",
   "metadata": {
    "colab_type": "text",
    "id": "9tZKDON_IwFg",
    "slideshow": {
     "slide_type": "skip"
    }
   },
   "source": [
    "## 5.3.12 Lists and for loops"
   ]
  },
  {
   "cell_type": "markdown",
   "metadata": {
    "colab_type": "text",
    "id": "vTCz3m6inp7g",
    "slideshow": {
     "slide_type": "subslide"
    }
   },
   "source": [
    "### Lists and `for` loops\n",
    "\n",
    "- The `for` loop also works with lists, as we've already seen\n",
    "\n",
    "- The generalized syntax of a `for` loop is:\n",
    "\n",
    "```\n",
    "   for <VARIABLE> in <LIST>:\n",
    "       <BODY>\n",
    "```"
   ]
  },
  {
   "cell_type": "markdown",
   "metadata": {
    "colab_type": "text",
    "id": "iuQclvxaBOG8",
    "slideshow": {
     "slide_type": "fragment"
    }
   },
   "source": [
    "\"For (every) friend in (the list of) friends, print (the name of the) friend\":"
   ]
  },
  {
   "cell_type": "code",
   "execution_count": null,
   "metadata": {
    "colab": {},
    "colab_type": "code",
    "id": "gVSlhxo2BDA7",
    "slideshow": {
     "slide_type": "slide"
    }
   },
   "outputs": [],
   "source": [
    "friends = [\"Joe\", \"Zoe\", \"Brad\", \"Angelina\", \"Zuki\", \"Thandi\", \"Paris\"]\n",
    "for friend in friends:\n",
    "    print(friend)"
   ]
  },
  {
   "cell_type": "markdown",
   "metadata": {
    "colab_type": "text",
    "id": "wx5xbc8Vn4ha",
    "slideshow": {
     "slide_type": "subslide"
    }
   },
   "source": [
    "### List expressions in for loops\n",
    "\n",
    "\n",
    "- Any list expression can be used in a `for` loop\n",
    "\n",
    "- `enumerate` generates pairs of both *(index, value)* during the list\n",
    "    traversal\n",
    "\n",
    "```\n",
    "   xs = [1, 2, 3, 4, 5]\n",
    "\n",
    "   for (i, val) in enumerate(xs):\n",
    "       xs[i] = val**2\n",
    "```\n"
   ]
  },
  {
   "cell_type": "markdown",
   "metadata": {
    "colab_type": "text",
    "id": "u69dF0B6yCrS",
    "slideshow": {
     "slide_type": "subslide"
    }
   },
   "source": [
    "Any list expression can be used in a for loop:"
   ]
  },
  {
   "cell_type": "code",
   "execution_count": null,
   "metadata": {
    "colab": {},
    "colab_type": "code",
    "id": "Kv91rTEbx7eH",
    "slideshow": {
     "slide_type": "fragment"
    }
   },
   "outputs": [],
   "source": [
    "for fruit in [\"banana\", \"apple\", \"quince\"]:\n",
    "    print(\"I like to eat \" + fruit + \"s!\")"
   ]
  },
  {
   "cell_type": "markdown",
   "metadata": {
    "colab_type": "text",
    "id": "7t0yPDhGyNq8",
    "slideshow": {
     "slide_type": "subslide"
    }
   },
   "source": [
    "Since lists are mutable, we often want to traverse a list, changing each of its elements"
   ]
  },
  {
   "cell_type": "code",
   "execution_count": null,
   "metadata": {
    "colab": {},
    "colab_type": "code",
    "id": "TK9FhCCTyTRe",
    "slideshow": {
     "slide_type": "fragment"
    }
   },
   "outputs": [],
   "source": [
    "xs = [1, 2, 3, 4, 5]\n",
    "\n",
    "for i in range(len(xs)):\n",
    "    xs[i] = xs[i]**2\n",
    "\n",
    "print(xs)"
   ]
  },
  {
   "cell_type": "markdown",
   "metadata": {
    "colab_type": "text",
    "id": "OCWQ0sXEyfa7",
    "slideshow": {
     "slide_type": "subslide"
    }
   },
   "source": [
    "Often we are interested in the value and also in the index; there's a *pattern* in Python for that"
   ]
  },
  {
   "cell_type": "code",
   "execution_count": null,
   "metadata": {
    "colab": {},
    "colab_type": "code",
    "id": "6j2fZYO6yaaj",
    "slideshow": {
     "slide_type": "fragment"
    }
   },
   "outputs": [],
   "source": [
    "xs = [1, 2, 3, 4, 5]\n",
    "\n",
    "for (i, val) in enumerate(xs):\n",
    "    xs[i] = val**2\n",
    "\n",
    "print(xs)"
   ]
  },
  {
   "cell_type": "markdown",
   "metadata": {
    "colab_type": "text",
    "id": "rgRJaKLQyrJ6",
    "slideshow": {
     "slide_type": "subslide"
    }
   },
   "source": [
    "Enumerate generates pairs of both (index, value) during the list traversal"
   ]
  },
  {
   "cell_type": "code",
   "execution_count": null,
   "metadata": {
    "colab": {},
    "colab_type": "code",
    "id": "ImXaYiSoyxCC",
    "slideshow": {
     "slide_type": "fragment"
    }
   },
   "outputs": [],
   "source": [
    "for (i, v) in enumerate([\"banana\", \"apple\", \"pear\", \"lemon\"]):\n",
    "    print(i, v)"
   ]
  },
  {
   "cell_type": "markdown",
   "metadata": {
    "colab_type": "text",
    "id": "84_9qGxnI0LH",
    "slideshow": {
     "slide_type": "skip"
    }
   },
   "source": [
    "## 5.3.13 List parameters"
   ]
  },
  {
   "cell_type": "markdown",
   "metadata": {
    "colab_type": "text",
    "id": "LsWiW_k2oET7",
    "slideshow": {
     "slide_type": "subslide"
    }
   },
   "source": [
    "### List parameters\n",
    "\n",
    "- Passing a list as an argument actually passes a *reference* to the\n",
    "    list, **not a copy** or clone of the list\n",
    "\n",
    "- So parameter passing creates an alias<sup>1</sup>\n",
    "\n",
    "```\n",
    "  def double_stuff(things):\n",
    "      \"\"\" Overwrite each element in a_list with double its value. \"\"\"\n",
    "      ...\n",
    "  a_list = [2, 5, 9]\n",
    "  double_stuff(a_list)\n",
    "```\n",
    "\n",
    "<sup>1</sup> The caller has one variable referencing the list, and the called\n",
    "    function has an alias, but there is only one underlying list object"
   ]
  },
  {
   "cell_type": "markdown",
   "metadata": {
    "slideshow": {
     "slide_type": "subslide"
    }
   },
   "source": [
    "\n",
    "![double_stuff](images/09/double_stuff.png)"
   ]
  },
  {
   "cell_type": "code",
   "execution_count": null,
   "metadata": {
    "colab": {},
    "colab_type": "code",
    "id": "G9lw6mlvzAFT",
    "slideshow": {
     "slide_type": "subslide"
    }
   },
   "outputs": [],
   "source": [
    "# A modifier or impure function (see later)\n",
    "def double_stuff(a_list):\n",
    "    \"\"\" Overwrite each element in a_list with double its value. \"\"\"\n",
    "    for (index, stuff) in enumerate(a_list):\n",
    "        a_list[index] = 2 * stuff\n",
    "\n",
    "things = [2, 5, 9]\n",
    "print(things)\n",
    "\n",
    "double_stuff(things)\n",
    "print(things)"
   ]
  },
  {
   "cell_type": "markdown",
   "metadata": {
    "colab_type": "text",
    "id": "whdHu_ClI3uP",
    "slideshow": {
     "slide_type": "skip"
    }
   },
   "source": [
    "## 5.3.14 List methods"
   ]
  },
  {
   "cell_type": "markdown",
   "metadata": {
    "colab_type": "text",
    "id": "rjC_4AQvue81",
    "slideshow": {
     "slide_type": "subslide"
    }
   },
   "source": [
    "### List methods\n",
    "\n",
    "- The dot operator can also be used to access built-in methods of list\n",
    "    objects\n",
    "\n",
    "```\n",
    "    >>> mylist = []\n",
    "    >>> mylist.append(5)      # Add 5 onto the end of mylist\n",
    "    >>> mylist.append(12)\n",
    "    >>> mylist\n",
    "    [5, 12]\n",
    "\n",
    "    >>> mylist.insert(1, 12)  # Insert 12 at pos 1, shift others\n",
    "    >>> mylist.count(12)      # How many times is 12 in mylist?\n",
    "\n",
    "    >>> mylist.extend([5, 9, 5, 11])\n",
    "    >>> mylist.index(9)       # Find index of first 9 in mylist\n",
    "    >>> mylist.reverse()\n",
    "    >>> mylist.sort()\n",
    "    >>> mylist.remove(12)     # Remove the first 12 in mylist\n",
    "```"
   ]
  },
  {
   "cell_type": "markdown",
   "metadata": {
    "colab_type": "text",
    "id": "GnDR_NxF8BrV",
    "slideshow": {
     "slide_type": "subslide"
    }
   },
   "source": [
    "### List Methods (summary)\n",
    "\n",
    "| Method  | Parameters      | Result   | Description  |\n",
    "|:--------|:----------------|:---------|:-------------|\n",
    "| append  | item            | mutator  | Adds a new item to the end of a list  |\n",
    "| insert  | position, item  | mutator  | Inserts a new item at the position given  |\n",
    "| pop     | none            | hybrid   | Removes and returns the last item  |\n",
    "| pop     | position        | hybrid   | Removes and returns the item at position  |\n",
    "| sort    | none            | mutator  | Modifies a list to be sorted  |\n",
    "| reverse | none            | mutator  | Modifies a list to be in reverse order  |\n",
    "| index   | item            | return idx | Returns the position of first occurrence of item  |\n",
    "| count   | item            | return ct  | Returns the number of occurrences of item  |\n",
    "| remove  | item            | mutator  | Removes the first occurrence of item  |\n",
    "\n",
    "- **mutator** means that the list is changed by the method but nothing is returned (actually None is returned)\n",
    "- **hybrid** method is one that not only changes the list but also returns a value as its result. \n",
    "- if the result is simply a **return**, then the list is unchanged by the method.\n"
   ]
  },
  {
   "cell_type": "markdown",
   "metadata": {
    "colab_type": "text",
    "id": "SJjOm5VBI8d2",
    "slideshow": {
     "slide_type": "skip"
    }
   },
   "source": [
    "## 5.3.15 Pure functions and modifiers (make *side-effects*)"
   ]
  },
  {
   "cell_type": "markdown",
   "metadata": {
    "colab_type": "text",
    "id": "k0GEbt0HuoE6",
    "slideshow": {
     "slide_type": "subslide"
    }
   },
   "source": [
    "### Pure functions and modifiers\n",
    "\n",
    "\n",
    "- As seen before, *there is a difference between a pure function and\n",
    "    one with side-effects*\n",
    "\n",
    "- Functions which take lists as arguments and change them during\n",
    "    execution are called **modifiers** and the changes they make are\n",
    "    called **side effects**\n",
    "\n",
    "- A **pure function** does not produce side effects\n",
    "\n",
    "    - It communicates with the calling program only through\n",
    "        parameters, which it does not modify, and a return value\n",
    "\n"
   ]
  },
  {
   "cell_type": "markdown",
   "metadata": {
    "colab_type": "text",
    "id": "YO6bfKASzRSq",
    "slideshow": {
     "slide_type": "subslide"
    }
   },
   "source": [
    "A version of `double_stuff()` as pure function (does not change its arguments):"
   ]
  },
  {
   "cell_type": "code",
   "execution_count": null,
   "metadata": {
    "colab": {},
    "colab_type": "code",
    "id": "tPEeRoXozVKX",
    "slideshow": {
     "slide_type": "fragment"
    }
   },
   "outputs": [],
   "source": [
    "def double_stuff2(a_list):\n",
    "    \"\"\" Return a new list which contains doubles of the elements in a_list. \"\"\"\n",
    "    new_list = []\n",
    "    for value in a_list:\n",
    "        new_elem = 2 * value\n",
    "        new_list.append(new_elem)\n",
    "    return new_list\n",
    "\n",
    "things = [2, 5, 9]\n",
    "print(things)\n",
    "\n",
    "double_stuff2(things)\n",
    "print(things)\n",
    "\n",
    "things2 = double_stuff2(things)\n",
    "print(things2)"
   ]
  },
  {
   "cell_type": "markdown",
   "metadata": {
    "colab_type": "text",
    "id": "BNdgVyqPEA1u",
    "slideshow": {
     "slide_type": "subslide"
    }
   },
   "source": [
    "### Functional Programming (style)\n",
    "\n",
    "- Anything that can be done with modifiers can also be done with pure functions. \n",
    "- In fact, some programming languages only allow pure functions (                               [Scheme](https://en.wikipedia.org/wiki/Scheme_(programming_language) ), [Haskel](https://en.wikipedia.org/wiki/Haskell_(programming_language) )). \n",
    "- There is some evidence that programs that use pure functions are faster to develop and less error-prone than programs that use modifiers. \n",
    "- Nevertheless, modifiers are convenient at times, and in some cases, functional programs are less efficient.\n",
    "\n",
    "\n",
    "> In general, it is recommended that you write pure functions whenever it is reasonable to do so and resort to modifiers only if there is a compelling advantage."
   ]
  },
  {
   "cell_type": "markdown",
   "metadata": {
    "colab_type": "text",
    "id": "R8FxF3b5I_8N",
    "slideshow": {
     "slide_type": "skip"
    }
   },
   "source": [
    "## 5.3.16 Functions that produce lists"
   ]
  },
  {
   "cell_type": "markdown",
   "metadata": {
    "colab_type": "text",
    "id": "7jnRns3sEnEw",
    "slideshow": {
     "slide_type": "subslide"
    }
   },
   "source": [
    "### Functions that produce lists\n",
    "\n",
    "- Whenever you need to write a function that creates and returns a\n",
    "    list, the *pattern* is usually:\n",
    "\n",
    "```\n",
    "   initialize a result variable to be an empty list\n",
    "   loop\n",
    "      create a new element\n",
    "      append it to result\n",
    "   return the result\n",
    "```"
   ]
  },
  {
   "cell_type": "markdown",
   "metadata": {
    "colab_type": "text",
    "id": "TYLk2f-mvAD8",
    "slideshow": {
     "slide_type": "fragment"
    }
   },
   "source": [
    "```\n",
    "   def primes_lessthan(n):\n",
    "       \"\"\" Return a list of all prime numbers less than n. \"\"\"\n",
    "       result = []\n",
    "       for i in range(2, n):\n",
    "           if is_prime(i):\n",
    "               result.append(i)\n",
    "   return result\n",
    "```"
   ]
  },
  {
   "cell_type": "markdown",
   "metadata": {
    "colab_type": "text",
    "id": "-iQA2axnJCrb",
    "slideshow": {
     "slide_type": "skip"
    }
   },
   "source": [
    "## 5.3.17 Strings and lists"
   ]
  },
  {
   "cell_type": "markdown",
   "metadata": {
    "colab_type": "text",
    "id": "ud3yYphvvWIJ",
    "slideshow": {
     "slide_type": "subslide"
    }
   },
   "source": [
    "### Strings and lists\n",
    "\n",
    "\n",
    "- Two of the most useful methods on strings involve conversion to and\n",
    "    from lists of substrings\n",
    "\n",
    "- The `split` method breaks a string into a list of words\n",
    "\n",
    "- By default, any number of whitespace characters is considered a word\n",
    "    boundary\n",
    "\n",
    "- An optional argument called a **delimiter** can be used to specify\n",
    "    which string to use as the boundary marker between substrings\n",
    "\n",
    "- The inverse of the `split` method is `join`\n",
    "\n",
    "- You choose a desired **separator** string and join the list with the\n",
    "    glue between each of the elements\n"
   ]
  },
  {
   "cell_type": "markdown",
   "metadata": {
    "colab_type": "text",
    "id": "Js_VF_Njzl62",
    "slideshow": {
     "slide_type": "subslide"
    }
   },
   "source": [
    "split:"
   ]
  },
  {
   "cell_type": "code",
   "execution_count": null,
   "metadata": {
    "colab": {},
    "colab_type": "code",
    "id": "gIe-sa4Lzo0C",
    "slideshow": {
     "slide_type": "fragment"
    }
   },
   "outputs": [],
   "source": [
    "song = \"The rain in Spain stays mainly in the plain!\"\n",
    "words = song.split()\n",
    "print(words)\n",
    "\n",
    "words = song.split(\"ai\")\n",
    "print(words)"
   ]
  },
  {
   "cell_type": "markdown",
   "metadata": {
    "colab_type": "text",
    "id": "aBgl5B2P0KlT",
    "slideshow": {
     "slide_type": "subslide"
    }
   },
   "source": [
    "join:"
   ]
  },
  {
   "cell_type": "code",
   "execution_count": null,
   "metadata": {
    "colab": {},
    "colab_type": "code",
    "id": "iPN_soRM0HmF",
    "slideshow": {
     "slide_type": "fragment"
    }
   },
   "outputs": [],
   "source": [
    "words = song.split()\n",
    "glue = \";\"\n",
    "phrase = glue.join(words)\n",
    "print(phrase)\n",
    "\n",
    "print(\" --- \".join(words))\n",
    "print(\"\".join(words))"
   ]
  },
  {
   "cell_type": "markdown",
   "metadata": {
    "colab_type": "text",
    "id": "6kh_ynd8Ff9q",
    "slideshow": {
     "slide_type": "subslide"
    }
   },
   "source": [
    "What is printed by the following statements?"
   ]
  },
  {
   "cell_type": "code",
   "execution_count": null,
   "metadata": {
    "colab": {},
    "colab_type": "code",
    "id": "HFY8P4RBFiI5",
    "slideshow": {
     "slide_type": "fragment"
    }
   },
   "outputs": [],
   "source": [
    "myname = \"Edgar Allan Poe\"\n",
    "namelist = myname.split()\n",
    "init = \"\"\n",
    "\n",
    "for aname in namelist:\n",
    "    init = init + aname[0]\n",
    "\n",
    "print(init)"
   ]
  },
  {
   "cell_type": "markdown",
   "metadata": {
    "colab_type": "text",
    "id": "fthNH83pJGM7",
    "slideshow": {
     "slide_type": "subslide"
    }
   },
   "source": [
    "## 5.3.18 Type conversions: list and range"
   ]
  },
  {
   "cell_type": "markdown",
   "metadata": {
    "colab_type": "text",
    "id": "S7VSrJtov4hu",
    "slideshow": {
     "slide_type": "slide"
    }
   },
   "source": [
    "### `list`\n",
    "\n",
    "- Python has a built-in type conversion function called `list` that\n",
    "    tries to turn whatever you give it into a list\n",
    "\n",
    "```\n",
    "   >>> letters = list(\"Crunchy Frog\")\n",
    "   >>> letters\n",
    "   [\"C\", \"r\", \"u\", \"n\", \"c\", \"h\", \"y\", \" \", \"F\", \"r\", \"o\", \"g\"]\n",
    "   >>> \"\".join(letters)\n",
    "   'Crunchy Frog'\n",
    "```"
   ]
  },
  {
   "cell_type": "markdown",
   "metadata": {
    "colab_type": "text",
    "id": "vzKJzuNdv9Es",
    "slideshow": {
     "slide_type": "subslide"
    }
   },
   "source": [
    "### `range`\n",
    "\n",
    "\n",
    "- One particular feature of `range` is that it doesn't instantly\n",
    "    compute all its values:\n",
    "\n",
    "    - it \"puts off\" the computation, and does it on demand, or\n",
    "        \"lazily\"\n",
    "\n",
    "    - We'll say that it gives a **promise** to produce the values when\n",
    "        they are needed\n",
    "\n",
    "    - This is very convenient if your computation short-circuits a\n",
    "        search and returns early\n"
   ]
  },
  {
   "cell_type": "markdown",
   "metadata": {
    "colab_type": "text",
    "id": "539Wtkv2wAUa",
    "slideshow": {
     "slide_type": "subslide"
    }
   },
   "source": [
    "### `list` and `range`\n",
    "\n",
    "- You'll sometimes find the lazy range wrapped in a call to list\n",
    "\n",
    "- This forces Python to turn the *lazy promise* into an actual list\n",
    "\n",
    "```\n",
    "   >>> range(10)          # Create a lazy promise\n",
    "   range(0, 10)\n",
    "\n",
    "   >>> list(range(10))    # Call in the promise, to produce a list\n",
    "   [0, 1, 2, 3, 4, 5, 6, 7, 8, 9]\n",
    "```"
   ]
  },
  {
   "cell_type": "markdown",
   "metadata": {
    "colab_type": "text",
    "id": "R8ai-U6TJIeg",
    "slideshow": {
     "slide_type": "skip"
    }
   },
   "source": [
    "## 5.3.19 Looping and lists"
   ]
  },
  {
   "cell_type": "markdown",
   "metadata": {
    "colab_type": "text",
    "id": "gcqczAxUwEnd",
    "slideshow": {
     "slide_type": "subslide"
    }
   },
   "source": [
    "### Looping and lists\n",
    "\n",
    "\n",
    "- Computers are useful because they can repeat computation, accurately\n",
    "    and fast\n",
    "\n",
    "- So loops are going to be a central feature of almost all programs\n",
    "    you encounter\n",
    "\n",
    "Tip: Don't create unnecessary lists\n",
    "\n",
    "> Lists are useful if you need to keep data for later computation.\n",
    ">\n",
    "> But if you don't need lists, it is probably better not to generate them.\n"
   ]
  },
  {
   "cell_type": "markdown",
   "metadata": {
    "colab_type": "text",
    "id": "HDl7okZzJK0X",
    "slideshow": {
     "slide_type": "skip"
    }
   },
   "source": [
    "## 5.3.20 Nested lists"
   ]
  },
  {
   "cell_type": "markdown",
   "metadata": {
    "colab_type": "text",
    "id": "dCTGYCorw5_5",
    "slideshow": {
     "slide_type": "subslide"
    }
   },
   "source": [
    "### Nested lists\n",
    "\n",
    "- A nested list is a list that appears as an element in another list\n",
    "\n",
    "```\n",
    "   >>> nested = [\"hello\", 2.0, 5, [10, 20]]\n",
    "   >>> print(nested[3])\n",
    "   [10, 20]\n",
    "\n",
    "   >>>  nested[3][1]\n",
    "   20\n",
    "```"
   ]
  },
  {
   "cell_type": "markdown",
   "metadata": {
    "colab_type": "text",
    "id": "LzWbnqGTFJVX",
    "slideshow": {
     "slide_type": "subslide"
    }
   },
   "source": [
    " What is printed by the following statements?"
   ]
  },
  {
   "cell_type": "code",
   "execution_count": null,
   "metadata": {
    "colab": {},
    "colab_type": "code",
    "id": "bZiBJmmiFGpA",
    "scrolled": false,
    "slideshow": {
     "slide_type": "fragment"
    }
   },
   "outputs": [],
   "source": [
    "alist = [ [4, [True, False], 6, 8], [888, 999] ]\n",
    "if alist[0][1][0]:\n",
    "   print(alist[1][0])\n",
    "else:\n",
    "   print(alist[1][1])"
   ]
  },
  {
   "cell_type": "markdown",
   "metadata": {
    "colab_type": "text",
    "id": "z6afUhKcJNFj",
    "slideshow": {
     "slide_type": "skip"
    }
   },
   "source": [
    "## 5.3.21 Matrices"
   ]
  },
  {
   "cell_type": "markdown",
   "metadata": {
    "colab_type": "text",
    "id": "FFafDUVWw--a",
    "slideshow": {
     "slide_type": "subslide"
    }
   },
   "source": [
    "### Matrices\n",
    "\n",
    "- Nested lists are often used to represent matrices<sup>2</sup>\n",
    "\n",
    "- For example, the matrix:\n",
    "\n",
    "$$\\left[\n",
    "    \\begin{array}{ccc}\n",
    "    1  & 2  & 3 \\\\\n",
    "    4  & 5  & 6 \\\\\n",
    "    7  & 8  & 9\n",
    "    \\end{array}\n",
    "  \\right]$$\n",
    "\n",
    "```\n",
    "   >>> mx = [[1, 2, 3], [4, 5, 6], [7, 8, 9]]\n",
    "\n",
    "   >>> mx[1]       # select a row\n",
    "   [4, 5, 6]\n",
    "\n",
    "   >>> mx[1][2]    # extract a single element\n",
    "   6\n",
    "```\n",
    "\n",
    "<sup>2</sup> Later we will see a more radical alternative using a dictionary."
   ]
  }
 ],
 "metadata": {
  "colab": {
   "collapsed_sections": [
    "Zz-UtV8ORH_t"
   ],
   "name": "09-lists.ipynb",
   "private_outputs": true,
   "provenance": [],
   "toc_visible": true
  },
  "kernelspec": {
   "display_name": "Python 3",
   "language": "python",
   "name": "python3"
  },
  "language_info": {
   "codemirror_mode": {
    "name": "ipython",
    "version": 3
   },
   "file_extension": ".py",
   "mimetype": "text/x-python",
   "name": "python",
   "nbconvert_exporter": "python",
   "pygments_lexer": "ipython3",
   "version": "3.7.4"
  }
 },
 "nbformat": 4,
 "nbformat_minor": 1
}
