{
 "cells": [
  {
   "cell_type": "markdown",
   "metadata": {
    "colab_type": "text",
    "id": "8z5cONg8rUrX"
   },
   "source": [
    "# Functions"
   ]
  },
  {
   "cell_type": "markdown",
   "metadata": {
    "colab_type": "text",
    "id": "MZzE7pYorju5"
   },
   "source": [
    "## Goals\n",
    "\n",
    "By the end of this class, the student should be able to:\n",
    "\n",
    "\n",
    "- Describe function definition and formal parameters\n",
    "\n",
    "- Describe function body and local variables\n",
    "\n",
    "- Describe function call, actual parameters or arguments and the flow\n",
    "    of execution\n",
    "\n",
    "- Describe void functions and fruitful functions that return values\n",
    "\n",
    "- Use the Python Help and understand its meta-notation\n",
    "\n",
    "- Describe the basics of program debugging\n"
   ]
  },
  {
   "cell_type": "markdown",
   "metadata": {
    "colab_type": "text",
    "id": "5-x3RnJ0WpW5"
   },
   "source": [
    "# Help & debug"
   ]
  },
  {
   "cell_type": "markdown",
   "metadata": {
    "colab_type": "text",
    "id": "ZtOFJ3RaWIJi"
   },
   "source": [
    "### 3.3.8 Help & Meta-notation\n",
    "\n",
    "- Python comes with extensive documentation for all its built-in\n",
    "    functions, and its libraries.\n",
    "\n",
    "- See for example\n",
    "    [[docs.python.org/3/library/\\...range](https://docs.python.org/3/library/stdtypes.html#typesseq-range)]\n",
    "    \n",
    "- The square brackets (in the description of the arguments) are\n",
    "    examples of *meta-notation* --- notation that describes Python\n",
    "    syntax, but is not part of it\n",
    "\n",
    "    -   `range([start,] stop [, step])`\n",
    "\n",
    "    -   `for variable in list :`\n",
    "\n",
    "    -   `print( [object, ... ] )`\n",
    "\n",
    "-   Meta-notation gives us a concise and powerful way to describe the\n",
    "    *pattern* of some syntax or feature."
   ]
  },
  {
   "cell_type": "markdown",
   "metadata": {
    "colab_type": "text",
    "id": "2RRDA-HfW7Og"
   },
   "source": [
    "### How to be a Successful Programmer\n",
    "\n",
    "- One of the most important skills you need to aquire is the ability\n",
    "    to debug your programs\n",
    "\n",
    "- Debugging is a skill that you need to master over time\n",
    "\n",
    "- As programmers we spend 99% of our time trying to get our program to\n",
    "    work\n",
    "\n",
    "- But here is the secret, when you are successful, you are happy, your\n",
    "    brain releases a bit of chemical that makes you feel good\n",
    "\n",
    "- **Start small, get something small working, and then add to it**\n"
   ]
  },
  {
   "cell_type": "markdown",
   "metadata": {
    "colab_type": "text",
    "id": "KryyOvPAXDal"
   },
   "source": [
    "### How to Avoid Debugging\n",
    "\n",
    "\n",
    ">Mantra: Get something working and keep it working\n",
    "\n",
    "- **Start Small**\n",
    "\n",
    "    - This is probably the single biggest piece of advice for\n",
    "        programmers at every level.\n",
    "\n",
    "- **Keep it working**\n",
    "\n",
    "    - Once you have a small part of your program working the next step\n",
    "        is to figure out something small to add to it.\n"
   ]
  },
  {
   "cell_type": "markdown",
   "metadata": {
    "colab_type": "text",
    "id": "fxtTHNoKPrAL"
   },
   "source": [
    "# 4. Functions"
   ]
  },
  {
   "cell_type": "markdown",
   "metadata": {
    "colab_type": "text",
    "id": "UU97kB5o7v_n"
   },
   "source": [
    "## 4.1 Functions"
   ]
  },
  {
   "cell_type": "markdown",
   "metadata": {
    "colab_type": "text",
    "id": "LHos_7XR9Usg"
   },
   "source": [
    "### Functions\n",
    "\n",
    "- A *function* is a named sequence of statements that belong together\n",
    "\n",
    "- Their primary purpose is to help us organize programs into chunks\n",
    "    that match how we think about the problem\n",
    "\n",
    "- The syntax for a function definition is:\n",
    "\n",
    "```\n",
    "   def <NAME>( <PARAMETERS> ):\n",
    "       <STATEMENTS>\n",
    "```"
   ]
  },
  {
   "cell_type": "markdown",
   "metadata": {
    "colab_type": "text",
    "id": "dmwqYSHc9bM-"
   },
   "source": [
    "### Function definitions\n",
    "\n",
    "- Function definitions are **compound statements** which follow\n",
    "    the pattern:\n",
    "\n",
    "    1.  A **header** line which begins with the keyword **def** and ends with a\n",
    "        *colon*\n",
    "\n",
    "    2.  A **body** consisting of *one or more* Python statements, each\n",
    "        *indented* the same amount from the header line\n",
    "\n"
   ]
  },
  {
   "cell_type": "markdown",
   "metadata": {
    "colab_type": "text",
    "id": "e_7A01TK9jer"
   },
   "source": [
    "### Draw a square\n",
    "\n",
    "\n",
    "- Suppose we're working with turtles, and a common operation we need\n",
    "    is to *draw squares*\n",
    "\n",
    "- \"Draw a square\" is an abstraction, or a mental chunk, of a number of\n",
    "    smaller steps\n",
    "\n",
    "- So let's write a function to capture the pattern of this \"building\n",
    "    block\"\n"
   ]
  },
  {
   "cell_type": "code",
   "execution_count": null,
   "metadata": {
    "colab": {},
    "colab_type": "code",
    "id": "7DgYrnW0cOBP"
   },
   "outputs": [],
   "source": [
    "import turtle\n",
    "\n",
    "def draw_square(t, sz):\n",
    "    \"\"\"Make turtle t draw a square of with side sz.\"\"\"\n",
    "    for i in range(4):\n",
    "        t.forward(sz)\n",
    "        t.left(90)\n",
    "\n",
    "\n",
    "wn = turtle.Screen()      # Set up the window and its attributes\n",
    "wn.bgcolor(\"lightgreen\")\n",
    "\n",
    "alex = turtle.Turtle()    # create alex\n",
    "draw_square(alex, 50)      # Call the function to draw the square \n",
    "                          # passing the actual turtle and the actual side size\n",
    "\n",
    "wn.mainloop()"
   ]
  },
  {
   "cell_type": "markdown",
   "metadata": {
    "colab_type": "text",
    "id": "_gMkNMkn9pm_"
   },
   "source": [
    "### *Docstrings* for documentation\n",
    "\n",
    "- If the first thing after the function header is a string, it is\n",
    "    treated as a **docstring** and gets special treatment\n",
    "\n",
    "- *Docstrings* are usually formed using triple-quoted strings\n",
    "\n",
    "- *Docstrings* are the key way to document our functions in Python and\n",
    "    the documentation part is important\n",
    "\n",
    "- *docstrings* are not comments:\n",
    "\n",
    "    - a string at the start of a function (a *docstring*) is retrievable\n",
    "        by Python tools *at runtime*\n",
    "\n",
    "    - comments are completely eliminated when the program is parsed\n"
   ]
  },
  {
   "cell_type": "markdown",
   "metadata": {
    "colab_type": "text",
    "id": "cg8s3YmO91s_"
   },
   "source": [
    "### Function call\n",
    "\n",
    "\n",
    "- Defining the function just tells Python *how* to do a particular\n",
    "    task, not to *perform* it\n",
    "\n",
    "- In order to execute a function we need to make a **function call**\n",
    "\n",
    "- Function calls contain the name of the function being executed\n",
    "    followed by a list of values, called *arguments* (**actual\n",
    "    parameters**), which are assigned to the parameters in the function\n",
    "    definition (**formal parameters**)\n",
    "\n",
    "- Once we've defined a function, we can call it as often as we like,\n",
    "    and its statements will be executed each time we call it\n",
    "    \n",
    "    \n",
    "\n",
    "#### lectures/05/multi_color_turtles.py"
   ]
  },
  {
   "cell_type": "markdown",
   "metadata": {
    "colab_type": "text",
    "id": "ZKXE3UeN96q6"
   },
   "source": [
    "### Abstraction\n",
    "\n",
    "- The following diagram is often called a **black-box diagram**\n",
    "    because it only states the requirements from the perspective of the\n",
    "    user\n",
    "\n",
    "- The user must know the name of the function and what arguments need\n",
    "    to be passed\n",
    "\n",
    "- The details of how the function works are hidden inside the\n",
    "    \"black-box\"\n",
    "\n",
    "![blackbox](images/05/blackbox.png)\n"
   ]
  },
  {
   "cell_type": "markdown",
   "metadata": {
    "colab_type": "text",
    "id": "0YqTw30071Z-"
   },
   "source": [
    "## 4.2 Functions can call other functions\n",
    "\n",
    "A Square is a (special) Rectangle\n",
    "\n",
    "- Let's assume now we want a function to draw a rectangle\n",
    "\n",
    "- We may use it to draw a square\n",
    "\n",
    "![square](images/05/turtleproc.png)\n"
   ]
  },
  {
   "cell_type": "code",
   "execution_count": null,
   "metadata": {
    "colab": {},
    "colab_type": "code",
    "id": "paSQokz9gh3E"
   },
   "outputs": [],
   "source": [
    "import turtle\n",
    "\n",
    "\n",
    "def draw_rectangle(animal, width, height):\n",
    "    \"\"\"Get animal to draw a rectangle of given width and height.\"\"\"\n",
    "    for _ in range(2):\n",
    "        animal.forward(width)\n",
    "        animal.left(90)\n",
    "        animal.forward(height)\n",
    "        animal.left(90)\n",
    "\n",
    "\n",
    "wn = turtle.Screen()             # Set up the window and its attributes\n",
    "wn.bgcolor(\"lightgreen\")\n",
    "tess = turtle.Turtle()           # create tess and set some attributes\n",
    "tess.pensize(3)\n",
    "\n",
    "draw_rectangle(tess, 200, 80)"
   ]
  },
  {
   "cell_type": "code",
   "execution_count": null,
   "metadata": {
    "colab": {},
    "colab_type": "code",
    "id": "lFVY4l0AgpP6"
   },
   "outputs": [],
   "source": [
    "def draw_square(animal, size):   # A new version of draw_square\n",
    "    draw_rectangle(animal, size, size)"
   ]
  },
  {
   "cell_type": "code",
   "execution_count": null,
   "metadata": {
    "colab": {},
    "colab_type": "code",
    "id": "SSgrOgdrgwRJ"
   },
   "outputs": [],
   "source": [
    "def move_n_draw(animal, x, y):\n",
    "    \"\"\" Get an animal to go to (x,y) and draw a square 80x80 \"\"\"\n",
    "    animal.penup()\n",
    "    animal.goto(x, y)\n",
    "    animal.pendown()\n",
    "    draw_square(animal, 80)\n",
    "\n",
    "\n",
    "move_n_draw(tess, 120, 100)\n",
    "move_n_draw(tess, 120, -100)\n",
    "move_n_draw(tess, 0, -100)\n",
    "move_n_draw(tess, 0, 100)\n",
    "move_n_draw(tess, -100, 0)\n",
    "\n",
    "wn.mainloop()\n",
    "turtle.done()"
   ]
  },
  {
   "cell_type": "markdown",
   "metadata": {
    "colab_type": "text",
    "id": "LhHvh7At7869"
   },
   "source": [
    "## 4.3 Functions that require arguments"
   ]
  },
  {
   "cell_type": "markdown",
   "metadata": {
    "colab_type": "text",
    "id": "VXefh-b__KYs"
   },
   "source": [
    "### Functions that require arguments\n",
    "\n",
    "- Most functions require arguments: the arguments provide for\n",
    "    generalisation\n",
    "\n",
    "- Some examples:\n"
   ]
  },
  {
   "cell_type": "code",
   "execution_count": null,
   "metadata": {
    "colab": {},
    "colab_type": "code",
    "id": "XluI2Hsdc0Fs"
   },
   "outputs": [],
   "source": [
    "print(abs(5))\n",
    "\n",
    "print(abs(-5))"
   ]
  },
  {
   "cell_type": "code",
   "execution_count": null,
   "metadata": {
    "colab": {},
    "colab_type": "code",
    "id": "kMmOsVNEc8bg"
   },
   "outputs": [],
   "source": [
    "import math\n",
    "\n",
    "print(math.pow(2, 3))\n",
    "print(math.pow(7, 4))"
   ]
  },
  {
   "cell_type": "code",
   "execution_count": null,
   "metadata": {
    "colab": {},
    "colab_type": "code",
    "id": "k_BKxlbMdC-A"
   },
   "outputs": [],
   "source": [
    "print(max(7, 11))\n",
    "print(max(4, 1, 17, 2, 12))\n",
    "print(max(3 * 11, 5 ** 3, 512 - 9, 1024 ** 0))"
   ]
  },
  {
   "cell_type": "markdown",
   "metadata": {
    "colab_type": "text",
    "id": "D0tIb4d48AhK"
   },
   "source": [
    "## 4.4 Functions that return values"
   ]
  },
  {
   "cell_type": "markdown",
   "metadata": {
    "colab_type": "text",
    "id": "07gchgQU_ZP2"
   },
   "source": [
    "### Functions that return values\n",
    "\n",
    "- A function that returns a value is called a **fruitful function**\n",
    "\n",
    "- The opposite of a fruitful function is **void function** --- one\n",
    "    that is not executed for its resulting value (e.g. `draw_square`)\n",
    "\n",
    "- Python will automatically return the value `None` for void functions\n",
    "    (aka *procedures*)\n",
    "\n",
    "- Most of the time, calling functions generates a value, which we\n",
    "    usually assign to a variable or use as part of an expression"
   ]
  },
  {
   "cell_type": "markdown",
   "metadata": {},
   "source": [
    "### Return values\n",
    "\n",
    "- The built-in functions we have used, such as `abs`, `pow`, `int`,\n",
    "    `max`, and `range`, have produced results\n",
    "\n",
    "- Calling each of these functions generates a value, which we usually\n",
    "    assign to a variable or use as part of an expression\n",
    "\n",
    "```\n",
    "   biggest = max(3, 7, 2, 5)\n",
    "\n",
    "   x = abs(3 - 11) + 10\n",
    "  \n",
    "```"
   ]
  },
  {
   "cell_type": "code",
   "execution_count": null,
   "metadata": {
    "colab": {},
    "colab_type": "code",
    "id": "fQmTTDLadvAZ"
   },
   "outputs": [],
   "source": [
    "biggest = max(3, 7, 2, 5)\n",
    "\n",
    "x = abs(3 - 11) + 10"
   ]
  },
  {
   "cell_type": "code",
   "execution_count": null,
   "metadata": {
    "colab": {},
    "colab_type": "code",
    "id": "K1F2rfggd-E6"
   },
   "outputs": [],
   "source": [
    "print(biggest)\n",
    "print(x)"
   ]
  },
  {
   "cell_type": "markdown",
   "metadata": {},
   "source": [
    "### The `return` Statement\n",
    "\n",
    "- In a fruitful function the return statement includes a **return\n",
    "    value**\n",
    "\n",
    "- This statement means: evaluate the return expression, and then\n",
    "    return it immediately as the result (the fruit) of this function\n"
   ]
  },
  {
   "cell_type": "markdown",
   "metadata": {
    "colab_type": "text",
    "id": "VsGGwH-s_o1U"
   },
   "source": [
    "### Interest rates\n",
    "\n",
    " The standard formula for compound interest:\n",
    "$$A = P \\left(1 + \\frac{r}{n}\\right)^{nt}$$\n",
    "\n",
    "Where:\n",
    "\n",
    "- P = principal amount (initial investment)\n",
    "\n",
    "- r = annual nominal interest rate (as a decimal)\n",
    "\n",
    "- n = the number of times the interest is compounded per year\n",
    "\n",
    "- t = the number of years that the interest is calculated for\n",
    "\n"
   ]
  },
  {
   "cell_type": "code",
   "execution_count": null,
   "metadata": {
    "colab": {},
    "colab_type": "code",
    "id": "mut2adCpioqv"
   },
   "outputs": [],
   "source": [
    "def final_amount(p, r, n, t):\n",
    "    a = p * (1 + r/n) ** (n*t)\n",
    "    return a\n",
    "#show simplification in spyder\n",
    "\n",
    "to_invest = float(input(\"How much do you want to invest?\"))\n",
    "fnl = final_amount(to_invest, 0.02, 12, 5)\n",
    "print(\"At the end of the period you'll have\", fnl)"
   ]
  },
  {
   "cell_type": "markdown",
   "metadata": {},
   "source": [
    "### Dead code\n",
    "\n",
    "\n",
    "- Code that appears after a `return` statement is called **dead\n",
    "    code**\n",
    "    \n"
   ]
  },
  {
   "cell_type": "code",
   "execution_count": null,
   "metadata": {},
   "outputs": [],
   "source": [
    "def area(radius):\n",
    "    \"\"\"returns the area of a circle with the given radius.\"\"\"\n",
    "    fruit = 3.14159 * radius ** 2\n",
    "    return fruit\n",
    "    print(\"I'm dead!\")\n",
    "\n",
    "area(2.4)"
   ]
  },
  {
   "cell_type": "markdown",
   "metadata": {
    "colab_type": "text",
    "id": "bsH-_Dky75Jj"
   },
   "source": [
    "## 4.5 Flow of execution"
   ]
  },
  {
   "cell_type": "markdown",
   "metadata": {
    "colab_type": "text",
    "id": "84EcgWU_-aFa"
   },
   "source": [
    "### Flow of execution\n",
    "\n",
    "\n",
    "- Execution always begins at the first statement of the program\n",
    "\n",
    "- Statements are executed one at a time, in order from top to bottom\n",
    "\n",
    "- Function definitions do not alter the flow of execution of the\n",
    "    program\n",
    "\n",
    "    - Statements inside the function are not executed until the\n",
    "        function is called\n",
    "\n",
    "- Function calls are like a detour in the flow of execution\n",
    "\n",
    "    - Instead of going to the next statement, the flow jumps to the\n",
    "        first line of the called function, executes all the statements\n",
    "        there, and then comes back to pick up where it left off.\n"
   ]
  },
  {
   "cell_type": "code",
   "execution_count": null,
   "metadata": {
    "colab": {},
    "colab_type": "code",
    "id": "ymc_fjCLg9uZ"
   },
   "outputs": [],
   "source": [
    "def square(x):\n",
    "    y = x * x\n",
    "    return y"
   ]
  },
  {
   "cell_type": "code",
   "execution_count": null,
   "metadata": {
    "colab": {},
    "colab_type": "code",
    "id": "PSxNH-YVhAFo"
   },
   "outputs": [],
   "source": [
    "def sum_of_squares(x, y, z):\n",
    "    a = square(x)\n",
    "    b = square(y)\n",
    "    c = square(z)\n",
    "    return a + b + c"
   ]
  },
  {
   "cell_type": "code",
   "execution_count": null,
   "metadata": {
    "colab": {},
    "colab_type": "code",
    "id": "XxdYwEx8hClR"
   },
   "outputs": [],
   "source": [
    "a = -5\n",
    "b = 2\n",
    "c = 10\n",
    "result = sum_of_squares(a, b, c)\n",
    "print(result)\n"
   ]
  },
  {
   "cell_type": "markdown",
   "metadata": {},
   "source": [
    "Copy the previous code (all three cells) and paste into the workspace at the end of 2.11 in the online book. Click **Show in Codelens**"
   ]
  },
  {
   "cell_type": "markdown",
   "metadata": {
    "colab_type": "text",
    "id": "7W8Kt2Bh-6VU"
   },
   "source": [
    "### Trace a program\n",
    "\n",
    "> **Moral**:\n",
    ">\n",
    "> When we read a program, don't read from top to bottom.\n",
    ">\n",
    "> Instead, follow the flow of execution.\n"
   ]
  },
  {
   "cell_type": "markdown",
   "metadata": {
    "colab_type": "text",
    "id": "xrVoJGhq8ErU"
   },
   "source": [
    "## 4.6 Variables and parameters are local"
   ]
  },
  {
   "cell_type": "markdown",
   "metadata": {
    "colab_type": "text",
    "id": "3GZYQK38AA9V"
   },
   "source": [
    "### Variables and parameters are local\n",
    "\n",
    "- When we create a local variable inside a function, it only exists\n",
    "    inside the function, and we cannot use it outside\n",
    "\n",
    "- For example, consider again this function:\n",
    "\n",
    "\n",
    "```\n",
    "  def final_amount(p, r, n, t):\n",
    "      a = p * (1 + r/n) ** (n*t)\n",
    "      return a\n",
    "```\n",
    "\n",
    "- If we try to use `a`, outside the function, we'll get an error\n",
    "\n",
    "- `a` only exists while the function is being executed --- its\n",
    "    **lifetime**\n",
    "\n",
    "- When the execution of the function terminates, the local variables\n",
    "    are destroyed"
   ]
  },
  {
   "cell_type": "code",
   "execution_count": null,
   "metadata": {
    "colab": {},
    "colab_type": "code",
    "id": "TrrIQa1XejSh"
   },
   "outputs": [],
   "source": [
    "def square(x):\n",
    "    y = x * x\n",
    "    return y\n",
    "\n",
    "z = square(10)\n",
    "print(y)        # what do you get here?"
   ]
  },
  {
   "cell_type": "markdown",
   "metadata": {
    "colab_type": "text",
    "id": "ELWEZP-0AlvY"
   },
   "source": [
    "### Variables and parameters are local (2)\n",
    "\n",
    "\n",
    "- Parameters are also local, and act like local variables\n"
   ]
  },
  {
   "cell_type": "code",
   "execution_count": null,
   "metadata": {
    "colab": {},
    "colab_type": "code",
    "id": "qea3lfqefE6C",
    "scrolled": true
   },
   "outputs": [],
   "source": [
    "def square(x):\n",
    "    y = x * x\n",
    "    x = 0       # assign a new value to the parameter x\n",
    "    return y\n",
    "\n",
    "x = 2\n",
    "z = square(x)\n",
    "print(x, z)"
   ]
  },
  {
   "cell_type": "markdown",
   "metadata": {},
   "source": [
    "Copy the previous code and paste into the workspace at the end of 2.11 in the online book. Click **Show in Codelens**"
   ]
  },
  {
   "cell_type": "markdown",
   "metadata": {
    "colab_type": "text",
    "id": "ut2WGZ3k8H7-"
   },
   "source": [
    "## 4.7 Turtles Revisited"
   ]
  },
  {
   "cell_type": "markdown",
   "metadata": {
    "colab_type": "text",
    "id": "pUgooidIAEoH"
   },
   "source": [
    "### Turtles Revisited\n",
    "\n",
    "\n",
    "- Now that we have fruitful functions, we can focus our attention on\n",
    "    reorganizing our code so that it fits more nicely into our mental\n",
    "    chunks\n",
    "\n",
    "- This process of rearrangement is called **refactoring** the code\n",
    "\n",
    "\n",
    "> Two things we’re always going to want to do when working with turtles is to create the window \n",
    "> for the turtle, and to create one or more turtles. \n",
    "> We could write some functions to make these tasks easier in future:\n",
    "\n",
    "#### lectures/05/refactoring.py>\n"
   ]
  },
  {
   "cell_type": "markdown",
   "metadata": {},
   "source": [
    "## 4.8 Program development"
   ]
  },
  {
   "cell_type": "markdown",
   "metadata": {},
   "source": [
    "### Incremental Development\n",
    "\n",
    "- To deal with increasingly complex programs, we are going to suggest\n",
    "    a technique called incremental development\n",
    "\n",
    "- The goal of incremental development is to avoid long debugging\n",
    "    sessions by adding and testing only a small amount of code at a time\n",
    "    \n",
    "    \n",
    "    \n",
    "- Suppose we want to find the *distance between two points*, given by\n",
    "    the coordinates $(x_1,y_1)$ and $(x_2,y_2)$\n",
    "\n",
    "- By the Pythagorean theorem, the distance is:\n",
    "\n",
    "$$distance = \\sqrt[]{{(x_2 - x_1)}^2 + {(y_2 - y_1)}^2}$$"
   ]
  },
  {
   "cell_type": "code",
   "execution_count": null,
   "metadata": {},
   "outputs": [],
   "source": [
    "# step 1\n",
    "def distance(x1, y1, x2, y2):\n",
    "    return 0.0\n",
    "\n",
    "print(distance(1, 2, 4, 6))\n",
    "# When testing a function, it is useful to know the right answer."
   ]
  },
  {
   "cell_type": "code",
   "execution_count": null,
   "metadata": {},
   "outputs": [],
   "source": [
    "# step 2\n",
    "def distance(x1, y1, x2, y2):\n",
    "    dx = x2 - x1\n",
    "    print(\"dx =\", dx)\n",
    "    dy = y2 - y1\n",
    "    print(\"dy =\", dy)\n",
    "    return 0.0\n",
    "\n",
    "print(distance(1, 2, 4, 6))"
   ]
  },
  {
   "cell_type": "code",
   "execution_count": null,
   "metadata": {},
   "outputs": [],
   "source": [
    "# step 3\n",
    "def distance(x1, y1, x2, y2):\n",
    "    dx = x2 - x1\n",
    "    dy = y2 - y1\n",
    "    dsquared = dx*dx + dy*dy\n",
    "    print(dsquared)\n",
    "    return 0.0\n",
    "\n",
    "print(distance(1, 2, 4, 6))"
   ]
  },
  {
   "cell_type": "code",
   "execution_count": null,
   "metadata": {},
   "outputs": [],
   "source": [
    "# step 4\n",
    "def distance(x1, y1, x2, y2):\n",
    "    dx = x2 - x1\n",
    "    dy = y2 - y1\n",
    "    dsquared = dx*dx + dy*dy\n",
    "    return dsquared**0.5\n",
    "\n",
    "print(distance(1, 2, 4, 6))"
   ]
  },
  {
   "cell_type": "code",
   "execution_count": null,
   "metadata": {},
   "outputs": [],
   "source": [
    "# another implementation\n",
    "import math\n",
    "\n",
    "def distance(x1, y1, x2, y2):\n",
    "    return math.sqrt( (x2-x1)**2 + (y2-y1)**2 )\n",
    "\n",
    "print(distance(1, 2, 4, 6))"
   ]
  },
  {
   "cell_type": "markdown",
   "metadata": {},
   "source": [
    "### incremental development (summary)\n",
    "\n",
    "The key aspects of the process are:\n",
    "\n",
    "1. Start with a working skeleton program and make small incremental\n",
    "    changes\n",
    "\n",
    "2. Use temporary variables to refer to intermediate values so that you\n",
    "    can easily inspect and check them\n",
    "\n",
    "3. Once the program is working, relax, sit back, and play around with\n",
    "    your options\n"
   ]
  },
  {
   "cell_type": "markdown",
   "metadata": {},
   "source": [
    "> Goal:\n",
    "> \n",
    "> A good guideline is to aim for making code as easy as possible for\n",
    "others to read"
   ]
  },
  {
   "cell_type": "markdown",
   "metadata": {},
   "source": [
    "## 4.9 Composition"
   ]
  },
  {
   "cell_type": "markdown",
   "metadata": {},
   "source": [
    "### Composition\n",
    "\n",
    "- **Composition** is the ability to call one function from within\n",
    "    another\n",
    "\n",
    "- As an example, we'll write a function that takes two points, the\n",
    "    center of the circle $(xc, yc)$ and a point on the perimeter\n",
    "    $(xp, yp)$, and computes the area of the circle"
   ]
  },
  {
   "cell_type": "code",
   "execution_count": null,
   "metadata": {},
   "outputs": [],
   "source": [
    "def distance(x1, y1, x2, y2):\n",
    "    dx = x2 - x1\n",
    "    dy = y2 - y1\n",
    "    dsquared = dx**2 + dy**2\n",
    "    result = dsquared**0.5\n",
    "    return result"
   ]
  },
  {
   "cell_type": "code",
   "execution_count": null,
   "metadata": {},
   "outputs": [],
   "source": [
    "def area(radius):\n",
    "    b = 3.14159 * radius**2\n",
    "    return b"
   ]
  },
  {
   "cell_type": "code",
   "execution_count": null,
   "metadata": {},
   "outputs": [],
   "source": [
    "def area2(xc, yc, xp, yp):\n",
    "#    radius = distance(xc, yc, xp, yp)\n",
    "#    result = area(radius)\n",
    "#    return result\n",
    "    return area(distance(xc, yc, xp, yp))"
   ]
  },
  {
   "cell_type": "code",
   "execution_count": null,
   "metadata": {},
   "outputs": [],
   "source": [
    "print(area2(0,0,1,1))"
   ]
  },
  {
   "cell_type": "markdown",
   "metadata": {},
   "source": [
    "## 4.10 Boolean functions"
   ]
  },
  {
   "cell_type": "markdown",
   "metadata": {},
   "source": [
    "### Boolean functions\n",
    "\n",
    "- **Boolean functions** are functions that return Boolean values\n",
    "\n",
    "    - which is often convenient for hiding complicated tests inside\n",
    "        functions\n",
    "\n",
    "```\n",
    "def is_divisible(x, y):\n",
    "    \"\"\" Test if x is exactly divisible by y \"\"\"\n",
    "    if x % y == 0:\n",
    "        return True\n",
    "    else:\n",
    "        return False\n",
    "```\n",
    "\n",
    "Can we avoid the `if`?"
   ]
  },
  {
   "cell_type": "code",
   "execution_count": null,
   "metadata": {},
   "outputs": [],
   "source": [
    "def is_divisible(x, y):\n",
    "    \"\"\" Test if x is exactly divisible by y \"\"\"\n",
    "    if x % y == 0:\n",
    "        return True\n",
    "    else:\n",
    "        return False\n",
    "\n",
    "is_divisible(6, 2)"
   ]
  },
  {
   "cell_type": "markdown",
   "metadata": {},
   "source": [
    "## 4.11 Programming with style"
   ]
  },
  {
   "cell_type": "markdown",
   "metadata": {},
   "source": [
    "### PEP 8: Style Guide for Python Code\n",
    "\n",
    "- use 4 spaces (instead of tabs) for indentation\n",
    "\n",
    "- limit line length to 78 characters\n",
    "\n",
    "- when naming identifiers use `lowercase_with_underscores` for\n",
    "    functions and variables\n",
    "\n",
    "- place *imports* at the top of the file\n",
    "\n",
    "- keep function definitions together below the `import` statements\n",
    "\n",
    "- use *docstrings* to document functions\n",
    "\n",
    "- use two blank lines to separate function definitions from each other\n",
    "\n",
    "- keep top level statements, including function calls, together at the\n",
    "    bottom of the program\n",
    "\n",
    "- **tip**: Spyder3 may help you with PEP8\n"
   ]
  }
 ],
 "metadata": {
  "colab": {
   "collapsed_sections": [],
   "name": "05-functions.ipynb",
   "private_outputs": true,
   "provenance": [],
   "toc_visible": true
  },
  "kernelspec": {
   "display_name": "Python 3",
   "language": "python",
   "name": "python3"
  },
  "language_info": {
   "codemirror_mode": {
    "name": "ipython",
    "version": 3
   },
   "file_extension": ".py",
   "mimetype": "text/x-python",
   "name": "python",
   "nbconvert_exporter": "python",
   "pygments_lexer": "ipython3",
   "version": "3.7.4"
  }
 },
 "nbformat": 4,
 "nbformat_minor": 1
}
