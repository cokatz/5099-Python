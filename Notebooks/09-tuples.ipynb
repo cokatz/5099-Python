{
 "cells": [
  {
   "cell_type": "markdown",
   "metadata": {
    "colab_type": "text",
    "id": "8z5cONg8rUrX",
    "slideshow": {
     "slide_type": "-"
    }
   },
   "source": [
    "# Tuples"
   ]
  },
  {
   "cell_type": "markdown",
   "metadata": {
    "colab_type": "text",
    "id": "MZzE7pYorju5",
    "slideshow": {
     "slide_type": "subslide"
    }
   },
   "source": [
    "## Goals\n",
    "\n",
    "By the end of this class, the student should be able to:\n",
    "\n",
    "- Describe how to work with tuples\n",
    "\n",
    "- Enumerate the main methods available to work with tuples"
   ]
  },
  {
   "cell_type": "markdown",
   "metadata": {
    "colab_type": "text",
    "id": "BtTUKvPBUlYl",
    "slideshow": {
     "slide_type": "slide"
    }
   },
   "source": [
    "# Data types: Tuples"
   ]
  },
  {
   "cell_type": "markdown",
   "metadata": {
    "colab_type": "text",
    "id": "TsVUpnGjVs0o",
    "slideshow": {
     "slide_type": "skip"
    }
   },
   "source": [
    "## 5.1.1 A compound data type"
   ]
  },
  {
   "cell_type": "markdown",
   "metadata": {
    "colab_type": "text",
    "id": "NT1rxQU-Wdpe",
    "slideshow": {
     "slide_type": "subslide"
    }
   },
   "source": [
    "### A compound data type (recap)\n",
    "\n",
    "- So far we have seen built-in types like `int`, `float`, `bool`,\n",
    "    `str` and we've seen lists and pairs\n",
    "\n",
    "- Strings, lists, and **tuples** are qualitatively different from the\n",
    "    others because they are made up of smaller pieces\n",
    "\n",
    "- **Tuples group any number of items, of different types, into a single\n",
    "    compound value**\n",
    "\n",
    "- Types that comprise smaller pieces are called **collection** or\n",
    "    **compound data types**\n",
    "\n",
    "- Depending on what we are doing, we may want to treat a compound data\n",
    "    type as a single thing"
   ]
  },
  {
   "cell_type": "markdown",
   "metadata": {
    "colab_type": "text",
    "id": "6L50SN3EVwYs",
    "slideshow": {
     "slide_type": "skip"
    }
   },
   "source": [
    "## 5.2.1 Tuples are used for grouping data"
   ]
  },
  {
   "cell_type": "markdown",
   "metadata": {
    "colab_type": "text",
    "id": "6nPYjl2bW2ji",
    "slideshow": {
     "slide_type": "subslide"
    }
   },
   "source": [
    "### Tuples are used for grouping data\n",
    "\n",
    "- A **data structure** is a mechanism for grouping and organizing data\n",
    "    to make it easier to use\n",
    "\n",
    "- We saw earlier that we could group together pairs of values:\n",
    "\n",
    "```\n",
    "  >>> year_born = (\"Paris Hilton\", 1981)\n",
    "  \n",
    "```\n",
    "\n",
    "- The pair is an example of a **tuple**"
   ]
  },
  {
   "cell_type": "markdown",
   "metadata": {
    "colab_type": "text",
    "id": "zwy-6598W7Fk",
    "slideshow": {
     "slide_type": "fragment"
    }
   },
   "source": [
    "\n",
    "- Generalizing this, a tuple can be used to group any number of items\n",
    "    into a single compound value\n",
    "\n",
    "```\n",
    "  >>> julia = (\"Julia\", \"Roberts\", 1967, \"Duplicity\", 2009, \"Actress\", \"Atlanta, Georgia\")\n",
    "  >>> \n",
    "  >>> empty_tuple = ()\n",
    "  \n",
    "```"
   ]
  },
  {
   "cell_type": "code",
   "execution_count": null,
   "metadata": {
    "colab": {},
    "colab_type": "code",
    "id": "Ez712vc-xYjy",
    "scrolled": false,
    "slideshow": {
     "slide_type": "subslide"
    }
   },
   "outputs": [],
   "source": [
    "empty_tuple = ()\n",
    "type(())"
   ]
  },
  {
   "cell_type": "markdown",
   "metadata": {
    "colab_type": "text",
    "id": "gnnnpMGWXMox",
    "slideshow": {
     "slide_type": "subslide"
    }
   },
   "source": [
    "### Operations on Tuples\n",
    "\n",
    "- A tuple lets us \"chunk\" together related information and use it as a\n",
    "    single thing\n",
    "\n",
    "- Tuples support the same sequence operations as strings\n",
    "\n",
    "- The index operator selects an element from a tuple\n",
    "\n",
    "\n"
   ]
  },
  {
   "cell_type": "markdown",
   "metadata": {
    "colab_type": "text",
    "id": "oOBZpj6Cdf8I",
    "slideshow": {
     "slide_type": "subslide"
    }
   },
   "source": [
    "What is the output?"
   ]
  },
  {
   "cell_type": "code",
   "execution_count": null,
   "metadata": {
    "colab": {},
    "colab_type": "code",
    "id": "nNJRybM1deZc",
    "slideshow": {
     "slide_type": "fragment"
    }
   },
   "outputs": [],
   "source": [
    "tup = (5)\n",
    "print(type(tup))"
   ]
  },
  {
   "cell_type": "code",
   "execution_count": null,
   "metadata": {
    "colab": {},
    "colab_type": "code",
    "id": "Iye_fIoydmeN",
    "slideshow": {
     "slide_type": "fragment"
    }
   },
   "outputs": [],
   "source": [
    "x = (5)\n",
    "print(type(x))"
   ]
  },
  {
   "cell_type": "code",
   "execution_count": null,
   "metadata": {
    "colab": {},
    "colab_type": "code",
    "id": "miQIMvuPdqBt",
    "slideshow": {
     "slide_type": "fragment"
    }
   },
   "outputs": [],
   "source": [
    "julia = (\"Julia\", \"Roberts\", 1967, \"Duplicity\", 2009, \"Actress\", \"Atlanta, Georgia\")\n",
    "print(julia)"
   ]
  },
  {
   "cell_type": "markdown",
   "metadata": {
    "colab_type": "text",
    "id": "11xtPDmHdwYF",
    "slideshow": {
     "slide_type": "subslide"
    }
   },
   "source": [
    "What about this?"
   ]
  },
  {
   "cell_type": "code",
   "execution_count": null,
   "metadata": {
    "colab": {},
    "colab_type": "code",
    "id": "fGlS9uJXdu7L",
    "slideshow": {
     "slide_type": "fragment"
    }
   },
   "outputs": [],
   "source": [
    "julia[0] = \"X\""
   ]
  },
  {
   "cell_type": "code",
   "execution_count": null,
   "metadata": {
    "colab": {},
    "colab_type": "code",
    "id": "2sCjsC21d2zE",
    "slideshow": {
     "slide_type": "fragment"
    }
   },
   "outputs": [],
   "source": [
    "julia = julia[:3] + (\"Eat Pray Love\", 2010) + julia[5:]\n",
    "print(julia)"
   ]
  },
  {
   "cell_type": "markdown",
   "metadata": {
    "colab_type": "text",
    "id": "A_1f0_S9V1hD",
    "slideshow": {
     "slide_type": "skip"
    }
   },
   "source": [
    "## 5.2.2 Tuple assignment"
   ]
  },
  {
   "cell_type": "markdown",
   "metadata": {
    "colab_type": "text",
    "id": "5gLWwpvaXXGB",
    "slideshow": {
     "slide_type": "subslide"
    }
   },
   "source": [
    "### Tuple assignment\n",
    "\n",
    "- Python has a very powerful tuple assignment feature\n",
    "\n",
    "- Allows a tuple of variables on the left of an assignment to be\n",
    "    assigned values from a tuple on the right of the assignment\n",
    "\n",
    "```\n",
    "  (name, surname, year_born, movie, year_movie, profession, birthplace) = julia\n",
    "  \n",
    "```\n"
   ]
  },
  {
   "cell_type": "markdown",
   "metadata": {
    "colab_type": "text",
    "id": "mxOJ4d-geH3n",
    "slideshow": {
     "slide_type": "subslide"
    }
   },
   "source": [
    "Tuple packing:"
   ]
  },
  {
   "cell_type": "code",
   "execution_count": null,
   "metadata": {
    "colab": {},
    "colab_type": "code",
    "id": "XZ_4QEMzeM2A",
    "slideshow": {
     "slide_type": "fragment"
    }
   },
   "outputs": [],
   "source": [
    "bob = (\"Bob\", 19, \"CS\")\n",
    "print(bob)"
   ]
  },
  {
   "cell_type": "markdown",
   "metadata": {
    "colab_type": "text",
    "id": "ciJ_8N47ePBN",
    "slideshow": {
     "slide_type": "subslide"
    }
   },
   "source": [
    "Tuple unpacking:"
   ]
  },
  {
   "cell_type": "code",
   "execution_count": null,
   "metadata": {
    "colab": {},
    "colab_type": "code",
    "id": "7jPRJmbmeWS5",
    "slideshow": {
     "slide_type": "fragment"
    }
   },
   "outputs": [],
   "source": [
    "(name, age, studies) = bob\n",
    "print(name)\n",
    "print(age)\n",
    "print(studies)"
   ]
  },
  {
   "cell_type": "markdown",
   "metadata": {
    "colab_type": "text",
    "id": "J59bXBg53LuN",
    "slideshow": {
     "slide_type": "subslide"
    }
   },
   "source": [
    "Swap values:"
   ]
  },
  {
   "cell_type": "code",
   "execution_count": null,
   "metadata": {
    "colab": {},
    "colab_type": "code",
    "id": "6_t1mki33CS2",
    "slideshow": {
     "slide_type": "fragment"
    }
   },
   "outputs": [],
   "source": [
    "a = \"Gin\"\n",
    "b = \"tonic\"\n",
    "temp = a\n",
    "a = b\n",
    "b = temp\n",
    "print(a + \" \" + b)"
   ]
  },
  {
   "cell_type": "markdown",
   "metadata": {
    "colab_type": "text",
    "id": "swTCvz84eh7b",
    "slideshow": {
     "slide_type": "subslide"
    }
   },
   "source": [
    "Swap without using temp:"
   ]
  },
  {
   "cell_type": "code",
   "execution_count": null,
   "metadata": {
    "colab": {},
    "colab_type": "code",
    "id": "zoqWHDtYen48",
    "slideshow": {
     "slide_type": "fragment"
    }
   },
   "outputs": [],
   "source": [
    "a = \"Gin\"\n",
    "b = \"tonic\"\n",
    "(a, b) = (b, a)\n",
    "print(a + \" \" + b)"
   ]
  },
  {
   "cell_type": "code",
   "execution_count": null,
   "metadata": {
    "colab": {},
    "colab_type": "code",
    "id": "FHMMCOgc3hCl",
    "slideshow": {
     "slide_type": "subslide"
    }
   },
   "outputs": [],
   "source": [
    "(one, two, three, four) = (1, 2, 3)"
   ]
  },
  {
   "cell_type": "markdown",
   "metadata": {
    "colab_type": "text",
    "id": "HcZLerLoV5nF",
    "slideshow": {
     "slide_type": "skip"
    }
   },
   "source": [
    "## 5.2.3 Tuples as return values"
   ]
  },
  {
   "cell_type": "markdown",
   "metadata": {
    "colab_type": "text",
    "id": "VG-PqgT3Xcfb",
    "slideshow": {
     "slide_type": "subslide"
    }
   },
   "source": [
    "### Tuples as return values\n",
    "\n",
    "- Functions can always only return a single value\n",
    "\n",
    "- By making that value a tuple, we can effectively group together as\n",
    "    many values as we like, and return them together\n",
    "\n"
   ]
  },
  {
   "cell_type": "code",
   "execution_count": null,
   "metadata": {
    "colab": {},
    "colab_type": "code",
    "id": "qwkkjy3P3oHh",
    "slideshow": {
     "slide_type": "subslide"
    }
   },
   "outputs": [],
   "source": [
    "import math\n",
    "\n",
    "def circle_stats(r):\n",
    "    \"\"\" Return (circumference, area) of a circle of radius r \"\"\"\n",
    "    circumference = 2 * math.pi * r\n",
    "    area = math.pi * r * r\n",
    "    return (circumference, area)\n",
    "\n",
    "print(circle_stats(1))"
   ]
  },
  {
   "cell_type": "markdown",
   "metadata": {
    "colab_type": "text",
    "id": "MYn0cCQ7V9dI",
    "slideshow": {
     "slide_type": "skip"
    }
   },
   "source": [
    "## 5.2.4 Composability of Data Structures"
   ]
  },
  {
   "cell_type": "markdown",
   "metadata": {
    "colab_type": "text",
    "id": "7tC-I8E_Xe_D",
    "slideshow": {
     "slide_type": "subslide"
    }
   },
   "source": [
    "### Composability of Data Structures\n",
    "\n",
    "- Tuples items can themselves be other tuples\n",
    "\n",
    "- Tuples may be **heterogeneous**, meaning that they can be composed\n",
    "    of elements of different type\n",
    "\n",
    "```\n",
    "  julia_more_info = ( (\"Julia\", \"Roberts\"), (8, \"October\", 1967),\n",
    "                       \"Actress\", (\"Atlanta\", \"Georgia\"),\n",
    "                       [ (\"Duplicity\", 2009),\n",
    "                         (\"Notting Hill\", 1999),\n",
    "                         (\"Pretty Woman\", 1990),\n",
    "                         (\"Erin Brockovich\", 2000),\n",
    "                         (\"Eat Pray Love\", 2010),\n",
    "                         (\"Mona Lisa Smile\", 2003),\n",
    "                         (\"Oceans Twelve\", 2004) ])\n",
    "  \n",
    "```"
   ]
  },
  {
   "cell_type": "markdown",
   "metadata": {
    "colab_type": "text",
    "id": "LjK_TkX3he5D",
    "slideshow": {
     "slide_type": "subslide"
    }
   },
   "source": [
    "### Traverse and index"
   ]
  },
  {
   "cell_type": "code",
   "execution_count": null,
   "metadata": {
    "colab": {},
    "colab_type": "code",
    "id": "Xj4z9Q69giFd",
    "slideshow": {
     "slide_type": "fragment"
    }
   },
   "outputs": [],
   "source": [
    "mps = ((\"Cleese\", \"John\"), (\"Gilliam\", \"Terry\"), (\"Idle\", \"Eric\"),\n",
    "       (\"Jones\", \"Terry\"), (\"Palin\", \"Michael\"))\n",
    "print(mps)"
   ]
  },
  {
   "cell_type": "code",
   "execution_count": null,
   "metadata": {
    "colab": {},
    "colab_type": "code",
    "id": "QiHyl0tCgtLP",
    "slideshow": {
     "slide_type": "fragment"
    }
   },
   "outputs": [],
   "source": [
    "for pair in mps:\n",
    "    print(pair[1], pair[0])"
   ]
  },
  {
   "cell_type": "code",
   "execution_count": null,
   "metadata": {
    "colab": {},
    "colab_type": "code",
    "id": "faUcNQU4hD6s",
    "slideshow": {
     "slide_type": "fragment"
    }
   },
   "outputs": [],
   "source": [
    "for i, value in enumerate(mps):\n",
    "    print(i, \":\", value[1], value[0])"
   ]
  },
  {
   "cell_type": "markdown",
   "metadata": {
    "colab_type": "text",
    "id": "deZhWfwxbPgi",
    "slideshow": {
     "slide_type": "skip"
    }
   },
   "source": [
    "## Tuple comparison"
   ]
  },
  {
   "cell_type": "markdown",
   "metadata": {
    "colab_type": "text",
    "id": "BCdxe2PDbT67",
    "slideshow": {
     "slide_type": "subslide"
    }
   },
   "source": [
    "### Tuple comparison\n",
    "\n",
    "- Sequences of the same type support comparisons\n",
    "- tuples (and lists) are **compared lexicographically** by comparing corresponding elements. First, the first two items are compared, and if they differ this determines the outcome of the comparison; if they are equal, the next two items are compared, and so on, until either sequence is exhausted.\n",
    "- This means that to **compare equal**, every element must compare equal and the two sequences must be of the same type and have the same length.\n",
    "\n",
    "\n",
    "```\n",
    ">>> a = (1, 2, 3)\n",
    ">>> b = (1, 2, 5)\n",
    ">>> a < b\n",
    "```"
   ]
  },
  {
   "cell_type": "markdown",
   "metadata": {
    "colab_type": "text",
    "id": "TpweoJX-dIx4",
    "slideshow": {
     "slide_type": "skip"
    }
   },
   "source": [
    "Try this:"
   ]
  },
  {
   "cell_type": "code",
   "execution_count": null,
   "metadata": {
    "colab": {},
    "colab_type": "code",
    "id": "sdIrWaZQc5Oz",
    "slideshow": {
     "slide_type": "subslide"
    }
   },
   "outputs": [],
   "source": [
    "a = (2, 1, 3)\n",
    "b = (1, 2, 5)\n",
    "a < b"
   ]
  },
  {
   "cell_type": "code",
   "execution_count": null,
   "metadata": {
    "colab": {},
    "colab_type": "code",
    "id": "4Wv_2VSndAbw",
    "slideshow": {
     "slide_type": "fragment"
    }
   },
   "outputs": [],
   "source": [
    "a = (1, 3)\n",
    "b = (1, 2, 5)\n",
    "a < b"
   ]
  },
  {
   "cell_type": "code",
   "execution_count": null,
   "metadata": {
    "colab": {},
    "colab_type": "code",
    "id": "sdsMY0CHdE49",
    "slideshow": {
     "slide_type": "fragment"
    }
   },
   "outputs": [],
   "source": [
    "a = ()\n",
    "b = (1, 2, 5)\n",
    "a < b"
   ]
  },
  {
   "cell_type": "markdown",
   "metadata": {
    "colab_type": "text",
    "id": "dKS_qPS6WRl0",
    "slideshow": {
     "slide_type": "skip"
    }
   },
   "source": [
    "## Tuple operations"
   ]
  },
  {
   "cell_type": "markdown",
   "metadata": {
    "colab_type": "text",
    "id": "Wd7sWnFcXrt_",
    "slideshow": {
     "slide_type": "subslide"
    }
   },
   "source": [
    "### Updating Tuples\n",
    "\n",
    "- Tuples are **immutable**, which means you cannot update or change the\n",
    "    values of tuple elements\n",
    "\n",
    "- You are able to take portions of existing tuples to create new\n",
    "    tuples\n",
    "\n",
    "```\n",
    "  tup1 = (12, 34.56)\n",
    "\n",
    "  # Following action is not valid for tuples\n",
    "  # tup1[0] = 100\n",
    "\n",
    "  # So let's create a new tuple as follows\n",
    "  tup1 = (100,) + tup1[1:]\n",
    "  print(tup1)\n",
    "  \n",
    "```\n",
    "\n"
   ]
  },
  {
   "cell_type": "code",
   "execution_count": null,
   "metadata": {
    "colab": {},
    "colab_type": "code",
    "id": "_39IDiVA534z",
    "slideshow": {
     "slide_type": "subslide"
    }
   },
   "outputs": [],
   "source": [
    "tup = (1000, 3.14159)\n",
    "print(tup)\n",
    "tup[0] = 100 # an ERROR!"
   ]
  },
  {
   "cell_type": "code",
   "execution_count": null,
   "metadata": {},
   "outputs": [],
   "source": [
    " ### Updating Tuples\n",
    "\n",
    "tup1 = (12, 34.56)\n",
    "\n",
    "# Following action is not valid for tuples\n",
    "# tup1[0] = 100\n",
    "\n",
    "# So let's create a new tuple as follows\n",
    "tup1 = (100,) + tup1[1:]\n",
    "print(tup1)"
   ]
  },
  {
   "cell_type": "code",
   "execution_count": null,
   "metadata": {},
   "outputs": [],
   "source": [
    "  \n",
    "### Delete Tuples\n",
    " \n",
    "tup = ('physics', 'chemistry', 2017, 2018)\n",
    "\n",
    "print()\n",
    "print(tup)\n",
    "\n",
    "del tup\n",
    "\n",
    "print(\"After deleting tup : \")\n",
    "print(tup)"
   ]
  },
  {
   "cell_type": "code",
   "execution_count": null,
   "metadata": {},
   "outputs": [],
   "source": [
    "### Basic Tuples Operations\n",
    "\n",
    "tup = (1, 2, 3) + (4, 5, 6)\n",
    "print()\n",
    "print(tup)\n",
    "\n",
    "print()\n",
    "print(len((1, 2, 3)))\n",
    "\n",
    "print()\n",
    "print(('Hi!',) * 4)\n",
    "\n",
    "print()\n",
    "print(3 in (1, 2, 3))\n",
    "\n",
    "print()\n",
    "for x in (1, 2, 3):\n",
    "    print(x)"
   ]
  },
  {
   "cell_type": "code",
   "execution_count": null,
   "metadata": {},
   "outputs": [],
   "source": [
    "### Indexing, Slicing\n",
    "\n",
    "L = ('spam', 'Spam', 'SPAM!')\n",
    "\n",
    "print()\n",
    "print(L[2])\n",
    "print(L[-2])\n",
    "print(L[1:])"
   ]
  },
  {
   "cell_type": "code",
   "execution_count": null,
   "metadata": {},
   "outputs": [],
   "source": [
    "### No Enclosing Delimiters\n",
    "\n",
    "tup = 'abc', -4.24e93, 18+6.6j, 'xyz'\n",
    "\n",
    "print()\n",
    "print(tup)"
   ]
  },
  {
   "cell_type": "code",
   "execution_count": null,
   "metadata": {},
   "outputs": [],
   "source": [
    "### Built-in Tuple Functions\n",
    "\n",
    "tuple1, tuple2 = (123, 'xyz', 'zara', 'abc'), (456, 700, 200)\n",
    "\n",
    "print()\n",
    "print(\"Max value element tuple1: \", max(tuple2))\n",
    "print(\"Max value element tuple2: \", max(tuple1))"
   ]
  },
  {
   "cell_type": "code",
   "execution_count": null,
   "metadata": {},
   "outputs": [],
   "source": []
  },
  {
   "cell_type": "markdown",
   "metadata": {
    "colab_type": "text",
    "id": "O0blMv6ixCdQ"
   },
   "source": [
    "## Lists of Tuples"
   ]
  },
  {
   "cell_type": "markdown",
   "metadata": {
    "colab_type": "text",
    "id": "VPgZ7o5bezGg"
   },
   "source": [
    "### Lists of Tuples\n",
    "\n",
    "- The list of tuple structure is remarkably useful\n",
    "\n",
    "- One common situation is processing a list of simple coordinate pairs\n",
    "    for 2-dimensional or 3-dimensional geometries\n",
    "\n",
    "- As an example of using a red, green, blue **tuple**, we may have a\n",
    "    list of individual colors that looks like:\n",
    "\n",
    "```\n",
    "   color_scheme = [ (0,0,0), (0x00,0xff,0x7f), (0xf5,0xde,0xb3) ] # RGB colors, (0,0,0) is black\n",
    "```"
   ]
  },
  {
   "cell_type": "markdown",
   "metadata": {
    "colab_type": "text",
    "id": "J0GgXZWTfsN9"
   },
   "source": [
    "### Working with Lists of Tuples\n",
    "\n",
    "- In dictionaries, the `dict.items()` method provides the dictionary\n",
    "    keys and values as a `list` of 2-tuples\n",
    "\n",
    "- The `zip()` built-in function *interleaves* two or more sequences to\n",
    "    create a `list` of tuples\n",
    "\n",
    "- A interesting form of the `for` statement is one that exploits\n",
    "    multiple assignment to work with a list of tuples\n",
    "\n",
    "```\n",
    "   for c,f in [(\"red\",18), (\"black\",18), (\"green\",2)]:\n",
    "      print(\"{0} occurs {1}\".format(c, f/38.0))\n",
    "```\n",
    "\n",
    "- The `for` statement uses a form of multiple assignment to split up\n",
    "    each tuple into a fixed number of variables\n"
   ]
  },
  {
   "cell_type": "markdown",
   "metadata": {
    "colab_type": "text",
    "id": "upshDpB_gH6N"
   },
   "source": [
    "Multiple assignment to work with a list of tuples:"
   ]
  },
  {
   "cell_type": "code",
   "execution_count": null,
   "metadata": {
    "colab": {},
    "colab_type": "code",
    "id": "CcvZ3jnGgFhV"
   },
   "outputs": [],
   "source": [
    "for c, f in [(\"red\", 18), (\"black\", 18), (\"green\", 2)]:\n",
    "    print(\"{0} occurs {1}\".format(c, f/38.0))"
   ]
  },
  {
   "cell_type": "markdown",
   "metadata": {
    "colab_type": "text",
    "id": "d3tragD-gfL5"
   },
   "source": [
    "Yet another example:"
   ]
  },
  {
   "cell_type": "code",
   "execution_count": null,
   "metadata": {
    "colab": {},
    "colab_type": "code",
    "id": "KXBNCtJzgjtf"
   },
   "outputs": [],
   "source": [
    "for r, g, b in [(0x00,0xff,0x7f), (0xf5,0xde,0xb3)]:\n",
    "    print(\"red: {0}, green: {1}, blue: {2}\".format(r, g, b))"
   ]
  },
  {
   "cell_type": "markdown",
   "metadata": {
    "colab_type": "text",
    "id": "fxTfGXeymDtv"
   },
   "source": [
    "## List Comprehensions"
   ]
  },
  {
   "cell_type": "markdown",
   "metadata": {
    "colab_type": "text",
    "id": "6NnukL1-l-gJ"
   },
   "source": [
    "### List Comprehensions\n",
    "\n",
    "- A popular Python feature that appears prominently in Functional Programming Languages is list comprehensions\n",
    "\n",
    "- A list comprehension is an expression that combines a function, a\n",
    "    `for` statement, and an optional `if` statement\n",
    "\n",
    "- The most important thing about a list comprehension is that it is an\n",
    "    iterable that applies a calculation to another iterable\n",
    "\n",
    "```\n",
    "   even = [2*x for x in range(18)]\n",
    "```\n",
    "\n"
   ]
  },
  {
   "cell_type": "markdown",
   "metadata": {
    "colab_type": "text",
    "id": "kZMpvm34xREd"
   },
   "source": [
    "## Advanced List Sorting"
   ]
  },
  {
   "cell_type": "markdown",
   "metadata": {
    "colab_type": "text",
    "id": "HjmzmdbGtg3c"
   },
   "source": [
    "### List Sorting\n",
    "\n",
    "- Consider a list of tuples (that came from a spreadsheet `csv` file)\n",
    "\n",
    "```\n",
    "   job_data = [\n",
    "       ('121','Wyoming','NY',8722),\n",
    "       ('123','Yates','NY',5094)\n",
    "       ...\n",
    "       ('001,'Albany','NY',162692),\n",
    "       ('003','Allegany','NY',11986),\n",
    "   ]\n",
    "```\n"
   ]
  },
  {
   "cell_type": "markdown",
   "metadata": {
    "colab_type": "text",
    "id": "GFLAs1dStmro"
   },
   "source": [
    "\n",
    "- Sorting this list can be done trivially with the `list.sort()`\n",
    "    method\n",
    "\n",
    "```\n",
    "   job_data.sort()\n",
    "```\n",
    "\n",
    "- This kind of sort will simply compare the tuple items in the order\n",
    "    presented in the tuple\n",
    "\n",
    "- In this case, the country number is first"
   ]
  },
  {
   "cell_type": "markdown",
   "metadata": {
    "colab_type": "text",
    "id": "YuE5Yt4Ktrv0"
   },
   "source": [
    "### Sorting With Key Extraction\n",
    "\n",
    "- What if we want to sort by some other column, like state name or\n",
    "    jobs?\n",
    "\n",
    "- The `sort()` method of a list can accept a keyword parameter, `key`,\n",
    "    that provides a key extraction function\n",
    "\n",
    "- This function returns a value which can be used for comparison\n",
    "    purposes\n",
    "\n",
    "- To sort our `job_data` by the second field, we can use a function\n",
    "    like the following:\n",
    "\n",
    "```\n",
    "   def by_state(a):\n",
    "       return a[1]\n",
    "\n",
    "   job_data.sort(key=by_state)\n",
    "```\n"
   ]
  },
  {
   "cell_type": "markdown",
   "metadata": {
    "colab_type": "text",
    "id": "9igOf3PIzWFg"
   },
   "source": [
    "The \"database\":"
   ]
  },
  {
   "cell_type": "code",
   "execution_count": null,
   "metadata": {
    "colab": {},
    "colab_type": "code",
    "id": "6yWi5b1CzYI4"
   },
   "outputs": [],
   "source": [
    "job_data = [\n",
    "   ('121', 'Yates', 'NY', 5094),\n",
    "   ('122', 'Wyoming', 'NY', 8722),\n",
    "   ('001', 'Albany', 'NY', 162692),\n",
    "   ('003', 'Allegany', 'NY', 11986),\n",
    "]"
   ]
  },
  {
   "cell_type": "markdown",
   "metadata": {
    "colab_type": "text",
    "id": "BwAMZr8NzfQj"
   },
   "source": [
    "Let's do a standard sort:"
   ]
  },
  {
   "cell_type": "code",
   "execution_count": null,
   "metadata": {
    "colab": {},
    "colab_type": "code",
    "id": "IzPVDxy1zkAt"
   },
   "outputs": [],
   "source": [
    "print(job_data)\n",
    "job_data.sort()\n",
    "print(job_data)"
   ]
  },
  {
   "cell_type": "markdown",
   "metadata": {
    "colab_type": "text",
    "id": "Z-ixvNr6z_lS"
   },
   "source": [
    "Sort by state:"
   ]
  },
  {
   "cell_type": "code",
   "execution_count": null,
   "metadata": {
    "colab": {},
    "colab_type": "code",
    "id": "dTw6ohKCz6hj"
   },
   "outputs": [],
   "source": [
    "def by_state(a):\n",
    "    return a[1]"
   ]
  },
  {
   "cell_type": "markdown",
   "metadata": {
    "colab_type": "text",
    "id": "pSLrMiDEz1jD"
   },
   "source": [
    "Sort by key:"
   ]
  },
  {
   "cell_type": "code",
   "execution_count": null,
   "metadata": {
    "colab": {},
    "colab_type": "code",
    "id": "YGddMYYGz-LF"
   },
   "outputs": [],
   "source": [
    "job_data.sort(key=by_state)\n",
    "print(job_data)"
   ]
  },
  {
   "cell_type": "markdown",
   "metadata": {
    "colab_type": "text",
    "id": "O0blMv6ixCdQ"
   },
   "source": [
    "## Lists of Tuples"
   ]
  },
  {
   "cell_type": "markdown",
   "metadata": {
    "colab_type": "text",
    "id": "VPgZ7o5bezGg"
   },
   "source": [
    "### Lists of Tuples\n",
    "\n",
    "- The list of tuple structure is remarkably useful\n",
    "\n",
    "- One common situation is processing a list of simple coordinate pairs\n",
    "    for 2-dimensional or 3-dimensional geometries\n",
    "\n",
    "- As an example of using a red, green, blue **tuple**, we may have a\n",
    "    list of individual colors that looks like:\n",
    "\n",
    "```\n",
    "   color_scheme = [ (0,0,0), (0x00,0xff,0x7f), (0xf5,0xde,0xb3) ] # RGB colors, (0,0,0) is black\n",
    "```"
   ]
  },
  {
   "cell_type": "markdown",
   "metadata": {
    "colab_type": "text",
    "id": "J0GgXZWTfsN9"
   },
   "source": [
    "### Working with Lists of Tuples\n",
    "\n",
    "- In dictionaries, the `dict.items()` method provides the dictionary\n",
    "    keys and values as a `list` of 2-tuples\n",
    "\n",
    "- The `zip()` built-in function *interleaves* two or more sequences to\n",
    "    create a `list` of tuples\n",
    "\n",
    "- A interesting form of the `for` statement is one that exploits\n",
    "    multiple assignment to work with a list of tuples\n",
    "\n",
    "```\n",
    "   for c,f in [(\"red\",18), (\"black\",18), (\"green\",2)]:\n",
    "      print(\"{0} occurs {1}\".format(c, f/38.0))\n",
    "```\n",
    "\n",
    "- The `for` statement uses a form of multiple assignment to split up\n",
    "    each tuple into a fixed number of variables\n"
   ]
  },
  {
   "cell_type": "markdown",
   "metadata": {
    "colab_type": "text",
    "id": "upshDpB_gH6N"
   },
   "source": [
    "Multiple assignment to work with a list of tuples:"
   ]
  },
  {
   "cell_type": "code",
   "execution_count": null,
   "metadata": {
    "colab": {},
    "colab_type": "code",
    "id": "CcvZ3jnGgFhV"
   },
   "outputs": [],
   "source": [
    "for c, f in [(\"red\", 18), (\"black\", 18), (\"green\", 2)]:\n",
    "    print(\"{0} occurs {1}\".format(c, f/38.0))"
   ]
  },
  {
   "cell_type": "markdown",
   "metadata": {
    "colab_type": "text",
    "id": "d3tragD-gfL5"
   },
   "source": [
    "Yet another example:"
   ]
  },
  {
   "cell_type": "code",
   "execution_count": null,
   "metadata": {
    "colab": {},
    "colab_type": "code",
    "id": "KXBNCtJzgjtf"
   },
   "outputs": [],
   "source": [
    "for r, g, b in [(0x00,0xff,0x7f), (0xf5,0xde,0xb3)]:\n",
    "    print(\"red: {0}, green: {1}, blue: {2}\".format(r, g, b))"
   ]
  },
  {
   "cell_type": "markdown",
   "metadata": {
    "colab_type": "text",
    "id": "fxTfGXeymDtv"
   },
   "source": [
    "## List Comprehensions"
   ]
  },
  {
   "cell_type": "markdown",
   "metadata": {
    "colab_type": "text",
    "id": "6NnukL1-l-gJ"
   },
   "source": [
    "### List Comprehensions\n",
    "\n",
    "- A popular Python feature that appears prominently in Functional Programming Languages is list comprehensions\n",
    "\n",
    "- A list comprehension is an expression that combines a function, a\n",
    "    `for` statement, and an optional `if` statement\n",
    "\n",
    "- The most important thing about a list comprehension is that it is an\n",
    "    iterable that applies a calculation to another iterable\n",
    "\n",
    "```\n",
    "   even = [2*x for x in range(18)]\n",
    "```\n",
    "\n"
   ]
  },
  {
   "cell_type": "markdown",
   "metadata": {
    "colab_type": "text",
    "id": "kZMpvm34xREd"
   },
   "source": [
    "## Advanced List Sorting"
   ]
  },
  {
   "cell_type": "markdown",
   "metadata": {
    "colab_type": "text",
    "id": "HjmzmdbGtg3c"
   },
   "source": [
    "### List Sorting\n",
    "\n",
    "- Consider a list of tuples (that came from a spreadsheet `csv` file)\n",
    "\n",
    "```\n",
    "   job_data = [\n",
    "       ('121','Wyoming','NY',8722),\n",
    "       ('123','Yates','NY',5094)\n",
    "       ...\n",
    "       ('001,'Albany','NY',162692),\n",
    "       ('003','Allegany','NY',11986),\n",
    "   ]\n",
    "```\n"
   ]
  },
  {
   "cell_type": "markdown",
   "metadata": {
    "colab_type": "text",
    "id": "GFLAs1dStmro"
   },
   "source": [
    "\n",
    "- Sorting this list can be done trivially with the `list.sort()`\n",
    "    method\n",
    "\n",
    "```\n",
    "   job_data.sort()\n",
    "```\n",
    "\n",
    "- This kind of sort will simply compare the tuple items in the order\n",
    "    presented in the tuple\n",
    "\n",
    "- In this case, the country number is first"
   ]
  },
  {
   "cell_type": "markdown",
   "metadata": {
    "colab_type": "text",
    "id": "YuE5Yt4Ktrv0"
   },
   "source": [
    "### Sorting With Key Extraction\n",
    "\n",
    "- What if we want to sort by some other column, like state name or\n",
    "    jobs?\n",
    "\n",
    "- The `sort()` method of a list can accept a keyword parameter, `key`,\n",
    "    that provides a key extraction function\n",
    "\n",
    "- This function returns a value which can be used for comparison\n",
    "    purposes\n",
    "\n",
    "- To sort our `job_data` by the second field, we can use a function\n",
    "    like the following:\n",
    "\n",
    "```\n",
    "   def by_state(a):\n",
    "       return a[1]\n",
    "\n",
    "   job_data.sort(key=by_state)\n",
    "```\n"
   ]
  },
  {
   "cell_type": "markdown",
   "metadata": {
    "colab_type": "text",
    "id": "9igOf3PIzWFg"
   },
   "source": [
    "The \"database\":"
   ]
  },
  {
   "cell_type": "code",
   "execution_count": null,
   "metadata": {
    "colab": {},
    "colab_type": "code",
    "id": "6yWi5b1CzYI4"
   },
   "outputs": [],
   "source": [
    "job_data = [\n",
    "   ('121', 'Yates', 'NY', 5094),\n",
    "   ('122', 'Wyoming', 'NY', 8722),\n",
    "   ('001', 'Albany', 'NY', 162692),\n",
    "   ('003', 'Allegany', 'NY', 11986),\n",
    "]"
   ]
  },
  {
   "cell_type": "markdown",
   "metadata": {
    "colab_type": "text",
    "id": "BwAMZr8NzfQj"
   },
   "source": [
    "Let's do a standard sort:"
   ]
  },
  {
   "cell_type": "code",
   "execution_count": null,
   "metadata": {
    "colab": {},
    "colab_type": "code",
    "id": "IzPVDxy1zkAt"
   },
   "outputs": [],
   "source": [
    "print(job_data)\n",
    "job_data.sort()\n",
    "print(job_data)"
   ]
  },
  {
   "cell_type": "markdown",
   "metadata": {
    "colab_type": "text",
    "id": "Z-ixvNr6z_lS"
   },
   "source": [
    "Sort by state:"
   ]
  },
  {
   "cell_type": "code",
   "execution_count": null,
   "metadata": {
    "colab": {},
    "colab_type": "code",
    "id": "dTw6ohKCz6hj"
   },
   "outputs": [],
   "source": [
    "def by_state(a):\n",
    "    return a[1]"
   ]
  },
  {
   "cell_type": "markdown",
   "metadata": {
    "colab_type": "text",
    "id": "pSLrMiDEz1jD"
   },
   "source": [
    "Sort by key:"
   ]
  },
  {
   "cell_type": "code",
   "execution_count": null,
   "metadata": {
    "colab": {},
    "colab_type": "code",
    "id": "YGddMYYGz-LF"
   },
   "outputs": [],
   "source": [
    "job_data.sort(key=by_state)\n",
    "print(job_data)"
   ]
  }
 ],
 "metadata": {
  "colab": {
   "collapsed_sections": [
    "Zz-UtV8ORH_t"
   ],
   "name": "08-tuples.ipynb",
   "private_outputs": true,
   "provenance": [],
   "toc_visible": true
  },
  "kernelspec": {
   "display_name": "Python 3",
   "language": "python",
   "name": "python3"
  },
  "language_info": {
   "codemirror_mode": {
    "name": "ipython",
    "version": 3
   },
   "file_extension": ".py",
   "mimetype": "text/x-python",
   "name": "python",
   "nbconvert_exporter": "python",
   "pygments_lexer": "ipython3",
   "version": "3.7.4"
  }
 },
 "nbformat": 4,
 "nbformat_minor": 1
}
