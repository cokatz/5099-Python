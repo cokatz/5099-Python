{
 "cells": [
  {
   "cell_type": "markdown",
   "metadata": {
    "slideshow": {
     "slide_type": "slide"
    }
   },
   "source": [
    "# Multidimensional Lists and NumPy\n"
   ]
  },
  {
   "cell_type": "markdown",
   "metadata": {
    "slideshow": {
     "slide_type": "slide"
    }
   },
   "source": [
    "\n",
    "We have been creating matrices using lists of lists.\n",
    "\n",
    "For example, we would write $$M=\\begin{pmatrix}1&2&3\\\\4&5&6\\end{pmatrix}$$\n",
    "\n",
    "as"
   ]
  },
  {
   "cell_type": "code",
   "execution_count": null,
   "metadata": {
    "slideshow": {
     "slide_type": "fragment"
    }
   },
   "outputs": [],
   "source": [
    "M = [\n",
    "    [1, 2, 3],\n",
    "    [4, 5, 6]\n",
    "]\n",
    "M"
   ]
  },
  {
   "cell_type": "markdown",
   "metadata": {},
   "source": [
    "Below, the Python list “A” has three lists nested within it, each Python list is represented as a different color. Each list is a different row in the rectangular table, and each column represents a separate element in the list.  In this case, we set the elements of the list corresponding to row and column numbers respectively.\n",
    "<img src=\"images/10/mlist.png\">\n",
    "\n",
    "In Python to access a list with a second nested list, we use two brackets, the first bracket corresponds to the row number and the second index corresponds to the column.\n",
    "<img src=\"images/10/mlist-index.png\">\n",
    "\n",
    "Example 1  shows the syntax to access element A[0][0], example 2 shows the syntax to access element A[1][2] and example 3 shows how to access element  A[2][0].\n",
    "<img src=\"images/10/mlist-index-example.png\">"
   ]
  },
  {
   "cell_type": "code",
   "execution_count": null,
   "metadata": {
    "slideshow": {
     "slide_type": "fragment"
    }
   },
   "outputs": [],
   "source": [
    "M = [\n",
    "    [1, 2, 3],\n",
    "    [4, 5, 6]\n",
    "]\n",
    "M"
   ]
  },
  {
   "cell_type": "code",
   "execution_count": null,
   "metadata": {},
   "outputs": [],
   "source": [
    "M[1][1]\n"
   ]
  },
  {
   "cell_type": "markdown",
   "metadata": {},
   "source": [
    "## Creating Multidimensional Lists and Pitfalls\n",
    "Lets start by looking at common ways of creating 1d array of size N initialized with 0s."
   ]
  },
  {
   "cell_type": "code",
   "execution_count": null,
   "metadata": {},
   "outputs": [],
   "source": [
    "# First method to create a 1 D array \n",
    "N = 5\n",
    "arr = [0]*N \n",
    "print(arr) "
   ]
  },
  {
   "cell_type": "code",
   "execution_count": null,
   "metadata": {},
   "outputs": [],
   "source": [
    "# Second method to create a 1 D array \n",
    "N = 5\n",
    "arr = [0 for i in range(N)] \n",
    "print(arr) "
   ]
  },
  {
   "cell_type": "markdown",
   "metadata": {},
   "source": [
    "Extending the above we can define 2-dimensional arrays in the following ways."
   ]
  },
  {
   "cell_type": "code",
   "execution_count": null,
   "metadata": {},
   "outputs": [],
   "source": [
    "# Using above first method to create a  \n",
    "# 2D array \n",
    "rows, cols = (5, 5) \n",
    "arr = [[0]*cols]*rows \n",
    "print(arr) "
   ]
  },
  {
   "cell_type": "code",
   "execution_count": null,
   "metadata": {},
   "outputs": [],
   "source": []
  },
  {
   "cell_type": "code",
   "execution_count": null,
   "metadata": {},
   "outputs": [],
   "source": [
    "\n",
    "# lets change the first element of the  \n",
    "# first row to 1 and print the array \n",
    "arr[0][0] = 1\n",
    "  \n",
    "for row in arr: \n",
    "    print(row) "
   ]
  },
  {
   "cell_type": "code",
   "execution_count": null,
   "metadata": {},
   "outputs": [],
   "source": [
    "# Using above second method to create a  \n",
    "# 2D array \n",
    "rows, cols = (5, 5) \n",
    "arr = [[0 for i in range(cols)] for j in range(rows)] \n",
    "print(arr) "
   ]
  },
  {
   "cell_type": "code",
   "execution_count": null,
   "metadata": {},
   "outputs": [],
   "source": [
    "\n",
    "  \n",
    "# again in this new array lets change \n",
    "# the first element of the first row  \n",
    "# to 1 and print the array \n",
    "arr[0][0] = 1\n",
    "for row in arr: \n",
    "    print(row) "
   ]
  },
  {
   "cell_type": "markdown",
   "metadata": {},
   "source": [
    "## The Problem is Aliasing\n",
    "\n",
    "When we create a 2d array as \n",
    "\n",
    "```\n",
    "rows, cols = (5, 5) \n",
    "arr = [[0]*cols]*rows\n",
    "```\n",
    "Python doesn’t create 5 integer objects but creates only one integer object and all the indices of the array arr point to the same int object\n",
    "\n",
    "<img src=\"images/10/2d_array_init.png\">\n",
    "\n",
    "\n",
    "So, when we change the first element in first row of “arr” as\n",
    "```\n",
    "arr[0][0] = 1\n",
    "```\n",
    "\n",
    "<img src=\"images/10/2d_array_changed.png\">\n",
    "\n",
    "```\n",
    "rows, cols = (5, 5) \n",
    "arr = [[0 for i in range(cols)] for j in range(rows)] \n",
    "```\n",
    "creates separate list objects"
   ]
  },
  {
   "cell_type": "code",
   "execution_count": null,
   "metadata": {},
   "outputs": [],
   "source": [
    "rows, cols = (5, 5) \n",
    "\n",
    "arr = [[0 for i in range(cols)] for j in range(rows)] \n",
    "  \n",
    "# check if arr[0] and arr[1] refer to \n",
    "# the same object \n",
    "print(arr[0] is arr[1]) # prints False \n",
    "  \n",
    "\n",
    "arr = [[0]*cols]*rows \n",
    "  \n",
    "# check if arr[0] and arr[1] refer to  \n",
    "# the same object \n",
    "# prints True because there is only one \n",
    "# list object being created. \n",
    "print(arr[0] is arr[1]) "
   ]
  },
  {
   "cell_type": "markdown",
   "metadata": {},
   "source": [
    "## Selecting Rows and Columns in Multidimensional Lists"
   ]
  },
  {
   "cell_type": "code",
   "execution_count": null,
   "metadata": {
    "slideshow": {
     "slide_type": "slide"
    }
   },
   "outputs": [],
   "source": [
    "M = [\n",
    "    [1, 2, 3],\n",
    "    [4, 5, 6]\n",
    "]"
   ]
  },
  {
   "cell_type": "markdown",
   "metadata": {
    "slideshow": {
     "slide_type": "fragment"
    }
   },
   "source": [
    "What do I do if I want to select the **first row**?"
   ]
  },
  {
   "cell_type": "code",
   "execution_count": null,
   "metadata": {
    "slideshow": {
     "slide_type": "fragment"
    }
   },
   "outputs": [],
   "source": [
    "M[0]"
   ]
  },
  {
   "cell_type": "code",
   "execution_count": null,
   "metadata": {
    "slideshow": {
     "slide_type": "slide"
    }
   },
   "outputs": [],
   "source": [
    "M = [\n",
    "    [1, 2, 3],\n",
    "    [4, 5, 6]\n",
    "]"
   ]
  },
  {
   "cell_type": "markdown",
   "metadata": {
    "slideshow": {
     "slide_type": "fragment"
    }
   },
   "source": [
    "What do I do if I want to select the **third column**?"
   ]
  },
  {
   "cell_type": "code",
   "execution_count": null,
   "metadata": {
    "slideshow": {
     "slide_type": "fragment"
    }
   },
   "outputs": [],
   "source": [
    "print([i[2] for i in M])\n",
    "\n",
    "alist=[]\n",
    "for i in M:\n",
    "    anum=i[2]\n",
    "    alist.append(anum)\n",
    "print(alist)"
   ]
  },
  {
   "cell_type": "markdown",
   "metadata": {
    "slideshow": {
     "slide_type": "slide"
    }
   },
   "source": [
    "# Python Packages\n",
    "\n",
    "We will focus today on packages for scientific programming.\n",
    "\n",
    "<img src=\"images/10/diagram.png\">\n",
    "\n"
   ]
  },
  {
   "cell_type": "markdown",
   "metadata": {
    "slideshow": {
     "slide_type": "slide"
    }
   },
   "source": [
    "# NumPy\n",
    "\n",
    "## The NumPy Array Object\n",
    "\n",
    "- The core of the NumPy Library is one main object: `ndarray` (which stands for N-dimensional array)\n",
    "- This object is a multi-dimensional homogeneous array with a predetermined number of items\n",
    "- In addition to the data stored in the array, this data structure also contains important metadata about the array, such as its shape, size, data type, and other attributes. \n",
    "\n",
    "\n",
    "**Basic Attributes of the ndarray Class**\n",
    "\n",
    "| Attribute | Description                                                                                              |\n",
    "|-----------|----------------------------------------------------------------------------------------------------------|\n",
    "| shape     | A tuple that contains the number of elements (i.e., the length)  for each dimension (axis) of the array. |\n",
    "| size      | The total number elements in the array.                                                                  |\n",
    "| ndim      | Number of dimensions (axes).                                                                             |\n",
    "| nbytes    | Number of bytes used to store the data.                                                                  |\n",
    "| dtype     | The data type of the elements in the array.                                                              |\n",
    "| itemsize  | Defines teh size in bytes of each item in the array.                                                     |\n",
    "| data      | A buffer containing the actual elements of the array.                                                    |\n",
    "\n",
    "By convention, the numPy module imported under the alias np, like so:"
   ]
  },
  {
   "cell_type": "code",
   "execution_count": null,
   "metadata": {},
   "outputs": [],
   "source": [
    "import numpy as np"
   ]
  },
  {
   "cell_type": "markdown",
   "metadata": {
    "slideshow": {
     "slide_type": "slide"
    }
   },
   "source": [
    "# NumPy\n",
    "## How to create arrays\n",
    "\n",
    "| Type | Example |\n",
    "|:-|:-|\n",
    "| From lists | `np.array(M)` |\n",
    "| Zeros  | `np.zeros((2, 3))` |\n",
    "| Ones   | `np.ones((2, 3))` |\n",
    "| Random uniform | `np.random.rand(2, 3)` |\n",
    "| Random gaussian | `np.random.randn(2, 3)` |\n",
    "\n"
   ]
  },
  {
   "cell_type": "code",
   "execution_count": null,
   "metadata": {},
   "outputs": [],
   "source": [
    "data = np.array([[10, 2], [5, 8], [1, 1]])\n",
    "data"
   ]
  },
  {
   "cell_type": "code",
   "execution_count": null,
   "metadata": {
    "slideshow": {
     "slide_type": "fragment"
    }
   },
   "outputs": [],
   "source": [
    "M = np.array([\n",
    "    [1, 2, 3],\n",
    "    [4, 5, 6],\n",
    "    [7, 8, 9]\n",
    "])\n",
    "\n",
    "M"
   ]
  },
  {
   "cell_type": "code",
   "execution_count": null,
   "metadata": {
    "slideshow": {
     "slide_type": "fragment"
    }
   },
   "outputs": [],
   "source": [
    "a = np.zeros((3,5))\n",
    "a"
   ]
  },
  {
   "cell_type": "code",
   "execution_count": null,
   "metadata": {},
   "outputs": [],
   "source": [
    "c= np.ones((4,5))\n",
    "c"
   ]
  },
  {
   "cell_type": "code",
   "execution_count": null,
   "metadata": {},
   "outputs": [],
   "source": [
    "# a diagonal matrix\n",
    "np.diag([1, 2, 3])"
   ]
  },
  {
   "cell_type": "code",
   "execution_count": null,
   "metadata": {},
   "outputs": [],
   "source": [
    "a = np.diag(M)\n",
    "a"
   ]
  },
  {
   "cell_type": "markdown",
   "metadata": {},
   "source": [
    "## Data types\n",
    "\n",
    "- `dtype` attribute of the `ndarray` describes the data type of each element in the array.\n",
    "- Since NumPy arrays are homogeneous, all elements have the same data type. \n",
    "\n",
    "### Basic Numerical Data Types Available in NumPy\n",
    "\n",
    "\n",
    "| dtype   | Variants                            | Description                           |\n",
    "|---------|-------------------------------------|---------------------------------------|\n",
    "| int     | int8, int16, int32, int64           | Integers                              |\n",
    "| uint    | uint8, uint16, uint32, uint64       | Unsigned (non-negative) integers      |\n",
    "| bool    | Bool                                | Boolean (True or False)               |\n",
    "| float   | float16, float32, float64, float128 | Floating-point numbers                |\n",
    "| complex | complex64, complex128, complex256   | Complex-valued floating-point numbers |"
   ]
  },
  {
   "cell_type": "code",
   "execution_count": null,
   "metadata": {},
   "outputs": [],
   "source": [
    "data = np.array([5, 9, 87], dtype=np.float32)\n",
    "data"
   ]
  },
  {
   "cell_type": "code",
   "execution_count": null,
   "metadata": {},
   "outputs": [],
   "source": [
    "data = np.array(data, dtype=np.int32) # use np.array function for type-casting\n",
    "data"
   ]
  },
  {
   "cell_type": "markdown",
   "metadata": {},
   "source": [
    "## Indexing NumPy Arrays\n",
    "\n",
    "- Elements and subarrays of NumPy arrays are accessed using the standard square bracket notation that is also used with Python lists. \n",
    "- Within the square bracket, a variety of different index formats are used for different types of element selection.\n",
    "- In general, the expression within the bracket is a tuple, where each item in the tuple is a specification of which elements to select from each axis/dimensions of the array.\n",
    "\n",
    "\n",
    "## Examples of Array Indexing and Slicing Expressions\n",
    "\n",
    "\n",
    "\n",
    "| Expression           | Description                                                                                                                                                                |\n",
    "|----------------------|----------------------------------------------------------------------------------------------------------------------------------------------------------------------------|\n",
    "| `a[m]`               | Select element at index `m`, where m is an integer (start counting form 0).                                                                                                |\n",
    "| `a[-m]`              | Select the `nth` element from the end of the list, where `n` is an integer. The  last element in the list is addressed as -1, the second to last element as -2, and so on. |\n",
    "| `a[m:n]`             | Select elements with index starting at `m` and ending at `n-1` (`m` and `n` are integers).                                                                                 |\n",
    "| `a[:]` or `a[0:-1]`  | Select all elements in the given axis.                                                                                                                                     |\n",
    "| `a[:n]`              | Select elements starting with index 0 and going up to index `n-1` (integer)                                                                                                |\n",
    "| `a[m:]` or `a[m:-1]` | Select elements starting with index `m` (integer) and going up to the last element in the array.                                                                           |\n",
    "| `a[m:n:p]`           | Select elements with index `m` through `n` (exclusive), with increment `p`.                                                                                                |\n",
    "| `a[::-1]`            | Select all the elements, in reverse order.                                                                                                                                 |"
   ]
  },
  {
   "cell_type": "code",
   "execution_count": null,
   "metadata": {},
   "outputs": [],
   "source": [
    "data = np.arange(8)\n",
    "data"
   ]
  },
  {
   "cell_type": "code",
   "execution_count": null,
   "metadata": {},
   "outputs": [],
   "source": [
    "data[0] # First element"
   ]
  },
  {
   "cell_type": "code",
   "execution_count": null,
   "metadata": {},
   "outputs": [],
   "source": [
    "data[-1] # last element"
   ]
  },
  {
   "cell_type": "code",
   "execution_count": null,
   "metadata": {},
   "outputs": [],
   "source": [
    "data[1:-1:2] # second-to-last, selecting every second element"
   ]
  },
  {
   "cell_type": "code",
   "execution_count": null,
   "metadata": {},
   "outputs": [],
   "source": [
    "data[:5] # select first five"
   ]
  },
  {
   "cell_type": "markdown",
   "metadata": {},
   "source": [
    "## Multidimensional NumPy Arrays\n",
    "\n",
    "With multidimensional arrays, elements selections like those introduced in the previous section can be applied on each axis/dimension. The result is a reduced array where each element matches the given selection rules"
   ]
  },
  {
   "cell_type": "code",
   "execution_count": null,
   "metadata": {},
   "outputs": [],
   "source": [
    "data =np.array([[ 0,  1,  2,  3,  4,  5],\n",
    "       [10, 11, 12, 13, 14, 15],\n",
    "       [20, 21, 22, 23, 24, 25],\n",
    "       [30, 31, 32, 33, 34, 35],\n",
    "       [40, 41, 42, 43, 44, 45],\n",
    "       [50, 51, 52, 53, 54, 55]])\n",
    "data"
   ]
  },
  {
   "cell_type": "code",
   "execution_count": null,
   "metadata": {},
   "outputs": [],
   "source": [
    "data[:, 1] # second column"
   ]
  },
  {
   "cell_type": "code",
   "execution_count": null,
   "metadata": {},
   "outputs": [],
   "source": [
    "data[1, :] # second row"
   ]
  },
  {
   "cell_type": "markdown",
   "metadata": {},
   "source": [
    "- By applying a slice on each of the array axes, we xan extract subarrays:"
   ]
  },
  {
   "cell_type": "code",
   "execution_count": null,
   "metadata": {},
   "outputs": [],
   "source": [
    "data[:3, :3] # Upper half diagonal block matrix"
   ]
  },
  {
   "cell_type": "code",
   "execution_count": null,
   "metadata": {},
   "outputs": [],
   "source": [
    "data[3:, :3] # lower left off-diagonal block matrix"
   ]
  },
  {
   "cell_type": "markdown",
   "metadata": {},
   "source": [
    "- With element spacing other that 1, subarrays made up from nonconsecutive elements can be extracted:"
   ]
  },
  {
   "cell_type": "code",
   "execution_count": null,
   "metadata": {},
   "outputs": [],
   "source": [
    "data[::2, ::2] # every second element starting from 0, 0"
   ]
  },
  {
   "cell_type": "code",
   "execution_count": null,
   "metadata": {},
   "outputs": [],
   "source": [
    "data[1::2, 1::3] # every second and third element starting from 1, 1"
   ]
  },
  {
   "cell_type": "markdown",
   "metadata": {
    "slideshow": {
     "slide_type": "slide"
    }
   },
   "source": [
    "# NumPy\n",
    "## Aggregate operations\n",
    "\n",
    "| Type | Example |\n",
    "|:-|:-|\n",
    "| Sum | `np.sum(array, axis)` |\n",
    "| Average  | `np.mean(array, axis)` |\n",
    "| Standard deviation   | `np.std(array, axis)` |\n",
    "\n",
    "Aggregation functions take an additional argument specifying the axis along which the aggregate is computed. For example, we can find the sum of each column by specifying axis=0 or the sum of each row by specifying axis =1."
   ]
  },
  {
   "cell_type": "code",
   "execution_count": null,
   "metadata": {
    "slideshow": {
     "slide_type": "fragment"
    }
   },
   "outputs": [],
   "source": [
    "M = np.random.random((3, 4))\n",
    "print(M)"
   ]
  },
  {
   "cell_type": "code",
   "execution_count": null,
   "metadata": {},
   "outputs": [],
   "source": [
    "a = np.sum(M)\n",
    "b = np.sum(M, axis = 0)\n",
    "c = np.sum(M, axis = 1)\n",
    "print (a, b, c)"
   ]
  },
  {
   "cell_type": "code",
   "execution_count": null,
   "metadata": {},
   "outputs": [],
   "source": [
    "a = np.mean(M)\n",
    "b = np.mean(M, axis = 0)\n",
    "c = np.mean(M, axis = 1)\n",
    "print (a, b, c)"
   ]
  },
  {
   "cell_type": "markdown",
   "metadata": {
    "slideshow": {
     "slide_type": "slide"
    }
   },
   "source": [
    "# NumPy\n",
    "## Arithmetic operations\n",
    "\n",
    "| Type | Example |\n",
    "|:-|:-|\n",
    "| element-wise addition | `A+B` |\n",
    "| element-wise product | `A*B` |\n",
    "| matrix multiplication | `np.dot(A, B)` |"
   ]
  },
  {
   "cell_type": "code",
   "execution_count": null,
   "metadata": {
    "slideshow": {
     "slide_type": "fragment"
    }
   },
   "outputs": [],
   "source": [
    "x = np.array([[1,2],[3,4]], dtype=np.float64)\n",
    "y = np.array([[5,6],[7,8]], dtype=np.float64)"
   ]
  },
  {
   "cell_type": "code",
   "execution_count": null,
   "metadata": {},
   "outputs": [],
   "source": [
    "print(x + y)\n",
    "print(np.add(x, y))"
   ]
  },
  {
   "cell_type": "code",
   "execution_count": null,
   "metadata": {},
   "outputs": [],
   "source": [
    "print(x - y)\n",
    "print(np.subtract(x, y))"
   ]
  },
  {
   "cell_type": "code",
   "execution_count": null,
   "metadata": {},
   "outputs": [],
   "source": [
    "print(x * y)\n",
    "print(np.multiply(x, y))"
   ]
  },
  {
   "cell_type": "code",
   "execution_count": null,
   "metadata": {},
   "outputs": [],
   "source": [
    "print(x / y)\n",
    "print(np.divide(x, y))"
   ]
  },
  {
   "cell_type": "markdown",
   "metadata": {},
   "source": [
    "- To transpose a matrix, simply use the T attribute of an array object:"
   ]
  },
  {
   "cell_type": "code",
   "execution_count": null,
   "metadata": {},
   "outputs": [],
   "source": [
    "x = np.array([[1,2], [3,4]])\n",
    "print(x)    # Prints \"[[1 2]\n",
    "            #          [3 4]]\"\n",
    "print(x.T)  # Prints \"[[1 3]\n",
    "            #          [2 4]]\"\n"
   ]
  },
  {
   "cell_type": "markdown",
   "metadata": {
    "slideshow": {
     "slide_type": "slide"
    }
   },
   "source": [
    "## Arithmetic broadcasting\n",
    "\n",
    "NumPy supports arithmetic broadcasting:"
   ]
  },
  {
   "cell_type": "code",
   "execution_count": null,
   "metadata": {
    "slideshow": {
     "slide_type": "fragment"
    }
   },
   "outputs": [],
   "source": [
    "A = np.array([[1, 2, 3], [4, 5, 6]])\n",
    "B = np.array([[1, 2, 3]])\n",
    "print('A:', A.shape, 'B:', B.shape)"
   ]
  },
  {
   "cell_type": "code",
   "execution_count": null,
   "metadata": {
    "slideshow": {
     "slide_type": "fragment"
    }
   },
   "outputs": [],
   "source": [
    "A*B"
   ]
  },
  {
   "cell_type": "markdown",
   "metadata": {
    "slideshow": {
     "slide_type": "slide"
    }
   },
   "source": [
    "## Arithmetic broadcasting\n",
    "\n",
    "As long as A and B have the same dimensions (axes), NumPy automatically (implicitly) repeats the arithmetic operation along the dimension of different size.\n",
    "\n",
    "This is a time-saver but can also be a source of bugs. \"Implicit is better than explicit.\" Not in NumPy. :P"
   ]
  }
 ],
 "metadata": {
  "kernelspec": {
   "display_name": "Python 3",
   "language": "python",
   "name": "python3"
  },
  "language_info": {
   "codemirror_mode": {
    "name": "ipython",
    "version": 3
   },
   "file_extension": ".py",
   "mimetype": "text/x-python",
   "name": "python",
   "nbconvert_exporter": "python",
   "pygments_lexer": "ipython3",
   "version": "3.7.4"
  }
 },
 "nbformat": 4,
 "nbformat_minor": 2
}
