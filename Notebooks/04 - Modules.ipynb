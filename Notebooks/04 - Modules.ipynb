{
 "cells": [
  {
   "cell_type": "markdown",
   "metadata": {
    "colab_type": "text",
    "id": "8z5cONg8rUrX"
   },
   "source": [
    "# Modules \n",
    "\n",
    "\n",
    "\n",
    "## Goals\n",
    "\n",
    "By the end of this class, the student should be able to:\n",
    "\n",
    "- Describe the contents of a module then examine the module \"turtle\"\n",
    "\n",
    "- Describe how to `import` and do simple graphics with the module \"turtle\"\n",
    "\n",
    "- Describe an instance of Turtle, its own attributes and methods\n"
   ]
  },
  {
   "cell_type": "markdown",
   "metadata": {
    "colab_type": "text",
    "id": "Vl0u1-guAR-3"
   },
   "source": [
    "# Python Modules\n",
    "\n",
    "- There are many modules in Python that provide very powerful features\n",
    "    that we can use in our own programs:\n",
    "  * to do math\n",
    "  * to send email\n",
    "  * to fetch web pages (scraping)\n",
    "  * ... and many others\n"
   ]
  },
  {
   "cell_type": "markdown",
   "metadata": {
    "colab_type": "text",
    "id": "QVMIGeFZLScL"
   },
   "source": [
    "- With `turtle` one creates turtles and get them to draw shapes and\n",
    "    patterns\n"
   ]
  },
  {
   "cell_type": "markdown",
   "metadata": {
    "colab_type": "text",
    "id": "5zHy3QBYTFef"
   },
   "source": [
    "### Python Modules\n",
    "\n",
    "- When you save a class into a separate file, that file is called a module.\n",
    "\n",
    "\n",
    "- A **module** is a file containing Python definitions and statements\n",
    "    intended for use in other Python programs\n",
    "\n",
    "- There are many Python modules that come with Python as part of the\n",
    "    standard library\n",
    "\n",
    "- Once we import the module, we can use things that are defined inside\n",
    "\n",
    "\n",
    "$\\Rightarrow$ <https://docs.python.org/3.7/library/>\\\n",
    "$\\Rightarrow$ <https://docs.python.org/3/py-modindex.html>\\\n",
    "$\\Rightarrow$ <https://docs.python.org/3.7/library/turtle.html>\\\n"
   ]
  },
  {
   "cell_type": "markdown",
   "metadata": {
    "colab_type": "text",
    "id": "lE7M5KmHTiqI"
   },
   "source": [
    "### Using Modules\n",
    "\n",
    "- The first thing we need to do when we wish to use a module is\n",
    "    perform an import of the class in the module\n",
    "    \n",
    "```\n",
    "    from module_name import ClassName \n",
    "```\n",
    "    or import the entire module\n",
    "```\n",
    "    import module_name\n",
    "```\n",
    "\n",
    "- The statement `import turtle` creates a new object, `turtle`, and\n",
    "    makes it refer to a module object\n",
    "\n",
    "- This looks very much like the reference diagrams for simple\n",
    "    variables\n",
    "\n",
    "![turtle module](images/03/turtle.png)\n"
   ]
  },
  {
   "cell_type": "markdown",
   "metadata": {
    "colab_type": "text",
    "id": "U7nQ3C5gUGBQ"
   },
   "source": [
    "### The `math` module\n",
    "\n",
    "\n",
    "- The math module contains the kinds of mathematical functions you\n",
    "    would typically find on your calculator, and\n",
    "\n",
    "- some mathematical constants like *pi* and *e*\n",
    "\n",
    "![math](images/03/math.png)\n",
    "\n"
   ]
  },
  {
   "cell_type": "code",
   "execution_count": null,
   "metadata": {},
   "outputs": [],
   "source": [
    "import math\n",
    "\n",
    "print(math.pi)\n",
    "print(math.e)\n",
    "\n",
    "print(math.sqrt(2.0))\n",
    "\n",
    "print(math.sin(math.radians(90)))   # sin of 90 degrees\n"
   ]
  },
  {
   "cell_type": "markdown",
   "metadata": {
    "colab_type": "text",
    "id": "U06Lzg_cU3Gr"
   },
   "source": [
    "### The `random` module\n",
    "\n",
    "We often want to use **random numbers** in programs<sup>1</sup>. \n",
    "Here are a few typical uses:\n",
    "\n",
    "-   To play a game of chance where the computer needs to throw some\n",
    "    dice, pick a number, or flip a coin\n",
    "\n",
    "-   To shuffle a deck of playing cards randomly\n",
    "\n",
    "-   To randomly allow a new enemy spaceship to appear and shoot at you\n",
    "\n",
    "-   To simulate possible rainfall when we make a computerised model for\n",
    "    estimating the environmental impact of building a dam\n",
    "\n",
    "-   For encrypting your banking session on the Internet\n",
    "\n",
    "\n",
    "\n",
    "<sup>1</sup>It is important to note that random number generators are based on\n",
    "    a *deterministic algorithm* --- repeatable and predictable. So\n",
    "    they're called *pseudo-random generators* --- they are not genuinely\n",
    "    random."
   ]
  },
  {
   "cell_type": "code",
   "execution_count": null,
   "metadata": {},
   "outputs": [],
   "source": [
    "###### random() returns a floating point number in the range [0.0, 1.0)\n",
    "\n",
    "import random\n",
    "\n",
    "prob = random.random()\n",
    "print(prob)\n"
   ]
  },
  {
   "cell_type": "code",
   "execution_count": null,
   "metadata": {},
   "outputs": [],
   "source": [
    "###### randrange function generates an integer between its lower and upper argument\n",
    "\n",
    "diceThrow = random.randrange(1, 7)       # return an int, one of 1,2,3,4,5,6\n",
    "print(diceThrow)"
   ]
  },
  {
   "cell_type": "code",
   "execution_count": null,
   "metadata": {},
   "outputs": [],
   "source": [
    "###### converted the result of the method call to a number in the range [0.0, 5.0)\n",
    "\n",
    "prob = random.random()\n",
    "result = prob * 5\n",
    "print(result)\n"
   ]
  },
  {
   "cell_type": "markdown",
   "metadata": {
    "colab_type": "text",
    "id": "kHauPk-OKzdn"
   },
   "source": [
    "## 4.1 Our first turtle program\n",
    "\n"
   ]
  },
  {
   "cell_type": "markdown",
   "metadata": {
    "colab_type": "text",
    "id": "X67Z1ULILfld"
   },
   "source": [
    "### Simple graphics\n",
    "\n",
    "- Review the turtle module\n",
    "$\\Rightarrow$ <https://docs.python.org/3.7/library/turtle.html>\\\n",
    "\n",
    "- Every window contains a *canvas*, which is the area inside\n",
    "the window on which we can draw\n",
    "\n",
    "\n",
    "```\n",
    "import turtle             # Allows us to use turtles\n",
    "\n",
    "window = turtle.Screen()  # Creates a playground for turtles\n",
    "alex = turtle.Turtle()    # Create a turtle, assign to alex\n",
    "\n",
    "alex.forward(50)          # Tell alex to move forward by 50 units\n",
    "alex.left(90)             # Tell alex to turn by 90 degrees\n",
    "alex.forward(30)          # Complete the second side of a rectangle\n",
    "\n",
    "window.mainloop()         # Wait for user to close window\n",
    "\n",
    "turtle.bye()\n",
    "```\n",
    "\n"
   ]
  },
  {
   "cell_type": "code",
   "execution_count": null,
   "metadata": {},
   "outputs": [],
   "source": [
    "import turtle             # Allows us to use turtles\n",
    "\n",
    "window = turtle.Screen()  # Creates a playground for turtles\n",
    "alex = turtle.Turtle()    # Create a turtle, assign to alex\n",
    "\n",
    "alex.forward(50)          # Tell alex to move forward by 50 units\n",
    "alex.left(90)             # Tell alex to turn by 90 degrees\n",
    "alex.forward(30)          # Complete the second side of a rectangle\n",
    "\n",
    "window.mainloop()         # Wait for user to close window\n",
    "\n",
    "turtle.bye()"
   ]
  },
  {
   "cell_type": "code",
   "execution_count": null,
   "metadata": {
    "colab": {},
    "colab_type": "code",
    "id": "h13amj_Qvyz9"
   },
   "outputs": [],
   "source": [
    "import turtle\n",
    "\n",
    "window = turtle.Screen()\n",
    "\n",
    "window.bgcolor(\"lightgreen\")\n",
    "window.title(\"Hello, Tess!\")\n",
    "\n",
    "tess = turtle.Turtle()\n",
    "tess.color(\"blue\")\n",
    "tess.pensize(3)\n",
    "\n",
    "tess.forward(50)\n",
    "tess.left(120)\n",
    "tess.forward(50)\n",
    "\n",
    "window.mainloop()\n",
    "turtle.bye()\n"
   ]
  },
  {
   "cell_type": "markdown",
   "metadata": {
    "colab_type": "text",
    "id": "YDe_ay_AHor-"
   },
   "source": [
    "## 4.2 Instances — a herd of turtles"
   ]
  },
  {
   "cell_type": "markdown",
   "metadata": {
    "colab_type": "text",
    "id": "Teycmy-8MLxX"
   },
   "source": [
    "### Instances\n",
    "\n",
    "- From a *class* (Turtle) one may have many *objects* (**instances** of\n",
    "Turtle)\n",
    "\n",
    "- Each instance has its own **state** and **behaviour**\n",
    "\n",
    "\n",
    "``` \n",
    "import turtle\n",
    "\n",
    "window = turtle.Screen()   # Set up the window and its attributes\n",
    "window.title(\"Tess & Alex\")\n",
    "\n",
    "tess = turtle.Turtle()     # Create tess and set some attributes\n",
    "tess.color(\"Pink\"); \n",
    "\n",
    "alex = turtle.Turtle()     # Create alex\n",
    "tess.color(\"Navy\"); \n",
    "\n",
    "# ... and more\n",
    "\n",
    "```\n"
   ]
  },
  {
   "cell_type": "code",
   "execution_count": null,
   "metadata": {},
   "outputs": [],
   "source": [
    "############\n",
    "# A example with 2 turtles\n",
    "############\n",
    "\n",
    "import turtle\n",
    "\n",
    "window = turtle.Screen()   # Set up the window and its attributes\n",
    "window.bgcolor(\"lightgreen\")\n",
    "window.title(\"Tess & Alex\")\n",
    "\n",
    "tess = turtle.Turtle()     # Create tess and set some attributes\n",
    "tess.color(\"Pink\")\n",
    "tess.pensize(5)\n",
    "\n",
    "alex = turtle.Turtle()     # Create alex and set some attributes\n",
    "alex.color(\"Navy\")\n",
    "\n",
    "tess.forward(160)          # Make tess draw equilateral triangle\n",
    "tess.left(120)\n",
    "tess.forward(160)\n",
    "tess.left(120)\n",
    "tess.forward(160)\n",
    "tess.left(120)             # Complete the triangle\n",
    "\n",
    "tess.right(180)            # Turn tess around\n",
    "tess.forward(160)          # Move her away from the origin\n",
    "\n",
    "alex.forward(100)          # Make alex draw a square\n",
    "alex.left(90)\n",
    "alex.forward(100)\n",
    "alex.left(90)\n",
    "alex.forward(100)\n",
    "alex.left(90)\n",
    "alex.forward(100)\n",
    "alex.left(90)\n",
    "\n",
    "window.mainloop()\n",
    "turtle.bye()"
   ]
  }
 ],
 "metadata": {
  "colab": {
   "collapsed_sections": [],
   "name": "03-flow-conditional.ipynb",
   "private_outputs": true,
   "provenance": [],
   "toc_visible": true
  },
  "kernelspec": {
   "display_name": "Python 3",
   "language": "python",
   "name": "python3"
  },
  "language_info": {
   "codemirror_mode": {
    "name": "ipython",
    "version": 3
   },
   "file_extension": ".py",
   "mimetype": "text/x-python",
   "name": "python",
   "nbconvert_exporter": "python",
   "pygments_lexer": "ipython3",
   "version": "3.8.5"
  }
 },
 "nbformat": 4,
 "nbformat_minor": 1
}
